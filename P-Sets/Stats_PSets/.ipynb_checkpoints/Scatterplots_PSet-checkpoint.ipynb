{
 "cells": [
  {
   "cell_type": "markdown",
   "id": "45b219da-8cad-4e88-81a0-75594abcf2eb",
   "metadata": {},
   "source": [
    "# Scatterplots and Correlation PSet"
   ]
  },
  {
   "cell_type": "markdown",
   "id": "6df9362c-9e16-43b8-b5b4-1d26083b1efe",
   "metadata": {},
   "source": [
    "To start, rename the notebook in the following format:\n",
    "\n",
    "**YourLastName_Scatterplots_PSet.ipynb**\n",
    "\n",
    "For instance, mine would look like the following:\n",
    "\n",
    "**Bain_Scatterplots_PSet.ipynb**\n",
    "\n",
    "Then, run the cell below."
   ]
  },
  {
   "cell_type": "code",
   "execution_count": null,
   "id": "223e5504-9735-4f13-983c-78fd8d628f2a",
   "metadata": {},
   "outputs": [],
   "source": [
    "import matplotlib.pyplot as plt\n",
    "import numpy as np"
   ]
  },
  {
   "cell_type": "markdown",
   "id": "5e3308f2-b097-411a-aa38-2e3e6715c476",
   "metadata": {},
   "source": [
    "### Exercise 1."
   ]
  },
  {
   "cell_type": "markdown",
   "id": "fb3c4a54-fa0e-4706-af21-e15b5a4bf9ae",
   "metadata": {},
   "source": [
    "Scores for a midterm exam and a final exam for 12 students in a college math course are shown below.\n",
    "\n",
    "|Midterm|Final|\n",
    "|:-----:|:---:|\n",
    "|91|90|\n",
    "|75|74|\n",
    "|79|79|\n",
    "|94|96|\n",
    "|85|82|\n",
    "|85|85|\n",
    "|93|81|\n",
    "|78|85|\n",
    "|80|92|\n",
    "|83|77|\n",
    "|84|82|\n",
    "|79|94|"
   ]
  },
  {
   "cell_type": "markdown",
   "id": "1e07ea79-73e8-43ac-986c-d1e3f41af3b0",
   "metadata": {},
   "source": [
    "(a). Create two lists, `midterm` and `final` which consists of the scores of each test in the cell below. ***Make sure you are careful about the order of scores.***"
   ]
  },
  {
   "cell_type": "code",
   "execution_count": null,
   "id": "51da24c6-1dd2-42ba-ba12-b747aa7044c2",
   "metadata": {},
   "outputs": [],
   "source": [
    "midterm = []\n",
    "final = []"
   ]
  },
  {
   "cell_type": "markdown",
   "id": "f5548b85-0f3c-4c39-bae5-13228b4549f6",
   "metadata": {},
   "source": [
    "(b) Use NumPy in the cells below to determine the mean average score for the midterm and the final. These values will be stored as the variables `mean_midterm` and `mean_final` so you can use them in your scatterplot later.\n",
    "\n",
    "*Note*: **You need to use NumPy.** You should get that the mean score of the midterm is about 83.83 and the mean of the final is 84.75"
   ]
  },
  {
   "cell_type": "code",
   "execution_count": null,
   "id": "8f671f51-0f46-40e9-924d-4498279bb6e2",
   "metadata": {},
   "outputs": [],
   "source": [
    "mean_midterm = "
   ]
  },
  {
   "cell_type": "code",
   "execution_count": null,
   "id": "47009c21-5c27-4883-a1ee-a890c604d186",
   "metadata": {},
   "outputs": [],
   "source": [
    "mean_final = "
   ]
  },
  {
   "cell_type": "markdown",
   "id": "6b734f8d-2931-43e8-aa3d-2c2578123cee",
   "metadata": {},
   "source": [
    "Use the cells below to display the values of `mean_midterm` and `mean_final`"
   ]
  },
  {
   "cell_type": "code",
   "execution_count": null,
   "id": "f2e6769f-12f5-4e43-b783-8be1197957ef",
   "metadata": {},
   "outputs": [],
   "source": []
  },
  {
   "cell_type": "code",
   "execution_count": null,
   "id": "e5916bdb-9461-4ed0-964c-a70cc40977a4",
   "metadata": {},
   "outputs": [],
   "source": []
  },
  {
   "cell_type": "markdown",
   "id": "2db42c9c-1d48-4487-a046-3bbea25aa160",
   "metadata": {},
   "source": [
    "(c) Use Numpy in the cells below to determine the population standard deviation of both the midterm and the final. \n",
    "\n",
    "*Note*: You need to use NumPy. You should get the population standard deviation of the midterm is about 5.885 and is about 6.647 for the final."
   ]
  },
  {
   "cell_type": "code",
   "execution_count": null,
   "id": "f6bc8d78-be71-4005-93b7-225dae542bbe",
   "metadata": {},
   "outputs": [],
   "source": []
  },
  {
   "cell_type": "code",
   "execution_count": null,
   "id": "c78f4b7a-a3c7-473f-97db-9cee8d5acddb",
   "metadata": {},
   "outputs": [],
   "source": []
  },
  {
   "cell_type": "markdown",
   "id": "be85080b-72db-42bc-8578-c77c136420f4",
   "metadata": {},
   "source": [
    "(d) In the cell below, fill in the missing information to create a scatterplot of the midterm and final exam scores.\n",
    "\n",
    "*Hint*: What name did you give your midterm and final exam scores in part (a)?"
   ]
  },
  {
   "cell_type": "code",
   "execution_count": null,
   "id": "b1cc10ea-1fa8-4fab-9ea2-2730067a8070",
   "metadata": {
    "tags": []
   },
   "outputs": [],
   "source": [
    "fig, ax = plt.subplots()\n",
    "\n",
    "ax.set_title('Exam Scores')\n",
    "ax.set_xlabel('Midterm Exam Score')\n",
    "ax.set_ylabel('Final Exam Score')\n",
    "ax.scatter(\n",
    "   ,  # your midterm exam scores should go before this comma\n",
    "   ,  # your final exam scores should go before this comma\n",
    ")\n",
    "plt.axvline(\n",
    "    x = mean_midterm,\n",
    "    color='r',\n",
    "    linestyle='--'\n",
    ")\n",
    "plt.axhline(\n",
    "    y = mean_final,\n",
    "    color='r',\n",
    "    linestyle='--'\n",
    ")\n",
    "plt.show()"
   ]
  },
  {
   "cell_type": "markdown",
   "id": "3b6b8537-9e86-4622-97c9-803f0c4107f3",
   "metadata": {},
   "source": [
    "(e) From the scatter plot, do the midterm exam and final exam scores seem to have a positive correlation, a negative correlation, or no corrleation?"
   ]
  },
  {
   "cell_type": "markdown",
   "id": "69677291-e84f-4c01-9279-571c6b96f790",
   "metadata": {},
   "source": []
  },
  {
   "cell_type": "markdown",
   "id": "2731b0c4-0b1f-4b7e-8371-cf3ec83ae8d9",
   "metadata": {},
   "source": [
    "Don't forget to ***download your notebook*** once you have completed the PSet."
   ]
  },
  {
   "cell_type": "code",
   "execution_count": null,
   "id": "8b59dadd-79c7-41e5-bc00-78e062954323",
   "metadata": {},
   "outputs": [],
   "source": []
  }
 ],
 "metadata": {
  "kernelspec": {
   "display_name": "Python 3 (ipykernel)",
   "language": "python",
   "name": "python3"
  },
  "language_info": {
   "codemirror_mode": {
    "name": "ipython",
    "version": 3
   },
   "file_extension": ".py",
   "mimetype": "text/x-python",
   "name": "python",
   "nbconvert_exporter": "python",
   "pygments_lexer": "ipython3",
   "version": "3.9.13"
  }
 },
 "nbformat": 4,
 "nbformat_minor": 5
}
