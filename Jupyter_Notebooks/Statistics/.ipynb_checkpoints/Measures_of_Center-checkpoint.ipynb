{
 "cells": [
  {
   "cell_type": "markdown",
   "id": "ce49d475-f809-4716-8a83-15956d55f24b",
   "metadata": {},
   "source": [
    "# Measures of Center"
   ]
  },
  {
   "cell_type": "code",
   "execution_count": null,
   "id": "0a520e5a-e1d1-486b-9ec0-52a0cb38b3ec",
   "metadata": {},
   "outputs": [],
   "source": [
    "import statistics as stats"
   ]
  },
  {
   "cell_type": "markdown",
   "id": "fc6f05d8-db62-4a41-a69c-36d8c691a5a3",
   "metadata": {},
   "source": [
    "## Mean"
   ]
  },
  {
   "cell_type": "code",
   "execution_count": null,
   "id": "4c5959c3-eadb-4bf0-87f4-5354a237d589",
   "metadata": {},
   "outputs": [],
   "source": [
    "x = [5, 11, 14, 14, 13,\n",
    "     11, 10, 10, 12, 10,\n",
    "     9, 15, 6, 7, 15,\n",
    "     14, 8, 9, 12, 11]\n",
    "\n",
    "stats.mean(x)"
   ]
  },
  {
   "cell_type": "markdown",
   "id": "0fef2d15-ddf6-43fc-afa4-a96e065884d2",
   "metadata": {},
   "source": [
    "## Median"
   ]
  },
  {
   "cell_type": "code",
   "execution_count": null,
   "id": "918db86d-cc90-48ad-a5bf-9d31ad2723db",
   "metadata": {},
   "outputs": [],
   "source": [
    "x = [5, 11, 14, 14, 13,\n",
    "     11, 10, 10, 12, 10,\n",
    "     9, 15, 6, 7, 15,\n",
    "     14, 8, 9, 12, 11]\n",
    "\n",
    "stats.median(x)"
   ]
  },
  {
   "cell_type": "markdown",
   "id": "4588de14-c92c-448e-99c4-ca384551c040",
   "metadata": {},
   "source": [
    "## Mode"
   ]
  },
  {
   "cell_type": "code",
   "execution_count": null,
   "id": "d64314a5-a3ca-4e1f-a6a5-38426e53c735",
   "metadata": {},
   "outputs": [],
   "source": [
    "x = [5, 11, 14, 14, 13,\n",
    "     11, 10, 10, 12, 10,\n",
    "     9, 15, 6, 7, 15,\n",
    "     14, 8, 9, 12, 11]\n",
    "\n",
    "stats.mode(x)"
   ]
  },
  {
   "cell_type": "markdown",
   "id": "81f2fed5-f556-495d-a1f6-0f4620516572",
   "metadata": {},
   "source": [
    "The above data set, x, actually has 3 modes: 10, 11, and 14.\n",
    "This happens because `mode` will return the *first* instance of the mode. \n",
    "In the data set, 11 appears *before* 14, so that is why 11 was returned as the mode.\n",
    "\n",
    "To fix this, we can use the `multimode` method. \n",
    "\n",
    "* If there is only one mode, `multimode` will return that single mode.\n",
    "* If there is no mode, `multimode` will return the entire list."
   ]
  },
  {
   "cell_type": "code",
   "execution_count": null,
   "id": "486c83a1-a7d3-43f5-a2c0-ebb2ca04d74f",
   "metadata": {},
   "outputs": [],
   "source": [
    "stats.multimode(x)"
   ]
  },
  {
   "cell_type": "markdown",
   "id": "dc359cb7-bf46-43ec-97c9-a1fe2589181a",
   "metadata": {},
   "source": [
    "## Weighted Mean"
   ]
  },
  {
   "cell_type": "markdown",
   "id": "3d752b6f-9333-4729-8873-6c51f0845dc6",
   "metadata": {},
   "source": [
    "Right about here is where the `statistics` library starts to show its weaknesses.\n",
    "\n",
    "As of this writing, the `statistics` library does not have a method for calculating weighted means.\n",
    "\n",
    "While we could write a function of our own to do this (go ahead and give it a shot), we will instead make use of the vast number of functions we have at our disposal with NumPy.\n",
    "\n",
    "We will use NumPy for our calculation needs the rest of the section. "
   ]
  },
  {
   "cell_type": "code",
   "execution_count": null,
   "id": "0fb11b52-df2a-437f-9867-95ff9c44ab8a",
   "metadata": {},
   "outputs": [],
   "source": [
    "import numpy as np"
   ]
  },
  {
   "cell_type": "code",
   "execution_count": null,
   "id": "dcfb107a-339a-464f-811c-dd98c53390b4",
   "metadata": {},
   "outputs": [],
   "source": [
    "x = [5, 11, 14, 14, 13,\n",
    "     11, 10, 10, 12, 10,\n",
    "     9, 15, 6, 7, 15,\n",
    "     14, 8, 9, 12, 11]\n",
    "\n",
    "np.mean(x)"
   ]
  },
  {
   "cell_type": "code",
   "execution_count": null,
   "id": "465b55bd-b06c-42bf-8627-f7f3bf757e76",
   "metadata": {},
   "outputs": [],
   "source": [
    "np.median(x)"
   ]
  },
  {
   "cell_type": "markdown",
   "id": "743966ab-3b97-48ed-8a3e-1fbdd43d2ede",
   "metadata": {},
   "source": [
    "NumPy does not have a method to calculate the mode of a data set.\n",
    "\n",
    "There are other ways, but since we won't be working with mode as much as the mean and median, I would adivse to use the `statistics` library when finding the mode as mentioned above."
   ]
  },
  {
   "cell_type": "markdown",
   "id": "479c6f14-b829-467f-836b-cccee2b919da",
   "metadata": {},
   "source": [
    "### Weighted Mean in NumPy"
   ]
  },
  {
   "cell_type": "markdown",
   "id": "5e1bdf1c-77e0-40d3-a077-283fa1f7a38a",
   "metadata": {},
   "source": [
    "To calculate the **weighted** mean in NumPy, we use the `average` method."
   ]
  },
  {
   "cell_type": "code",
   "execution_count": null,
   "id": "6466cb75-ff54-4a9f-9be8-ef11381f79c8",
   "metadata": {},
   "outputs": [],
   "source": [
    "grades = [4,4,3,2]\n",
    "credits = [4,3,5,3]\n",
    "\n",
    "np.average(grades, weights=credits)"
   ]
  },
  {
   "cell_type": "code",
   "execution_count": null,
   "id": "cb265126-46a3-4f2b-bfdc-748696b46d18",
   "metadata": {},
   "outputs": [],
   "source": [
    "scores = [87,94,77]\n",
    "weights = [60,20,20]\n",
    "\n",
    "np.average(scores, weights=weights)"
   ]
  },
  {
   "cell_type": "markdown",
   "id": "cab21d37-8910-4bd7-81c8-7d40bc3a4c4a",
   "metadata": {},
   "source": []
  }
 ],
 "metadata": {
  "kernelspec": {
   "display_name": "Python 3 (ipykernel)",
   "language": "python",
   "name": "python3"
  },
  "language_info": {
   "codemirror_mode": {
    "name": "ipython",
    "version": 3
   },
   "file_extension": ".py",
   "mimetype": "text/x-python",
   "name": "python",
   "nbconvert_exporter": "python",
   "pygments_lexer": "ipython3",
   "version": "3.9.13"
  }
 },
 "nbformat": 4,
 "nbformat_minor": 5
}
