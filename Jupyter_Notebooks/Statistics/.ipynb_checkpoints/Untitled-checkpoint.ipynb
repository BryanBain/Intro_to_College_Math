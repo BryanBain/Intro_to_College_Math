{
 "cells": [
  {
   "cell_type": "markdown",
   "id": "9d0c48ae-6b35-4c59-b345-c5efedb0b699",
   "metadata": {},
   "source": [
    "# Probability: OR"
   ]
  },
  {
   "cell_type": "markdown",
   "id": "ab4ed1a5-2504-482e-b9ee-b551683c2ea6",
   "metadata": {},
   "source": [
    "## Pandas with OR"
   ]
  },
  {
   "cell_type": "markdown",
   "id": "aa2260ff-d096-432a-9384-65290ee81726",
   "metadata": {},
   "source": [
    "* `df[df['column name']]` use |\n",
    "* Dot operator use |\n",
    "* Query use `or`"
   ]
  },
  {
   "cell_type": "code",
   "execution_count": null,
   "id": "69aae260-a03f-4063-821e-22f1c9a04190",
   "metadata": {},
   "outputs": [],
   "source": [
    "import pandas as pd"
   ]
  },
  {
   "cell_type": "code",
   "execution_count": null,
   "id": "da05e509-c922-49ad-b38e-b95585755ef9",
   "metadata": {},
   "outputs": [],
   "source": [
    "df = pd.read_csv('Datasets/assessment_scores.csv')"
   ]
  },
  {
   "cell_type": "markdown",
   "id": "d330b41e-61da-42d8-86fe-a0e72093936f",
   "metadata": {},
   "source": [
    "In Pandas, much like in math, an observation will be counted as `True` if **at least one** of the conditions is true."
   ]
  },
  {
   "cell_type": "markdown",
   "id": "c196bf5a-28b2-45bb-a5c3-5b2b9eb4677e",
   "metadata": {},
   "source": [
    "### Example"
   ]
  },
  {
   "cell_type": "markdown",
   "id": "8790a0c5-f4cc-47d9-bf2b-5da022afa3b8",
   "metadata": {},
   "source": [
    "A student is selected at random. What is the probability that the student scored 500 or more on the *sci10* exam or is from California (CA)?"
   ]
  },
  {
   "cell_type": "markdown",
   "id": "085ea017-0936-4d1c-8a4c-027544d07b3c",
   "metadata": {},
   "source": [
    "#### Method 1:"
   ]
  },
  {
   "cell_type": "code",
   "execution_count": null,
   "id": "4e50f600-e98b-4351-8ad4-9c46ec737bbb",
   "metadata": {},
   "outputs": [],
   "source": [
    "numerator1 = df[\n",
    "    (df['sci10'] >= 500) | (df['state'] == \"CA\")\n",
    "]"
   ]
  },
  {
   "cell_type": "code",
   "execution_count": null,
   "id": "c041a699-553f-4b37-9a0c-6771d7c3cd24",
   "metadata": {},
   "outputs": [],
   "source": [
    "denom = len(df)"
   ]
  },
  {
   "cell_type": "code",
   "execution_count": null,
   "id": "4decfa7f-81f1-4d0f-8a62-978513350da7",
   "metadata": {},
   "outputs": [],
   "source": [
    "len(numerator1) / denom"
   ]
  },
  {
   "cell_type": "markdown",
   "id": "a61d9b09-776d-47fe-bce2-67791483fad3",
   "metadata": {},
   "source": [
    "#### Method 2:"
   ]
  },
  {
   "cell_type": "code",
   "execution_count": null,
   "id": "9137e4ea-f4b0-4f49-a928-10ce152e289a",
   "metadata": {},
   "outputs": [],
   "source": [
    "numerator2 = df[\n",
    "    (df.sci10 >= 500) | (df.state == \"CA\")\n",
    "]"
   ]
  },
  {
   "cell_type": "code",
   "execution_count": null,
   "id": "fc9f238a-f523-4cc4-b348-648cf6ca5267",
   "metadata": {},
   "outputs": [],
   "source": [
    "len(numerator2) / denom"
   ]
  },
  {
   "cell_type": "markdown",
   "id": "7e4b8a87-6ff1-482b-b450-eeda71a4f0a0",
   "metadata": {},
   "source": [
    "#### Method 3:"
   ]
  },
  {
   "cell_type": "code",
   "execution_count": null,
   "id": "1afd951d-339e-4a35-9a8a-015439be1c38",
   "metadata": {},
   "outputs": [],
   "source": [
    "numerator3 = df.query(\n",
    "    'sci10 >= 500 or state == \"CA\" '\n",
    ")"
   ]
  },
  {
   "cell_type": "code",
   "execution_count": null,
   "id": "176a481b-c491-4dbc-88ba-9a776f72c624",
   "metadata": {},
   "outputs": [],
   "source": [
    "len(numerator3) / denom"
   ]
  },
  {
   "cell_type": "code",
   "execution_count": null,
   "id": "ae8ec2fe-ac13-4a37-872b-98bf09caa790",
   "metadata": {},
   "outputs": [],
   "source": []
  }
 ],
 "metadata": {
  "kernelspec": {
   "display_name": "Python 3 (ipykernel)",
   "language": "python",
   "name": "python3"
  },
  "language_info": {
   "codemirror_mode": {
    "name": "ipython",
    "version": 3
   },
   "file_extension": ".py",
   "mimetype": "text/x-python",
   "name": "python",
   "nbconvert_exporter": "python",
   "pygments_lexer": "ipython3",
   "version": "3.9.13"
  }
 },
 "nbformat": 4,
 "nbformat_minor": 5
}
