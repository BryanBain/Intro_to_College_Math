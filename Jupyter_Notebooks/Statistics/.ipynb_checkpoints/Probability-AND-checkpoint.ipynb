{
 "cells": [
  {
   "cell_type": "markdown",
   "id": "6a12e667-9345-4ed9-b79d-ebadfd95d4e2",
   "metadata": {},
   "source": [
    "# Probability: AND"
   ]
  },
  {
   "cell_type": "markdown",
   "id": "bd76cf3c-ec0e-4aa5-8595-566c890e39df",
   "metadata": {},
   "source": [
    "## Pandas with AND"
   ]
  },
  {
   "cell_type": "markdown",
   "id": "ea1e5a96-c7dd-4ea9-9c43-c8343a2ee096",
   "metadata": {},
   "source": [
    "In the last section, we saw how to counts in a data frame based on a given condition. Now, we are interested in getting counts of two (or possibly more) events separated by the word *and*.\n",
    "\n",
    "We will look at each of the three methods of doing this using our `assessment_scores.csv` file."
   ]
  },
  {
   "cell_type": "code",
   "execution_count": null,
   "id": "2f63c87a-afdb-4890-b0c0-51a1a372b4a5",
   "metadata": {},
   "outputs": [],
   "source": [
    "import pandas as pd"
   ]
  },
  {
   "cell_type": "code",
   "execution_count": null,
   "id": "ac7847eb-2beb-4919-8915-ef54c8ce2291",
   "metadata": {},
   "outputs": [],
   "source": [
    "df = pd.read_csv('Datasets/assessment_scores.csv')"
   ]
  },
  {
   "cell_type": "markdown",
   "id": "8d375372-3f65-40f7-a279-a3bdcad1f34f",
   "metadata": {},
   "source": [
    "In each of our methods, we will be examining the probability of randomly selecting a student that is from Ohio (OH) **and** scored more than 550 on the *math10* assessment:\n",
    "\n",
    "$$P(\\text{from Ohio and scored more than 550 on math10})$$\n",
    "\n",
    "So, this question involves two conditional statements; both of which must be true:\n",
    "\n",
    "1. The student is from Ohio (OH).\n",
    "2. The student scored more than 550 on the *math10* assessment."
   ]
  },
  {
   "cell_type": "markdown",
   "id": "196b3722-df65-40e3-baf0-7e507091456f",
   "metadata": {},
   "source": [
    "We will also store the denominator as a variable, since we will be using it frequently."
   ]
  },
  {
   "cell_type": "code",
   "execution_count": null,
   "id": "95c1a9f8-0a49-487c-aea5-1d59b75413cf",
   "metadata": {},
   "outputs": [],
   "source": [
    "denom = len(df)"
   ]
  },
  {
   "cell_type": "code",
   "execution_count": null,
   "id": "cb6c7556-97e6-4296-b365-1689a9702ecb",
   "metadata": {},
   "outputs": [],
   "source": [
    "denom"
   ]
  },
  {
   "cell_type": "markdown",
   "id": "d9967dcc-3cbc-409b-9e3a-96a4529be54b",
   "metadata": {},
   "source": [
    "### Method 1: Using `df[df[\"column\"]]`"
   ]
  },
  {
   "cell_type": "markdown",
   "id": "04a3279b-1e79-43cf-8de5-a64f9759c4a7",
   "metadata": {},
   "source": [
    "A couple of things to note using this method:\n",
    "\n",
    "* We need to wrap each part of the conditional statement in parentheses.\n",
    "* We use an ampersand, &, to represent the word AND."
   ]
  },
  {
   "cell_type": "code",
   "execution_count": null,
   "id": "90a12a2d-ef4d-4ac7-8fec-426ee5c343e7",
   "metadata": {},
   "outputs": [],
   "source": [
    "numer1 = df[\n",
    "    (df[\"state\"] == \"OH\") & (df[\"math10\"] > 550)\n",
    "]"
   ]
  },
  {
   "cell_type": "code",
   "execution_count": null,
   "id": "dec660bb-e27e-4e8b-a809-24cecb85bd93",
   "metadata": {},
   "outputs": [],
   "source": [
    "len(numer1) / denom"
   ]
  },
  {
   "cell_type": "markdown",
   "id": "9206abf3-5df3-46ac-9df6-ac79a557497e",
   "metadata": {},
   "source": [
    "### Method 2: Using the Dot Operator"
   ]
  },
  {
   "cell_type": "markdown",
   "id": "75b082e2-dedf-489e-9125-de94ab33f9b9",
   "metadata": {},
   "source": [
    "Recall from the previous section that the dot operator method is very similar in structure to Method 1. "
   ]
  },
  {
   "cell_type": "code",
   "execution_count": null,
   "id": "415463c6-91a9-4c9a-932c-8497dee1c86c",
   "metadata": {},
   "outputs": [],
   "source": [
    "numer2 = df[\n",
    "    (df.state == \"OH\") & (df.math10 > 550)\n",
    "]"
   ]
  },
  {
   "cell_type": "code",
   "execution_count": null,
   "id": "5966967f-a2dd-4b4e-9201-82603d08620a",
   "metadata": {},
   "outputs": [],
   "source": [
    "len(numer2) / denom"
   ]
  },
  {
   "cell_type": "markdown",
   "id": "49c9b21c-ef00-4dcb-a4af-ee282fa01fd4",
   "metadata": {},
   "source": [
    "### Method 3: Using a Query"
   ]
  },
  {
   "cell_type": "markdown",
   "id": "a2bdde8c-25a1-40b6-b609-4d3cbbfa9842",
   "metadata": {},
   "source": [
    "Using the `df.query()` method is just a *little* bit different from the above two methods. This time, instead of using an ampersand to represent the word AND, we are going to use `and` directly."
   ]
  },
  {
   "cell_type": "code",
   "execution_count": null,
   "id": "5368f433-a3b1-46f1-9c84-47a710365a1d",
   "metadata": {},
   "outputs": [],
   "source": [
    "numer3 = df.query(\n",
    "    'state == \"OH\" and math10 > 550'\n",
    ")"
   ]
  },
  {
   "cell_type": "code",
   "execution_count": null,
   "id": "cda2253a-bdb8-4a35-bf05-2569da0fa9a0",
   "metadata": {},
   "outputs": [],
   "source": [
    "len(numer3) / denom"
   ]
  },
  {
   "cell_type": "markdown",
   "id": "666619b0-3f5a-43d4-9976-eca2feb1dd17",
   "metadata": {},
   "source": [
    "### Extracting a Range of Dates "
   ]
  },
  {
   "cell_type": "markdown",
   "id": "bdc1dc9c-c36f-4c3f-a28b-7a5770421cca",
   "metadata": {},
   "source": [
    "We can even use either of the above three methods to get a sense of how many students were born in a given month. \n",
    "\n",
    "For instance, let's say we are asked to find the probability that a randomly selected student is born in July.\n",
    "\n",
    "*Note*: July has 31 days"
   ]
  },
  {
   "cell_type": "markdown",
   "id": "e3d1a14a-f040-4745-a5de-eb077c667d52",
   "metadata": {},
   "source": [
    "In order for a student to be born in July, their *dob* needs to be greater than or equal to July 1 **and** less than or equal to July 31."
   ]
  },
  {
   "cell_type": "code",
   "execution_count": null,
   "id": "6c2efb42-138a-4c65-8c7e-d2fe1e0e6bc7",
   "metadata": {},
   "outputs": [],
   "source": [
    "numer1July = df[\n",
    "    (df['dob'] >= \"07/01/2006\") & (df['dob'] <= \"07/31/2006\")\n",
    "]"
   ]
  },
  {
   "cell_type": "code",
   "execution_count": null,
   "id": "66aa45f4-1337-4d60-babe-49b1d4c5c1b2",
   "metadata": {},
   "outputs": [],
   "source": [
    "len(numer1July) / denom"
   ]
  },
  {
   "cell_type": "code",
   "execution_count": null,
   "id": "9481797e-a1c0-4914-a532-5b3d1a4ef748",
   "metadata": {},
   "outputs": [],
   "source": [
    "numer2July = df[\n",
    "    (df.dob >= \"07/01/2006\") & (df.dob <= \"07/31/2006\")\n",
    "]"
   ]
  },
  {
   "cell_type": "code",
   "execution_count": null,
   "id": "124ea973-80cf-4412-a9f3-086318fde9f6",
   "metadata": {},
   "outputs": [],
   "source": [
    "len(numer2July) / denom"
   ]
  },
  {
   "cell_type": "code",
   "execution_count": null,
   "id": "5d817f4d-2557-4cf8-95aa-f1bb36d132fb",
   "metadata": {},
   "outputs": [],
   "source": [
    "numer3July = df.query(\n",
    "    'dob >= \"07/01/2006\" and dob <= \"07/31/2006\"'\n",
    ")"
   ]
  },
  {
   "cell_type": "code",
   "execution_count": null,
   "id": "130b952f-1f62-459d-ac38-305dcf68c75b",
   "metadata": {},
   "outputs": [],
   "source": [
    "len(numer3July) / denom"
   ]
  },
  {
   "cell_type": "markdown",
   "id": "25dd55f5-f244-41bb-a636-8ceaa77187d7",
   "metadata": {},
   "source": [
    "## Conditional Probability"
   ]
  },
  {
   "cell_type": "markdown",
   "id": "e9c8b826-a55e-4950-8b64-b280b98bf826",
   "metadata": {},
   "source": [
    "The denominator is going to be the count of items (students) that follow either of the following phrases:\n",
    "\n",
    "* If \n",
    "* Given that\n",
    "* Suppose"
   ]
  },
  {
   "cell_type": "markdown",
   "id": "05e2d347-5f75-4c5c-8de4-ddf48f03eaf8",
   "metadata": {},
   "source": [
    "For our example, we will look at the probability that a student receives a 350 or higher on the *hist10* exam given that their birthday is in July.\n",
    "\n",
    "$$P(\\text{hist10 $\\geq$ 350 | birthday in July})$$"
   ]
  },
  {
   "cell_type": "markdown",
   "id": "0db45a2e-9082-4ab6-844a-5cd05fdb079b",
   "metadata": {},
   "source": [
    "* Numerator is the number of students with hist10 scores $\\geq$ 350 **and** born in July.\n",
    "* Denominator is the number of students born in July"
   ]
  },
  {
   "cell_type": "markdown",
   "id": "2f905107-351e-48a7-bf62-4186299fdc8a",
   "metadata": {},
   "source": [
    "### Method 1"
   ]
  },
  {
   "cell_type": "code",
   "execution_count": null,
   "id": "40931d4b-6bcc-4d98-8d7f-ff1b9dd268b7",
   "metadata": {},
   "outputs": [],
   "source": [
    "denom = df[\n",
    "    (df['dob'] >= \"07/01/2006\") & (df['dob'] <= \"07/31/2006\")\n",
    "]"
   ]
  },
  {
   "cell_type": "code",
   "execution_count": null,
   "id": "742cbbf3-fe74-4c45-916c-ef1c29b0591e",
   "metadata": {},
   "outputs": [],
   "source": [
    "numer = df[\n",
    "    (df['hist10'] >= 350) & (df['dob'] >= \"07/01/2006\") & (df['dob'] <= \"07/31/2006\")\n",
    "]"
   ]
  },
  {
   "cell_type": "code",
   "execution_count": null,
   "id": "b77295c1-893a-4ddb-b0eb-26bb471d337e",
   "metadata": {},
   "outputs": [],
   "source": [
    "len(numer) / len(denom)"
   ]
  },
  {
   "cell_type": "markdown",
   "id": "07203327-ce9c-4ab7-b800-35d685ab6bb6",
   "metadata": {},
   "source": [
    "### Method 2"
   ]
  },
  {
   "cell_type": "code",
   "execution_count": null,
   "id": "3e739468-df40-4439-b2f1-23aead57cbf4",
   "metadata": {},
   "outputs": [],
   "source": [
    "denom = df[\n",
    "    (df.dob >= \"07/01/2006\") & (df['dob'] <= \"07/31/2006\")\n",
    "]"
   ]
  },
  {
   "cell_type": "code",
   "execution_count": null,
   "id": "f821338e-7481-4d26-80bc-13f2bd233087",
   "metadata": {},
   "outputs": [],
   "source": [
    "numer = df[\n",
    "    (df.hist10 >= 350) & (df.dob >= \"07/01/2006\") & (df['dob'] <= \"07/31/2006\")\n",
    "]"
   ]
  },
  {
   "cell_type": "code",
   "execution_count": null,
   "id": "6b9ae234-48f9-46d3-9dee-e767f17d839a",
   "metadata": {},
   "outputs": [],
   "source": [
    "len(numer) / len(denom)"
   ]
  },
  {
   "cell_type": "markdown",
   "id": "0e2abfff-abb7-4a7b-a9a0-8203f1f332f6",
   "metadata": {},
   "source": [
    "### Method 3"
   ]
  },
  {
   "cell_type": "code",
   "execution_count": null,
   "id": "90c4b6a5-4e72-4041-989f-e6c28d851dc4",
   "metadata": {},
   "outputs": [],
   "source": [
    "denom = df.query(\n",
    "    'dob >= \"07/01/2006\" and dob <= \"07/31/2006\"'\n",
    ")"
   ]
  },
  {
   "cell_type": "code",
   "execution_count": null,
   "id": "7e311458-6979-430b-bd08-8d1f18bbd6dc",
   "metadata": {},
   "outputs": [],
   "source": [
    "numer = df.query(\n",
    "    'hist10 >= 350 and dob >= \"07/01/2006\" and dob <= \"07/31/2006\"'\n",
    ")"
   ]
  },
  {
   "cell_type": "code",
   "execution_count": null,
   "id": "e2f48069-c4fa-4ed9-9c2d-a5a52fb1d16e",
   "metadata": {},
   "outputs": [],
   "source": [
    "len(numer) / len(denom)"
   ]
  },
  {
   "cell_type": "markdown",
   "id": "2c95a8a8-0c74-40f6-bfa7-761c0b67a7a6",
   "metadata": {},
   "source": [
    "### Exercise 1"
   ]
  },
  {
   "cell_type": "markdown",
   "id": "85618dac-59b2-4d67-9851-0bead730cbad",
   "metadata": {},
   "source": [
    "Find the probability that a randomly selected student "
   ]
  }
 ],
 "metadata": {
  "kernelspec": {
   "display_name": "Python 3 (ipykernel)",
   "language": "python",
   "name": "python3"
  },
  "language_info": {
   "codemirror_mode": {
    "name": "ipython",
    "version": 3
   },
   "file_extension": ".py",
   "mimetype": "text/x-python",
   "name": "python",
   "nbconvert_exporter": "python",
   "pygments_lexer": "ipython3",
   "version": "3.9.13"
  }
 },
 "nbformat": 4,
 "nbformat_minor": 5
}
