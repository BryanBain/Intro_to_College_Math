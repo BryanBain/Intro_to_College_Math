{
 "cells": [
  {
   "cell_type": "markdown",
   "id": "31cc0d73-9d0a-4931-9c5f-82cce38e2656",
   "metadata": {
    "slideshow": {
     "slide_type": "slide"
    },
    "tags": []
   },
   "source": [
    "# Bar Graphs and Histograms"
   ]
  },
  {
   "cell_type": "code",
   "execution_count": null,
   "id": "3a5512b0-48b1-4c66-b551-cc08400b0124",
   "metadata": {
    "slideshow": {
     "slide_type": "fragment"
    },
    "tags": []
   },
   "outputs": [],
   "source": [
    "import matplotlib.pyplot as plt  # for creating the visualizations"
   ]
  },
  {
   "cell_type": "code",
   "execution_count": null,
   "id": "ce583d94-2191-44ec-8a7f-c64081546975",
   "metadata": {
    "slideshow": {
     "slide_type": "fragment"
    },
    "tags": []
   },
   "outputs": [],
   "source": [
    "from collections import Counter  # this will make the code much easier"
   ]
  },
  {
   "cell_type": "code",
   "execution_count": null,
   "id": "83231526-1d46-41b2-8294-bc4e35cf47c1",
   "metadata": {
    "slideshow": {
     "slide_type": "fragment"
    },
    "tags": []
   },
   "outputs": [],
   "source": [
    "import numpy as np  # needed for cluster (grouped) bar chart"
   ]
  },
  {
   "cell_type": "markdown",
   "id": "d200199c-413b-4523-9b4a-0b98a7ef44bb",
   "metadata": {
    "slideshow": {
     "slide_type": "slide"
    },
    "tags": []
   },
   "source": [
    "# Bar Graph with Known Frequencies"
   ]
  },
  {
   "cell_type": "markdown",
   "id": "fd8499bd-57f8-4a0b-8f07-29c280e56b92",
   "metadata": {
    "slideshow": {
     "slide_type": "fragment"
    },
    "tags": []
   },
   "source": [
    "The following will produce a bar chart for the introductory example (not Example 1) in the notes in which the frequencies are already known.\n",
    "\n",
    "Both horizontal and vertical axes are in list form; indicated by the left and right square brackets: [ ]\n",
    "\n",
    "Notice that each category is between single quotation marks (double quotation marks are fine too) and are separated by commas. *Note*: You do not need to include the space after each comma.\n",
    "\n",
    "Also, if you want all of your bars to be one color (default is blue-ish), you can either delete the `color = bar_colors` line or comment it out by putting a hashtag, #, in front of it."
   ]
  },
  {
   "cell_type": "code",
   "execution_count": null,
   "id": "677432f0-04a8-4a13-b83b-bb6ddb8a7859",
   "metadata": {
    "slideshow": {
     "slide_type": "slide"
    },
    "tags": []
   },
   "outputs": [],
   "source": [
    "days = ['Mon', 'Tue', 'Wed', 'Thur', 'Fri']\n",
    "freq = [5, 8, 7, 6, 9]\n",
    "\n",
    "fig, ax = plt.subplots()\n",
    "bar_colors = ['blue', 'green']  # bars can be different colors\n",
    "chart = ax.bar(\n",
    "    days,\n",
    "    freq,\n",
    "    color = bar_colors\n",
    ")\n",
    "ax.set_title(\"Bar Chart Introduction\")  # create a title\n",
    "ax.set_xlabel(\"Day of Week\")  # label the x-axis\n",
    "ax.set_ylabel(\"Frequency\")    # label the y-axis\n",
    "ax.bar_label(chart)  # provides labels for each bar's height\n",
    "\n",
    "plt.show()"
   ]
  },
  {
   "cell_type": "markdown",
   "id": "18e449e6-8ade-4c31-9fb3-25e59426955c",
   "metadata": {
    "slideshow": {
     "slide_type": "slide"
    },
    "tags": []
   },
   "source": [
    "# Clustered Bar Graph\n",
    "\n",
    "For this, we need to shift the bars for each week's frequencies so that they don't overlap with each other or stack on top of each other. This means adjusting some things in the `ax.bar` methods."
   ]
  },
  {
   "cell_type": "code",
   "execution_count": null,
   "id": "86a12ad6-5d19-428c-9297-113e5f648261",
   "metadata": {
    "slideshow": {
     "slide_type": "slide"
    },
    "tags": []
   },
   "outputs": [],
   "source": [
    "days = ['Mon', 'Tue', 'Wed', 'Thur', 'Fri']\n",
    "week1_freq = [5, 8, 7, 6, 9]\n",
    "week2_freq = [7, 4, 10, 3, 8]\n",
    "\n",
    "x = np.arange(len(days))  # the days' label locations\n",
    "width = 0.25  # the width of the bars\n",
    "\n",
    "fig, ax = plt.subplots()\n",
    "week1 = ax.bar(x-width/2, week1_freq, width, label = \"Week 1\", color='red')\n",
    "week2 = ax.bar(x+width/2, week2_freq, width, label = \"Week 2\", color='blue')\n",
    "ax.set_title(\"Clustered Bar Chart\")  \n",
    "ax.set_xlabel(\"Day of Week\")\n",
    "ax.set_ylabel(\"Frequency\")\n",
    "plt.xticks(x, days)\n",
    "ax.legend()  # needed to distinguish each week's frequency\n",
    "ax.bar_label(week1)\n",
    "ax.bar_label(week2)\n",
    "\n",
    "plt.show()"
   ]
  },
  {
   "cell_type": "markdown",
   "id": "ebbaf861-201f-4121-ad59-4a7d4329d2af",
   "metadata": {
    "slideshow": {
     "slide_type": "slide"
    },
    "tags": []
   },
   "source": [
    "# Horizontal Bar Graph with Known Frequencies"
   ]
  },
  {
   "cell_type": "code",
   "execution_count": null,
   "id": "7fb97e7e-5ede-40bf-8f62-6a97c59fc1f9",
   "metadata": {
    "slideshow": {
     "slide_type": "slide"
    },
    "tags": []
   },
   "outputs": [],
   "source": [
    "days = ['Mon', 'Tue', 'Wed', 'Thur', 'Fri']\n",
    "freq = [5, 8, 7, 6, 9]\n",
    "\n",
    "fig, ax = plt.subplots()\n",
    "bar_colors = ['blue', 'green']  # bars can be different colors\n",
    "chart = ax.barh(\n",
    "    days,\n",
    "    freq,\n",
    "    color = bar_colors\n",
    ")\n",
    "ax.invert_yaxis()  # go from Mon to Fri instead of Fri to Mon\n",
    "ax.set_title(\"Bar Chart Introduction\")  # create a title\n",
    "ax.set_xlabel(\"Day of Week\")  # label the x-axis\n",
    "ax.set_ylabel(\"Frequency\")    # label the y-axis\n",
    "ax.bar_label(chart)  # provides labels for each bar's height\n",
    "\n",
    "plt.show()"
   ]
  },
  {
   "cell_type": "markdown",
   "id": "ff1e08aa-7e70-49c9-8575-73e6cacee5ea",
   "metadata": {
    "slideshow": {
     "slide_type": "slide"
    },
    "tags": []
   },
   "source": [
    "# Bar Graphs with Raw Data"
   ]
  },
  {
   "cell_type": "markdown",
   "id": "dfb442a8-d6a9-44b0-97d5-5d6aba4a0d51",
   "metadata": {
    "slideshow": {
     "slide_type": "fragment"
    },
    "tags": []
   },
   "source": [
    "You can even break longer lists across multiple new lines. **DON'T FORGET TO INCLUDE THE COMMA AT THE END OF EACH LINE** (with exception to the last item in the list).\n",
    "\n",
    "Later on, we'll see how to import lists that have already been created for us so we don't have to type all of these values out.\n",
    "\n",
    "The following is the code to create a bar graph for Example 1."
   ]
  },
  {
   "cell_type": "code",
   "execution_count": null,
   "id": "64b7f019-65ab-47fa-85bf-fdd59d232956",
   "metadata": {
    "slideshow": {
     "slide_type": "slide"
    },
    "tags": []
   },
   "outputs": [],
   "source": [
    "ratings = [\n",
    "2,3,1,2,3,4,\n",
    "1,5,5,2,2,4,\n",
    "5,3,2,5,3,4,\n",
    "4,3,5,1,1,1,\n",
    "3,5,3,1,4,5\n",
    "]\n",
    "\n",
    "freqs = Counter(ratings)\n",
    "horiz_axis = freqs.keys()\n",
    "vert_axis = freqs.values()\n",
    "\n",
    "fig, ax = plt.subplots()\n",
    "bar_colors = ['blue', 'green', 'red']\n",
    "chart = ax.bar(horiz_axis, vert_axis, color = bar_colors)\n",
    "ax.set_title(\"Example 1: Frequency Bar Graph\")  \n",
    "ax.set_xlabel(\"Rating\")  \n",
    "ax.set_ylabel(\"Frequency\")    \n",
    "ax.bar_label(chart)  \n",
    "\n",
    "plt.show()"
   ]
  },
  {
   "cell_type": "markdown",
   "id": "0c0fdc5f-af51-4b99-93f2-cd91841fec0c",
   "metadata": {
    "slideshow": {
     "slide_type": "slide"
    },
    "tags": []
   },
   "source": [
    "# Relative Frequency Bar Graphs\n",
    "\n",
    "These can be created by adding a little bit of code to get the total frequencies. We can then divide each bar height by the total."
   ]
  },
  {
   "cell_type": "code",
   "execution_count": null,
   "id": "7d7f2a99-d4aa-4475-97a7-f31e8ba73690",
   "metadata": {
    "slideshow": {
     "slide_type": "slide"
    },
    "tags": []
   },
   "outputs": [],
   "source": [
    "ratings = [\n",
    "2,3,1,2,3,4,\n",
    "1,5,5,2,2,4,\n",
    "5,3,2,5,3,4,\n",
    "4,3,5,1,1,1,\n",
    "3,5,3,1,4,5\n",
    "]\n",
    "\n",
    "freqs = Counter(ratings)\n",
    "horiz_axis = freqs.keys()\n",
    "vert_axis = freqs.values()\n",
    "\n",
    "total_freq = sum(vert_axis)  # use this to find the total frequency\n",
    "rel_freqs = []  # create an empty list to store relative frequencies\n",
    "decimal_places = 5  # round relative frequencies to this many decimal places\n",
    "\n",
    "for frequency in vert_axis:\n",
    "    rel_freqs.append(round(frequency / total_freq, decimal_places)) \n",
    "    \n",
    "fig, ax = plt.subplots()\n",
    "bar_colors = ['blue', 'green', 'red']\n",
    "chart = ax.bar(horiz_axis, rel_freqs, color = bar_colors)\n",
    "ax.set_title(\"Example 2: Relative Frequency Bar Graph\")  \n",
    "ax.set_xlabel(\"Rating\")  \n",
    "ax.set_ylabel(\"Relative Frequency\")    \n",
    "ax.bar_label(chart)  \n",
    "\n",
    "plt.show()"
   ]
  },
  {
   "cell_type": "markdown",
   "id": "ba71127e-6209-4cfd-a4fc-890c2eb5bb12",
   "metadata": {
    "slideshow": {
     "slide_type": "slide"
    },
    "tags": []
   },
   "source": [
    "# Stacked Bar Graph\n",
    "\n",
    "The following is for Example 3. Notice we label the individual samples as `sample1` and `sample2`.\n",
    "We also label each bar separately and move the label to the center of the bar, rather than the edge."
   ]
  },
  {
   "cell_type": "code",
   "execution_count": null,
   "id": "07b80037-eb72-4f18-9f91-e4d8c7b9ef87",
   "metadata": {
    "slideshow": {
     "slide_type": "slide"
    },
    "tags": []
   },
   "outputs": [],
   "source": [
    "labels = ['1','2','3','4','5']\n",
    "sample1_freq = [6,5,7,5,7]\n",
    "sample2_freq = [4,3,12,10,12]\n",
    "\n",
    "fig, ax = plt.subplots()\n",
    "sample1 = ax.bar(labels, sample1_freq, label=\"Sample 1\")  # need to include label for stacked bar chart\n",
    "sample2 = ax.bar(labels, sample2_freq, bottom=sample1_freq, label=\"Sample 2\")\n",
    "ax.legend()  # For knowing individual bar colors\n",
    "\n",
    "ax.set_title(\"Example 3: Stacked Bar Graph\")  \n",
    "ax.set_xlabel(\"Rating\")  \n",
    "ax.set_ylabel(\"Frequency\")    \n",
    "ax.bar_label(sample1, label_type='center')\n",
    "ax.bar_label(sample2, label_type='center')\n",
    "ax.bar_label(sample2)\n",
    "\n",
    "plt.show()"
   ]
  },
  {
   "cell_type": "markdown",
   "id": "1bcae291-b7c6-41a9-a1f5-b9fdc58d6eb3",
   "metadata": {
    "slideshow": {
     "slide_type": "slide"
    },
    "tags": []
   },
   "source": [
    "# Pie Charts\n",
    "\n",
    "The following will create a pie chart similar to the one in Example 5. "
   ]
  },
  {
   "cell_type": "code",
   "execution_count": null,
   "id": "49269a1b-0e11-4ffb-a598-14cf17c09de1",
   "metadata": {
    "slideshow": {
     "slide_type": "slide"
    },
    "tags": []
   },
   "outputs": [],
   "source": [
    "days = ['Mon', 'Tue', 'Wed', 'Thur', 'Fri']\n",
    "freq = [5, 8, 7, 6, 9]\n",
    "wedge_colors = ['violet', 'yellow', 'silver', 'orange', 'lightblue']\n",
    "\n",
    "fig, ax = plt.subplots()\n",
    "chart = ax.pie(\n",
    "    x = freq, \n",
    "    labels = days,\n",
    "    colors = wedge_colors,\n",
    "    autopct='%0.2f%%'  # the number before f is the number of decimal places for displaying percents\n",
    ")\n",
    "ax.set_title(\"Pie Chart a la Example 5 \\n\")  # create a title with newline separator \\n\n",
    "ax.axis('equal')  # forces pie to be drawn as a circle\n",
    "\n",
    "plt.show()"
   ]
  },
  {
   "cell_type": "code",
   "execution_count": null,
   "id": "c2d82a18-a052-42bc-b1b1-8f6354a7ad00",
   "metadata": {},
   "outputs": [],
   "source": []
  }
 ],
 "metadata": {
  "kernelspec": {
   "display_name": "Python 3 (ipykernel)",
   "language": "python",
   "name": "python3"
  },
  "language_info": {
   "codemirror_mode": {
    "name": "ipython",
    "version": 3
   },
   "file_extension": ".py",
   "mimetype": "text/x-python",
   "name": "python",
   "nbconvert_exporter": "python",
   "pygments_lexer": "ipython3",
   "version": "3.9.13"
  },
  "vscode": {
   "interpreter": {
    "hash": "aee8b7b246df8f9039afb4144a1f6fd8d2ca17a180786b69acc140d282b71a49"
   }
  }
 },
 "nbformat": 4,
 "nbformat_minor": 5
}
