{
 "cells": [
  {
   "cell_type": "markdown",
   "id": "d00e5071-1b43-4ed3-95e8-55918f9b31ce",
   "metadata": {},
   "source": [
    "# Real Stats: Measures of Position"
   ]
  },
  {
   "cell_type": "code",
   "execution_count": 6,
   "id": "7c0b5538-b48e-49d4-af73-2021b231fc11",
   "metadata": {},
   "outputs": [],
   "source": [
    "import numpy as np\n",
    "import scipy.stats as stats\n",
    "import pandas as pd\n",
    "import matplotlib.pyplot as plt"
   ]
  },
  {
   "cell_type": "code",
   "execution_count": 4,
   "id": "d231416a-eec1-4692-b0d9-e37a711f13e5",
   "metadata": {},
   "outputs": [],
   "source": [
    "df = pd.read_csv('assessment_scores.csv')"
   ]
  },
  {
   "cell_type": "markdown",
   "id": "b5597ebb-7dcf-4496-97bd-c60254b39a02",
   "metadata": {},
   "source": [
    "In this lab, you will analyze a data set of test scores in four subjects (English and Language Arts, Math, Science, and History) taken amongst groups of 9th and 10th grade students. "
   ]
  },
  {
   "cell_type": "markdown",
   "id": "04fa6edb-c7be-44e9-8624-bb50b3d533a1",
   "metadata": {},
   "source": [
    "## ELA09 SCORES"
   ]
  },
  {
   "cell_type": "markdown",
   "id": "b5e4f316-6205-461b-b02c-1ffedf35b8cf",
   "metadata": {},
   "source": [
    "### 1. What is the mean of the ELA09 scores?"
   ]
  },
  {
   "cell_type": "code",
   "execution_count": null,
   "id": "25aa4817-ee37-447d-a203-e5ff2dcddf5a",
   "metadata": {},
   "outputs": [],
   "source": []
  },
  {
   "cell_type": "markdown",
   "id": "814c5b2f-e181-4b05-b5c7-8c4e187c33f9",
   "metadata": {},
   "source": [
    "### 2. What is the *sample* standard deviation of the ELA09 scores?"
   ]
  },
  {
   "cell_type": "code",
   "execution_count": null,
   "id": "6b4d54ce-2c9f-4d08-b66a-c7ae516044ea",
   "metadata": {},
   "outputs": [],
   "source": []
  },
  {
   "cell_type": "markdown",
   "id": "d0cf0bd5-ee72-4cde-a4b1-87de05e3ec0c",
   "metadata": {},
   "source": [
    "### 3. What is the z-score of an ELA09 score of 485?"
   ]
  },
  {
   "cell_type": "code",
   "execution_count": null,
   "id": "0b514c3d-b73d-48ed-9677-2c0574bd6892",
   "metadata": {},
   "outputs": [],
   "source": []
  },
  {
   "cell_type": "markdown",
   "id": "d2282010-f89f-4c03-a06d-7ea0f2be0b4b",
   "metadata": {},
   "source": [
    "### 4. Determine the percentile score of an ELA09 score of 485. Use values that are *strictly* less than 485."
   ]
  },
  {
   "cell_type": "code",
   "execution_count": null,
   "id": "456c0c34-91f3-4de2-90ce-adef2171cec7",
   "metadata": {},
   "outputs": [],
   "source": []
  },
  {
   "cell_type": "markdown",
   "id": "95a14338-f2f4-4302-b106-adf47b8a5b7a",
   "metadata": {},
   "source": [
    "### 5. What is the z-score of an ELA09 score of 776"
   ]
  },
  {
   "cell_type": "code",
   "execution_count": null,
   "id": "4da1b5e2-31fa-4cc5-86f4-50c3b7f90bf0",
   "metadata": {},
   "outputs": [],
   "source": []
  },
  {
   "cell_type": "markdown",
   "id": "2bbf9a24-9495-4e62-aa6a-d004840653fc",
   "metadata": {},
   "source": [
    "### 6. Determine the percentile score of an ELA09 score of 485. Use values that are *strictly* less than 776."
   ]
  },
  {
   "cell_type": "code",
   "execution_count": null,
   "id": "f60f7061-98fb-46f2-b9d6-0765eb1c74b0",
   "metadata": {},
   "outputs": [],
   "source": []
  },
  {
   "cell_type": "markdown",
   "id": "be76be0f-6939-4e99-9d0f-1d99a50226c2",
   "metadata": {},
   "source": [
    "### 7. Determine the Interquartile Range of the ELA09 scores."
   ]
  },
  {
   "cell_type": "code",
   "execution_count": null,
   "id": "aa47fba2-afca-4a20-af39-91b430bb0480",
   "metadata": {},
   "outputs": [],
   "source": []
  },
  {
   "cell_type": "markdown",
   "id": "e28c6b29-a99f-4473-bda9-feb2d7dcfb95",
   "metadata": {},
   "source": [
    "### 8. Create a modified boxplot of the ELA09 scores. You may keep the boxplot vertical or make it horizontal. "
   ]
  },
  {
   "cell_type": "code",
   "execution_count": null,
   "id": "b5ae5b12-72c4-40c5-9681-741a5410722c",
   "metadata": {},
   "outputs": [],
   "source": []
  },
  {
   "cell_type": "markdown",
   "id": "075f54b7-6ec8-4084-b74b-ed27786a815a",
   "metadata": {},
   "source": [
    "### 9. According to your modified boxplot in the previous exercise, are there any outliers in the ELA09 scores?"
   ]
  },
  {
   "cell_type": "markdown",
   "id": "cd3b8b21-fb54-401d-93e8-bd6f368ffb2d",
   "metadata": {},
   "source": []
  }
 ],
 "metadata": {
  "kernelspec": {
   "display_name": "Python 3 (ipykernel)",
   "language": "python",
   "name": "python3"
  },
  "language_info": {
   "codemirror_mode": {
    "name": "ipython",
    "version": 3
   },
   "file_extension": ".py",
   "mimetype": "text/x-python",
   "name": "python",
   "nbconvert_exporter": "python",
   "pygments_lexer": "ipython3",
   "version": "3.9.13"
  }
 },
 "nbformat": 4,
 "nbformat_minor": 5
}
