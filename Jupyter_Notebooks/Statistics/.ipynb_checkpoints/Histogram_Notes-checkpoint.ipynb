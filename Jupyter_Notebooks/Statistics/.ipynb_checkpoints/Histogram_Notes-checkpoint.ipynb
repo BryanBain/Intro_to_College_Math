{
 "cells": [
  {
   "cell_type": "markdown",
   "id": "f5463f84-f795-41f9-9274-190576daf0fc",
   "metadata": {},
   "source": [
    "# Histograms"
   ]
  },
  {
   "cell_type": "code",
   "execution_count": null,
   "id": "32dccfce-3fd8-42b7-8b8f-2e24f766192c",
   "metadata": {},
   "outputs": [],
   "source": [
    "import matplotlib.pyplot as plt\n",
    "from matplotlib.ticker import PercentFormatter  # Use this if you want percentages on y-axis\n",
    "import numpy as np"
   ]
  },
  {
   "cell_type": "markdown",
   "id": "b50e46bf-9a34-4b6f-88d2-6e4a0b95ad4e",
   "metadata": {},
   "source": [
    "A <span style=\"color:blue\">**histogram**</span> is like a bar graph but without any gaps between consecutive bars."
   ]
  },
  {
   "cell_type": "code",
   "execution_count": null,
   "id": "8e55e359-e248-4f9d-aa88-9c704acfe15e",
   "metadata": {},
   "outputs": [],
   "source": [
    "# The following creates an example histogram of dog weights.\n",
    "\n",
    "dog_weights = [\n",
    "    37, 39, 41, 42, 43, 43,\n",
    "    45, 45, 46, 46, 47, 47,\n",
    "    47, 48, 48, 50, 50, 51,\n",
    "    51, 52, 53, 53, 54, 57, 62\n",
    "]\n",
    "\n",
    "lcl = [35, 40, 45, 50, 55, 60, 65]  # Manually set the lower class limits\n",
    "\n",
    "fig, ax = plt.subplots()\n",
    "ax.hist(dog_weights, bins=lcl, edgecolor='black')\n",
    "ax.set_xlabel(\"Dog Weights\")\n",
    "ax.set_ylabel(\"Frequecy\")\n",
    "ax.set_title(\"Histogram of Dog Weights\")\n",
    "\n",
    "plt.show()"
   ]
  },
  {
   "cell_type": "markdown",
   "id": "ba774d70-54a7-4d84-bacb-d61eb91c0c07",
   "metadata": {},
   "source": [
    "* Each bar is called a <span style=\"color:blue\">**class**</span> (or <span style=\"color:blue\">**bin**</span>)\n",
    "* The <span style=\"color:purple\">**lower class limit**</span> of the first class is 35, of the second class is 40, etc.\n",
    "* The <span style=\"color:red\">**class width**</span> is the difference between consecutive lower class limits (5 in the above histogram)\n",
    "* Each observed quantitative value is placed into a class or bin."
   ]
  },
  {
   "cell_type": "markdown",
   "id": "12cc45da-666c-4700-8223-c3015ea7f718",
   "metadata": {},
   "source": [
    "In addition to lower class limits, we can also use <span style=\"color:orange\">**class midpoints**</span> along our horizontal axis:\n",
    "\n",
    "|Class|Frequency|Class Midpoint|\n",
    "|:---:|:---:|:---:|\n",
    "35 &leq; *x* < 40|2|37.5|\n",
    "40 &leq; *x* < 45|4|42.5|\n",
    "45 &leq; *x* < 50|9|47.5|\n",
    "50 &leq; *x* < 55|8|52.5|\n",
    "55 &leq; *x* < 60|1|57.5|\n",
    "60 &leq; *x* < 65|1|62.5|"
   ]
  },
  {
   "cell_type": "code",
   "execution_count": null,
   "id": "2b4dc76f-d20b-497a-9381-b8c2b585e571",
   "metadata": {},
   "outputs": [],
   "source": [
    "dog_weights = [\n",
    "    37, 39, 41, 42, 43, 43,\n",
    "    45, 45, 46, 46, 47, 47,\n",
    "    47, 48, 48, 50, 50, 51,\n",
    "    51, 52, 53, 53, 54, 57, 62\n",
    "]\n",
    "\n",
    "bins = [35, 40, 45, 50, 55, 60, 65]  # Lower class limits\n",
    "class_midpoints = [37.5, 42.5, 47.5, 52.5, 57.5, 62.5]  # Class midpoints\n",
    "\n",
    "fig, ax = plt.subplots()\n",
    "ax.hist(dog_weights, bins=bins, edgecolor='black')\n",
    "ax.set_xlabel(\"Dog Weights\")\n",
    "ax.set_ylabel(\"Frequecy\")\n",
    "ax.set_title(\"Histogram of Dog Weights Using Class Midpoints\")\n",
    "ax.set_xticks(class_midpoints)\n",
    "plt.show()"
   ]
  },
  {
   "cell_type": "markdown",
   "id": "021d06b9-9fad-4225-99a5-979f31a8712c",
   "metadata": {},
   "source": [
    "## Relative Frequency Histogram"
   ]
  },
  {
   "cell_type": "markdown",
   "id": "d0802310-e9d6-4417-baca-0e710d4bd401",
   "metadata": {},
   "source": [
    "* Create a relative frequency histogram much like how we created a relative frequency bar graph.\n",
    "* Total *heights* of all rectangles must equal 1.00, or 100\\%"
   ]
  },
  {
   "cell_type": "code",
   "execution_count": null,
   "id": "a347eded-3fd4-4dee-8662-d175a0708c2b",
   "metadata": {},
   "outputs": [],
   "source": [
    "dog_weights = [\n",
    "    37, 39, 41, 42, 43, 43,\n",
    "    45, 45, 46, 46, 47, 47,\n",
    "    47, 48, 48, 50, 50, 51,\n",
    "    51, 52, 53, 53, 54, 57, 62\n",
    "]\n",
    "\n",
    "rel_weights = np.ones_like(dog_weights)/len(dog_weights) # Get the relative frequency of each dog weight\n",
    "bins = [35, 40, 45, 50, 55, 60, 65]  # Lower class limits\n",
    "\n",
    "fig, ax = plt.subplots()\n",
    "ax.hist(dog_weights, bins=bins, edgecolor='black', weights=rel_weights)\n",
    "ax.set_xlabel(\"Dog Weights\")\n",
    "ax.set_ylabel(\"Relative Frequecy\")\n",
    "ax.set_title(\"Relative Frequency Histogram of Dog Weights\")\n",
    "\n",
    "plt.show()"
   ]
  },
  {
   "cell_type": "markdown",
   "id": "a019444b-c00e-4c4a-bfc3-61967252f8aa",
   "metadata": {},
   "source": [
    "The following will convert the y-axis on the chart above to percents. Simply add the following information:\n",
    "\n",
    "* Include the `100 *` in the `rel_weights` calculation.\n",
    "* Include the `ax.yaxis.set_major_formatter(PercentFormatter())` before `plt.show()`"
   ]
  },
  {
   "cell_type": "code",
   "execution_count": null,
   "id": "93b04ff2-40f9-49cf-bd08-688ba9484e29",
   "metadata": {},
   "outputs": [],
   "source": [
    "dog_weights = [\n",
    "    37, 39, 41, 42, 43, 43,\n",
    "    45, 45, 46, 46, 47, 47,\n",
    "    47, 48, 48, 50, 50, 51,\n",
    "    51, 52, 53, 53, 54, 57, 62\n",
    "]\n",
    "\n",
    "rel_weights = 100 * np.ones_like(dog_weights)/len(dog_weights) # Get the relative frequency of each dog weight\n",
    "bins = [35, 40, 45, 50, 55, 60, 65]  # Lower class limits\n",
    "\n",
    "fig, ax = plt.subplots()\n",
    "ax.hist(dog_weights, bins=bins, edgecolor='black', weights=rel_weights)\n",
    "ax.set_xlabel(\"Dog Weights\")\n",
    "ax.set_ylabel(\"Relative Frequecy\")\n",
    "ax.set_title(\"Histogram of Dog Weights\")\n",
    "ax.yaxis.set_major_formatter(PercentFormatter())  # this is what you need\n",
    "\n",
    "plt.show()"
   ]
  },
  {
   "cell_type": "markdown",
   "id": "755c6eaf-43d6-4de7-a59c-deb1b8d03aa5",
   "metadata": {},
   "source": [
    "## Density Histogram"
   ]
  },
  {
   "cell_type": "markdown",
   "id": "5dcc7130-4cb8-4772-b451-cedc48eb9da7",
   "metadata": {},
   "source": [
    "* Similar to a relative frequency histogram but the total <span style=\"color:red\">***area***</span> of all rectangles must equal 1.\n",
    "\n",
    "* We will see these ***a lot*** with probability distributions later."
   ]
  },
  {
   "cell_type": "code",
   "execution_count": null,
   "id": "005ced6d-ab25-4949-a737-98737fb0a3fa",
   "metadata": {},
   "outputs": [],
   "source": [
    "# For density histograms, we can add `density = True` argument to the ax.hist function.\n",
    "\n",
    "dog_weights = [\n",
    "    37, 39, 41, 42, 43, 43,\n",
    "    45, 45, 46, 46, 47, 47,\n",
    "    47, 48, 48, 50, 50, 51,\n",
    "    51, 52, 53, 53, 54, 57, 62\n",
    "]\n",
    "\n",
    "lcl = [35, 40, 45, 50, 55, 60, 65]  # Manually set the lower class limits\n",
    "\n",
    "fig, ax = plt.subplots()\n",
    "ax.hist(dog_weights, bins=lcl, edgecolor='black', density = True)  # notice the new `density = True` argument\n",
    "ax.set_xlabel(\"Dog Weights\")\n",
    "ax.set_ylabel(\"Density\")\n",
    "ax.set_title(\"Density Histogram of Dog Weights\")\n",
    "\n",
    "plt.show()"
   ]
  },
  {
   "cell_type": "markdown",
   "id": "69be5dbe-695f-4df8-a2ce-62706ec2a2f7",
   "metadata": {},
   "source": [
    "## Example 1"
   ]
  },
  {
   "cell_type": "markdown",
   "id": "260c5ac0-2585-4f4b-8664-c9e84bd1f30f",
   "metadata": {},
   "source": [
    "Run the cell below and then answer the questions that follow."
   ]
  },
  {
   "cell_type": "code",
   "execution_count": null,
   "id": "ba5e8a42-6da8-4a98-a7c1-45b8d9c0753d",
   "metadata": {},
   "outputs": [],
   "source": [
    "scores = [\n",
    "    52, 57, 58, 63, 67, 71, 71,\n",
    "    72, 72, 73, 73, 75, 76, 76, 77, \n",
    "    77, 78, 81, 82, 82, 82, 83, 83,\n",
    "    84, 85, 85, 86, 87, 87, 87, 88,\n",
    "    88, 89, 91, 91, 92, 92, 93, 94,\n",
    "    95, 95, 96, 97, 98\n",
    "]\n",
    "\n",
    "lcl = [50, 60, 70, 80, 90, 100]  # Manually set the lower class limits\n",
    "\n",
    "fig, ax = plt.subplots()\n",
    "ax.hist(scores, bins=lcl, color='orange', edgecolor='black')\n",
    "ax.set_xlabel(\"Score\")\n",
    "ax.set_ylabel(\"Frequecy\")\n",
    "ax.set_title(\"Test Scores\")\n",
    "ax.grid(axis='y', linestyle='--')\n",
    "\n",
    "plt.show()"
   ]
  },
  {
   "cell_type": "markdown",
   "id": "fab5612e-5a15-4e1a-9300-08df2bc1ebfa",
   "metadata": {},
   "source": [
    "(a) What is the class width?"
   ]
  },
  {
   "cell_type": "markdown",
   "id": "02470b21-f4b9-484b-b06c-81f67daff2a8",
   "metadata": {},
   "source": []
  },
  {
   "cell_type": "markdown",
   "id": "0b783730-e692-4008-b2ff-ea52eca397b4",
   "metadata": {},
   "source": [
    "(b) What is the midpoint of the 4th class?"
   ]
  },
  {
   "cell_type": "code",
   "execution_count": null,
   "id": "d7422a01-d9d9-423b-8b94-86269f016f03",
   "metadata": {},
   "outputs": [],
   "source": []
  },
  {
   "cell_type": "markdown",
   "id": "4f08ab77-1587-4346-8a9c-87169945a27c",
   "metadata": {},
   "source": [
    "(c) How many test scores are shown?"
   ]
  },
  {
   "cell_type": "code",
   "execution_count": null,
   "id": "8707178d-2420-4859-bd31-73c4ee4a9cde",
   "metadata": {},
   "outputs": [],
   "source": []
  },
  {
   "cell_type": "markdown",
   "id": "21cdb63a-8c3f-4260-81fd-a0dad5e9f658",
   "metadata": {},
   "source": [
    "(d) How many students scored 80 or higher?"
   ]
  },
  {
   "cell_type": "code",
   "execution_count": null,
   "id": "52e08004-1599-48e2-b95e-b1cde658bfe7",
   "metadata": {},
   "outputs": [],
   "source": []
  },
  {
   "cell_type": "markdown",
   "id": "3d88a8bd-79af-4af5-8f8c-2205a37b44c2",
   "metadata": {},
   "source": [
    "(e) What is the relative frequency of the 5th class?"
   ]
  },
  {
   "cell_type": "markdown",
   "id": "be765e55-2dd0-4668-8ef8-e9d587c6ca1f",
   "metadata": {},
   "source": []
  },
  {
   "cell_type": "markdown",
   "id": "438f7f83-a879-4cc8-8d87-5e2af10c4b32",
   "metadata": {},
   "source": [
    "### Creating a Histogram Using a Given Class Width"
   ]
  },
  {
   "cell_type": "markdown",
   "id": "712e8dcf-cb25-4823-abcc-db1e94a25839",
   "metadata": {},
   "source": [
    "So far, we have manually set the lower class limits of each bin.\n",
    "\n",
    "Suppose we want to create a histogram with a given width.\n",
    "\n",
    "To do so, note that\n",
    "\n",
    "$$\n",
    "\\text{class width} = \\frac{\\text{range of values on horizontal axis}}{\\text{number of bins}}\n",
    "$$\n",
    "\n",
    "We will need to know how many bins to include. \n",
    "\n",
    "Thus, solving for `number of bins` by multiplying both sides by the denominator and then dividing, we get\n",
    "\n",
    "$$\n",
    "\\text{number of bins} = \\frac{\\text{range of values on horizontal axis}}{\\text{class width}}\n",
    "$$"
   ]
  },
  {
   "cell_type": "markdown",
   "id": "1f7bfeb7-be53-4549-883f-541a68e93ed5",
   "metadata": {},
   "source": [
    "## Example 2"
   ]
  },
  {
   "cell_type": "markdown",
   "id": "8a3246d3-b07a-428d-ad77-cf13531a9c1f",
   "metadata": {},
   "source": [
    "Create a histogram from the measurements below. \n",
    "\n",
    "Use the minimum value as the lower class limit of the first class and use a class width of 2."
   ]
  },
  {
   "cell_type": "code",
   "execution_count": null,
   "id": "219f835a-3fdb-448a-bc01-248f4f49636e",
   "metadata": {},
   "outputs": [],
   "source": [
    "measurements = [9, 2, 10, 1, 4,\n",
    "                5, 1, 6, 7, 4,\n",
    "                6, 5, 4, 8, 10,\n",
    "                3, 1, 2, 3, 9,\n",
    "                8, 6, 1, 1, 10]"
   ]
  },
  {
   "cell_type": "code",
   "execution_count": null,
   "id": "536ef208-c926-48b3-aa08-cb1db88b1628",
   "metadata": {},
   "outputs": [],
   "source": [
    "lcl_1 = np.min(measurements)  # get the lower class limit of the first class (bin)\n",
    "class_width = 2\n",
    "# The below will calculate the number of bins needed to guarantee the needed class width\n",
    "num_bins =  ((np.max(measurements) + class_width) - np.min(measurements)) // class_width \n",
    "\n",
    "lcl = [lcl_1 + class_width*i for i in range(num_bins+ 1)]  # generate the list of lower class limits\n",
    "\n",
    "fig, ax = plt.subplots()\n",
    "ax.hist(measurements, bins=lcl, edgecolor='black')\n",
    "ax.set_xlabel(\"Measurements\")\n",
    "ax.set_ylabel(\"Frequecy\")\n",
    "ax.set_title(\"Histogram of Example 2\")\n",
    "ax.set_xticks(lcl)\n",
    "ax.grid(axis='y', linestyle='--')\n",
    "\n",
    "plt.show()"
   ]
  },
  {
   "cell_type": "markdown",
   "id": "3b5f66ba-1ae7-4ea4-9256-852f2ed00f87",
   "metadata": {},
   "source": [
    "## Cumulative Histograms"
   ]
  },
  {
   "cell_type": "markdown",
   "id": "f4bef449-05cc-4f31-bc6a-89acca1625f6",
   "metadata": {},
   "source": [
    "A <span style=\"color:blue\">**cumulative histogram**</span> is one in which the frequency (or relative frequency) of each class is a running total up to that class."
   ]
  },
  {
   "cell_type": "markdown",
   "id": "816ec2c6-d69b-4302-b3fd-fadd4a089fc3",
   "metadata": {},
   "source": [
    "## Example 3"
   ]
  },
  {
   "cell_type": "markdown",
   "id": "fb591d6c-3c02-4f5a-abd7-214ba952c987",
   "metadata": {},
   "source": [
    "Create a cumulative frequency distribution histogram of dog weights from Example 1. \n",
    "\n",
    "|Class|Frequency|Cumulative Total|\n",
    "|:---:|:---:|:---:|\n",
    "35 &leq; *x* < 40|2||\n",
    "40 &leq; *x* < 45|4||\n",
    "45 &leq; *x* < 50|9||\n",
    "50 &leq; *x* < 55|8||\n",
    "55 &leq; *x* < 60|1||\n",
    "60 &leq; *x* < 65|1||"
   ]
  },
  {
   "cell_type": "code",
   "execution_count": null,
   "id": "460d8069-f2be-43b6-949f-1f6d3ef6421e",
   "metadata": {},
   "outputs": [],
   "source": [
    "dog_weights = [\n",
    "    37, 39, 41, 42, 43, 43,\n",
    "    45, 45, 46, 46, 47, 47,\n",
    "    47, 48, 48, 50, 50, 51,\n",
    "    51, 52, 53, 53, 54, 57, 62\n",
    "]\n",
    "\n",
    "lcl = [35, 40, 45, 50, 55, 60, 65]  # Lower class limits\n",
    "\n",
    "fig, ax = plt.subplots()\n",
    "# include `cumulative=True` to get cumulative histogram\n",
    "ax.hist(dog_weights, bins=lcl, edgecolor='black', cumulative=True)\n",
    "ax.set_xlabel(\"Dog Weights\")\n",
    "ax.set_ylabel(\"Frequecy\")\n",
    "ax.set_title(\"Cumulative Histogram of Dog Weights\")\n",
    "ax.grid(axis='y', linestyle='--')\n",
    "\n",
    "plt.show()"
   ]
  },
  {
   "cell_type": "markdown",
   "id": "349c67d2-50f3-4fbf-a252-287581c69f78",
   "metadata": {},
   "source": [
    "The cell below will produce a cumulative density histogram of the dog weights."
   ]
  },
  {
   "cell_type": "code",
   "execution_count": null,
   "id": "89ff8806-0186-46f0-9ac5-e3b5fb883bc3",
   "metadata": {},
   "outputs": [],
   "source": [
    "dog_weights = [\n",
    "    37, 39, 41, 42, 43, 43,\n",
    "    45, 45, 46, 46, 47, 47,\n",
    "    47, 48, 48, 50, 50, 51,\n",
    "    51, 52, 53, 53, 54, 57, 62\n",
    "]\n",
    "\n",
    "lcl = [35, 40, 45, 50, 55, 60, 65]  # Lower class limits\n",
    "\n",
    "fig, ax = plt.subplots()\n",
    "# include cumulative=True to get cumulative histogram\n",
    "ax.hist(\n",
    "    dog_weights,\n",
    "    bins=lcl,\n",
    "    edgecolor='black',\n",
    "    cumulative=True,\n",
    "    density=True\n",
    ")\n",
    "ax.set_xlabel(\"Dog Weights\")\n",
    "ax.set_ylabel(\"Relative Frequecy\")\n",
    "ax.set_title(\"Cumulative Relative Frequency Histogram of Dog Weights\")\n",
    "\n",
    "plt.show()"
   ]
  },
  {
   "cell_type": "code",
   "execution_count": null,
   "id": "0b020cd2-5bf7-4316-9b00-74c6e55c72a0",
   "metadata": {},
   "outputs": [],
   "source": []
  }
 ],
 "metadata": {
  "kernelspec": {
   "display_name": "Python 3 (ipykernel)",
   "language": "python",
   "name": "python3"
  },
  "language_info": {
   "codemirror_mode": {
    "name": "ipython",
    "version": 3
   },
   "file_extension": ".py",
   "mimetype": "text/x-python",
   "name": "python",
   "nbconvert_exporter": "python",
   "pygments_lexer": "ipython3",
   "version": "3.9.13"
  }
 },
 "nbformat": 4,
 "nbformat_minor": 5
}
