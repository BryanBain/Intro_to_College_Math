{
 "cells": [
  {
   "cell_type": "markdown",
   "id": "7cc1b31d-5137-4e90-8a4a-ae02ae98caaa",
   "metadata": {},
   "source": [
    "# Measures of Spread"
   ]
  },
  {
   "cell_type": "markdown",
   "id": "82c24848-8ce8-451f-800f-272fee81d7b3",
   "metadata": {},
   "source": [
    "## Range"
   ]
  },
  {
   "cell_type": "code",
   "execution_count": null,
   "id": "0e65359d-87ce-4164-a8de-e103db61cd68",
   "metadata": {},
   "outputs": [],
   "source": [
    "import numpy as np"
   ]
  },
  {
   "cell_type": "markdown",
   "id": "36fff533-689e-4749-8e40-62f6a3dad841",
   "metadata": {},
   "source": [
    "To find the range of a data set in NumPy, we have to subtract the maximum and minimum values. We can do this by using the `max` and `min` methods within NumPy.\n",
    "\n",
    "We also can write our own function, such as `get_range` as well."
   ]
  },
  {
   "cell_type": "code",
   "execution_count": null,
   "id": "af83f981-d415-43f7-a198-9df5f543592a",
   "metadata": {},
   "outputs": [],
   "source": [
    "def get_range(dataset):\n",
    "    return np.max(dataset) - np.min(dataset)"
   ]
  },
  {
   "cell_type": "code",
   "execution_count": null,
   "id": "14bb3d1d-c46a-4591-8890-b1cee1d122fe",
   "metadata": {},
   "outputs": [],
   "source": [
    "values = [9,2,7,10,3,4,12]\n",
    "\n",
    "get_range(values)"
   ]
  },
  {
   "cell_type": "markdown",
   "id": "f10787ed-224f-4963-9251-797c811a838b",
   "metadata": {},
   "source": [
    "## Variance"
   ]
  },
  {
   "cell_type": "markdown",
   "id": "78958c25-d59f-41d8-aadb-90a41a86ca58",
   "metadata": {},
   "source": [
    "NumPy has a method for finding the variance: `var`.\n",
    "\n",
    "It will also allow you to find *both* population variance and sample variance.\n",
    "\n",
    "By default, `var` gives you the **population variance**.\n",
    "\n",
    "If you want the **sample variance**, add `ddof=1` to the arguments within the `var` method."
   ]
  },
  {
   "cell_type": "code",
   "execution_count": null,
   "id": "19ce3dc3-1bbc-4b57-803c-b50a77f18ce7",
   "metadata": {},
   "outputs": [],
   "source": [
    "prices = [3.25, 3.40, 3.21, 3.38]\n",
    "\n",
    "np.var(prices)  # Population variance"
   ]
  },
  {
   "cell_type": "code",
   "execution_count": null,
   "id": "b148cbb2-4675-41a3-abfb-d04ccddf35da",
   "metadata": {},
   "outputs": [],
   "source": [
    "np.var(prices, ddof = 1)  # Sample variance"
   ]
  },
  {
   "cell_type": "markdown",
   "id": "701ddf56-e048-4e24-aa18-0c3c22773e84",
   "metadata": {},
   "source": [
    "## Standard Deviation"
   ]
  },
  {
   "cell_type": "markdown",
   "id": "dcfb9f45-4157-46e9-ba5c-686201bca28b",
   "metadata": {},
   "source": [
    "If you are OK with the presence (or absence) of `ddof = 1` when working with population vs. sample variance, then you will be just fine with standard deviation.\n",
    "\n",
    "The NumPy method `std` returns the standard deviation of the data set."
   ]
  },
  {
   "cell_type": "code",
   "execution_count": null,
   "id": "89760ae0-28b4-4381-8fae-4180338f6d4e",
   "metadata": {},
   "outputs": [],
   "source": [
    "np.std(prices)  # Population standard deviation"
   ]
  },
  {
   "cell_type": "code",
   "execution_count": null,
   "id": "aaf4a61a-35fe-41cf-bc72-65264fc24b8d",
   "metadata": {},
   "outputs": [],
   "source": [
    "np.std(prices, ddof=1)  # Sample standard deviation"
   ]
  }
 ],
 "metadata": {
  "kernelspec": {
   "display_name": "Python 3 (ipykernel)",
   "language": "python",
   "name": "python3"
  },
  "language_info": {
   "codemirror_mode": {
    "name": "ipython",
    "version": 3
   },
   "file_extension": ".py",
   "mimetype": "text/x-python",
   "name": "python",
   "nbconvert_exporter": "python",
   "pygments_lexer": "ipython3",
   "version": "3.9.13"
  }
 },
 "nbformat": 4,
 "nbformat_minor": 5
}
