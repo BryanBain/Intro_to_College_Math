{
 "cells": [
  {
   "cell_type": "markdown",
   "id": "ef5e0a4d-e5a6-4fde-a9f4-d169214b320e",
   "metadata": {},
   "source": [
    "# Measures of Position"
   ]
  },
  {
   "cell_type": "markdown",
   "id": "3411d36b-a25a-4651-bfde-05b396f65793",
   "metadata": {},
   "source": [
    "## Z-Scores"
   ]
  },
  {
   "cell_type": "markdown",
   "id": "b8f3ffc1-4919-45d4-ac16-5f87d13b2def",
   "metadata": {},
   "source": [
    "For problems in which we are given an observed value, the mean, and the standard deviation up front, it is easiest to write a function that will calculate the z-score for us."
   ]
  },
  {
   "cell_type": "code",
   "execution_count": null,
   "id": "6ad57de4-3a41-4e6c-83c6-d08f3c4b3b14",
   "metadata": {},
   "outputs": [],
   "source": [
    "# obs_val is the data value we are given (x)\n",
    "def get_zscore(obs_val, mean, std_dev):\n",
    "    return (obs_val - mean) / std_dev"
   ]
  },
  {
   "cell_type": "markdown",
   "id": "ab899237-9caf-4a57-a7ba-6f30b99c3fe8",
   "metadata": {},
   "source": [
    "For example 1, to calculate the student's z-score on the SAT, we listed the following:\n",
    "\n",
    "* x = 1350\n",
    "* $\\mu$ = 1059\n",
    "* $\\sigma$ = 210\n",
    "\n"
   ]
  },
  {
   "cell_type": "code",
   "execution_count": null,
   "id": "d9970854-a00b-4246-83fa-f07900da4493",
   "metadata": {},
   "outputs": [],
   "source": [
    "x = 1350\n",
    "mu = 1059\n",
    "sigma = 210\n",
    "\n",
    "get_zscore(x, mu, sigma)"
   ]
  },
  {
   "cell_type": "markdown",
   "id": "cf9a42af-2509-434b-b1db-6170c6a19c38",
   "metadata": {},
   "source": [
    "## Percentiles"
   ]
  },
  {
   "cell_type": "markdown",
   "id": "b8d0056e-a937-43d2-b039-deac7cf07cc6",
   "metadata": {},
   "source": [
    "There are usually 2 types of problems when dealing with percentiles in statistics:\n",
    "\n",
    "* You need to find the percentile for a given value\n",
    "* You need to find a value that corresponds to a given percentile\n",
    "\n",
    "We looked at the first type of problem. To perform this calculation using Python, we need a new library to import. That library, which we will use quite a bit, is called SciPy. In particular, we want the statistical functions: `scipy.stats`.\n",
    "\n",
    "Like NumPy, we first need to import SciPy."
   ]
  },
  {
   "cell_type": "code",
   "execution_count": null,
   "id": "1eaf7636-2297-4151-ae4e-58d96bd0cb09",
   "metadata": {},
   "outputs": [],
   "source": [
    "import scipy.stats as stats"
   ]
  },
  {
   "cell_type": "markdown",
   "id": "3e95eebe-8adb-493c-8687-6066dbaeac87",
   "metadata": {},
   "source": [
    "The function we are interested in is `percentileofscore` which can take up to three input values:\n",
    "\n",
    "1. The list we are given.\n",
    "2. The individual value we are trying to find the percentile score for.\n",
    "3. The way the percentile score is calculated (for instance, using only list values less than the given value compared to less that or equal to the given value).\n",
    "\n",
    "For the last input listed, we will use the following:\n",
    "\n",
    "* If we **do not include** the value, use `kind = 'strict'`\n",
    "* If we **do include** the value, use `kind = 'weak'`"
   ]
  },
  {
   "cell_type": "markdown",
   "id": "04949f8f-fdeb-4b82-bfcd-ecb062bc2e65",
   "metadata": {},
   "source": [
    "### Example 3: Only values less than 85"
   ]
  },
  {
   "cell_type": "code",
   "execution_count": null,
   "id": "4ec995d4-eebb-4220-a010-4df2ba30d4cf",
   "metadata": {},
   "outputs": [],
   "source": [
    "data = [74, 74, 76, 77, 83, 85, 85, 90, 93, 94, 97, 98]"
   ]
  },
  {
   "cell_type": "code",
   "execution_count": null,
   "id": "3943a093-f32e-440f-94e6-2cea74a70a94",
   "metadata": {},
   "outputs": [],
   "source": [
    "stats.percentileofscore(data, 85, kind='strict')"
   ]
  },
  {
   "cell_type": "markdown",
   "id": "cd8f971c-30fa-4a60-8445-2d4059ac29c0",
   "metadata": {},
   "source": [
    "### Example 4: Values less than or equal to 85"
   ]
  },
  {
   "cell_type": "code",
   "execution_count": null,
   "id": "3a03a63b-6e85-4c68-bbc2-e442f2d774d1",
   "metadata": {},
   "outputs": [],
   "source": [
    "stats.percentileofscore(data, 85, kind='weak')"
   ]
  },
  {
   "cell_type": "markdown",
   "id": "97a493e9-d734-49e2-92ec-d5fea40d0c90",
   "metadata": {
    "tags": []
   },
   "source": [
    "### Finding a Score Corresponding to a Given Percentile"
   ]
  },
  {
   "cell_type": "markdown",
   "id": "04179cda-a308-4700-bd16-e79008962131",
   "metadata": {},
   "source": [
    "If you want to know what score corresponds to a given percentile, you can use NumPy's `percentile` method. \n",
    "\n",
    "*Note*: There are many methods NumPy can use to make this calculation.\n",
    "\n",
    "If we wanted to know what value in our `data` list corresponds to the 90th percentile, we would do the following:"
   ]
  },
  {
   "cell_type": "code",
   "execution_count": null,
   "id": "d3a1a4b2-432f-4384-9f93-06bd3daa7753",
   "metadata": {},
   "outputs": [],
   "source": [
    "import numpy as np"
   ]
  },
  {
   "cell_type": "code",
   "execution_count": null,
   "id": "1eb03896-c0c1-4c59-8876-4e096a7a9dec",
   "metadata": {},
   "outputs": [],
   "source": [
    "np.percentile(data, 90)"
   ]
  },
  {
   "cell_type": "markdown",
   "id": "01469f4e-3bb0-4736-8040-ffca790a2257",
   "metadata": {},
   "source": [
    "## Five-Number Summary"
   ]
  },
  {
   "cell_type": "markdown",
   "id": "5278b440-e456-4d56-890b-f67502c6e669",
   "metadata": {},
   "source": [
    "There are a couple of options for finding the five-number summary using Python. One is much less work than the other. \n",
    "\n",
    "1. Use NumPy's `min`, `max`, `med`, and `percentile` methods.\n",
    "2. Convert the data to a data frame and use Pandas' `describe` method.\n",
    "\n",
    "First, let's look at using Numpy. We'll create our own function to expedite the process."
   ]
  },
  {
   "cell_type": "code",
   "execution_count": null,
   "id": "d4326541-027d-4408-8d3a-cb7027965537",
   "metadata": {},
   "outputs": [],
   "source": [
    "example5 = [1, 2, 2, 4, 5, 7, 11, 15, 15, 18, 44]"
   ]
  },
  {
   "cell_type": "code",
   "execution_count": null,
   "id": "db28a000-70e7-4b88-aedf-6ad28381f7a4",
   "metadata": {},
   "outputs": [],
   "source": [
    "def five_number_summary(dataset):\n",
    "    return (\n",
    "        np.min(dataset),\n",
    "        np.percentile(dataset, 25),\n",
    "        np.median(dataset),  # we could have also used np.percentile(dataset, 50)\n",
    "        np.percentile(dataset, 75),\n",
    "        np.max(dataset)\n",
    "    )"
   ]
  },
  {
   "cell_type": "code",
   "execution_count": null,
   "id": "8ed40b5b-a129-42b5-8295-660e9d3440d4",
   "metadata": {},
   "outputs": [],
   "source": [
    "five_number_summary(example5)"
   ]
  },
  {
   "cell_type": "markdown",
   "id": "25d22829-ab56-4ad1-b79b-b069c9e6a87c",
   "metadata": {},
   "source": [
    "Using Pandas, we will first convert our list to a data frame using `pd.DataFrame`\n",
    "\n",
    "We could also convert it to a series using `pd.Series`\n",
    "\n",
    "Regardless, don't forget to import pandas first."
   ]
  },
  {
   "cell_type": "code",
   "execution_count": null,
   "id": "e5cba36b-27e2-4f4d-abce-47d60b007f86",
   "metadata": {},
   "outputs": [],
   "source": [
    "import pandas as pd"
   ]
  },
  {
   "cell_type": "code",
   "execution_count": null,
   "id": "253e91bb-1c6b-4142-ac40-39dc28cb6e6b",
   "metadata": {},
   "outputs": [],
   "source": [
    "example5_df = pd.DataFrame(example5)"
   ]
  },
  {
   "cell_type": "code",
   "execution_count": null,
   "id": "47566aa0-a2de-4452-a4ba-35044bee628d",
   "metadata": {},
   "outputs": [],
   "source": [
    "example5_df.describe()"
   ]
  },
  {
   "cell_type": "markdown",
   "id": "acf94626-0943-4d4d-a043-e827c6ee7a3f",
   "metadata": {},
   "source": [
    "### Outliers and Fences"
   ]
  },
  {
   "cell_type": "markdown",
   "id": "82e54aab-e830-42e1-a2df-02970af25e11",
   "metadata": {},
   "source": [
    "Recall that to determine fence values and outliers, we need the innerquartile range first. We have some options for determining this:\n",
    "\n",
    "* Write a function using NumPy's `percentile` function and subract the results.\n",
    "* Use the `iqr` method from `scipy.stats`\n",
    "\n",
    "First, using NumPy:"
   ]
  },
  {
   "cell_type": "code",
   "execution_count": null,
   "id": "c06780a8-93bb-45ee-a8b1-78e11a684bfc",
   "metadata": {},
   "outputs": [],
   "source": [
    "def get_IQR(dataset):\n",
    "    return np.percentile(dataset, 75) - np.percentile(dataset, 25)"
   ]
  },
  {
   "cell_type": "code",
   "execution_count": null,
   "id": "87bbf82b-069b-40fe-b89d-e0c263f98790",
   "metadata": {},
   "outputs": [],
   "source": [
    "get_IQR(example5)"
   ]
  },
  {
   "cell_type": "markdown",
   "id": "83d99bd4-dfd3-46f2-86f4-2a014bb0fc3c",
   "metadata": {},
   "source": [
    "Next, using SciPy:"
   ]
  },
  {
   "cell_type": "code",
   "execution_count": null,
   "id": "85353637-2597-4907-963f-41ba951c8791",
   "metadata": {},
   "outputs": [],
   "source": [
    "stats.iqr(example5)"
   ]
  },
  {
   "cell_type": "markdown",
   "id": "ae9316f4-43b2-4512-b208-bf8a1d161e78",
   "metadata": {},
   "source": [
    "Now, we can determine the lower and upper fence values. Below is a way to do so in NumPy. Doing so in SciPy is left to you."
   ]
  },
  {
   "cell_type": "code",
   "execution_count": null,
   "id": "abe1f0a8-67c8-4b09-ba9f-dec715d4d6f4",
   "metadata": {},
   "outputs": [],
   "source": [
    "def get_fences(dataset):\n",
    "    return (\n",
    "        np.percentile(dataset,25) - 1.5 * get_IQR(dataset),\n",
    "        np.percentile(dataset,75) + 1.5 * get_IQR(dataset)\n",
    "    )"
   ]
  },
  {
   "cell_type": "code",
   "execution_count": null,
   "id": "a107bf9d-6e2b-40d9-8568-6034af965c84",
   "metadata": {},
   "outputs": [],
   "source": [
    "get_fences(example5)"
   ]
  },
  {
   "cell_type": "markdown",
   "id": "cfd3e619-ddad-45d5-8ecb-1f7d2831deca",
   "metadata": {},
   "source": [
    "We can even go a step further and use the `get_fences` function to detect outliers."
   ]
  },
  {
   "cell_type": "code",
   "execution_count": null,
   "id": "be822a52-545f-4a91-ad26-a92ebba22e8b",
   "metadata": {},
   "outputs": [],
   "source": [
    "def detect_outliers(dataset):\n",
    "    outliers = []  # blank list to fill with outliers\n",
    "    for value in dataset:\n",
    "        # determine if each value is less than the lower fence or more than the upper fence\n",
    "        if (value < get_fences(dataset)[0] or value > get_fences(dataset)[1]):\n",
    "            outliers.append(value)\n",
    "    return outliers"
   ]
  },
  {
   "cell_type": "code",
   "execution_count": null,
   "id": "56d8ad80-a1ab-4abb-9914-49aeed234e9d",
   "metadata": {},
   "outputs": [],
   "source": [
    "detect_outliers(example5)"
   ]
  },
  {
   "cell_type": "markdown",
   "id": "299b8534-ce54-4031-8ad1-36085a161f96",
   "metadata": {},
   "source": [
    "## Box Plots"
   ]
  },
  {
   "cell_type": "markdown",
   "id": "e737b1df-c6e5-40c4-862e-388099132da6",
   "metadata": {},
   "source": [
    "Since box plots are a visual display of data, we will need to import one (or more) of our libraries: Matplotlib, Seaborn, or Plotly Express."
   ]
  },
  {
   "cell_type": "markdown",
   "id": "11fe021f-ba17-4d95-b3af-8ef778d75182",
   "metadata": {},
   "source": [
    "### Matplotlib"
   ]
  },
  {
   "cell_type": "code",
   "execution_count": null,
   "id": "d7e95105-887e-40d2-a4fe-9405aea4f854",
   "metadata": {},
   "outputs": [],
   "source": [
    "import matplotlib.pyplot as plt"
   ]
  },
  {
   "cell_type": "markdown",
   "id": "6d1b9dee-e253-4986-b851-7a5f6125f29c",
   "metadata": {},
   "source": [
    "To construct a box plot for the data in example 5, we need the `boxplot` method.\n",
    "\n",
    "By default, matplotlib will plot box plots vertically. If you want them plotted horizontally, add `vert = False` inside the parentheses.\n",
    "\n",
    "Also, by default, matplotlib draws modified box plots and will indicate outliers with circles. You can change what symbol matplotlib uses for outliers by adding `sym=` as a parameter."
   ]
  },
  {
   "cell_type": "code",
   "execution_count": null,
   "id": "af5c3c31-23e2-4d3f-999a-5b423a9e0ea4",
   "metadata": {},
   "outputs": [],
   "source": [
    "fig, ax = plt.subplots()\n",
    "ax.boxplot(\n",
    "    example5,\n",
    "    vert = False\n",
    ")\n",
    "\n",
    "plt.show()"
   ]
  },
  {
   "cell_type": "markdown",
   "id": "9581401f-572a-46fb-a054-ed41d6f46deb",
   "metadata": {},
   "source": [
    "If you don't want a modified box plot, add `whis = (0,100)` to the parameters."
   ]
  },
  {
   "cell_type": "code",
   "execution_count": null,
   "id": "a35be5da-acc4-40df-8e68-7bfa843e8788",
   "metadata": {},
   "outputs": [],
   "source": [
    "fig, ax = plt.subplots()\n",
    "ax.boxplot(\n",
    "    example5,\n",
    "    vert = False,\n",
    "    whis = (0,100)\n",
    ")\n",
    "\n",
    "plt.show()"
   ]
  },
  {
   "cell_type": "markdown",
   "id": "3b5df9c9-57cd-4c1d-8598-975b534403d8",
   "metadata": {},
   "source": [
    "### Seaborn"
   ]
  },
  {
   "cell_type": "code",
   "execution_count": null,
   "id": "5fba9564-5b9b-4590-96c4-331a8cfe5614",
   "metadata": {},
   "outputs": [],
   "source": [
    "import seaborn as sns"
   ]
  },
  {
   "cell_type": "code",
   "execution_count": null,
   "id": "44229662-dbdf-4fe3-88c0-da74cc98d613",
   "metadata": {},
   "outputs": [],
   "source": [
    "sns.set_theme(style=\"darkgrid\")  # for aesthetics"
   ]
  },
  {
   "cell_type": "markdown",
   "id": "e64a8923-56be-45b7-9b57-a59d83dc87f3",
   "metadata": {},
   "source": [
    "Like matplotlib, we will use the `boxplot` method.\n",
    "\n",
    "* By default, box plots are vertical. To change this, add `orient='h'` to the parameters.\n",
    "* Also by default, modified box plots are given. To change this, like in matplotlib, add `whis=(0,100)` "
   ]
  },
  {
   "cell_type": "code",
   "execution_count": null,
   "id": "b569ad32-10d6-4938-bf65-81f93b0db8c6",
   "metadata": {},
   "outputs": [],
   "source": [
    "sns.boxplot(\n",
    "    data = example5,\n",
    "    orient = 'h'\n",
    ")\n",
    "plt.show()"
   ]
  },
  {
   "cell_type": "code",
   "execution_count": null,
   "id": "be897395-2e3d-4a41-9119-712ffaf47d45",
   "metadata": {},
   "outputs": [],
   "source": [
    "sns.boxplot(\n",
    "    data = example5,\n",
    "    orient = 'h',\n",
    "    whis = (0,100)\n",
    ")\n",
    "plt.show()"
   ]
  },
  {
   "cell_type": "markdown",
   "id": "6f5cb3ee-bf1d-44e4-a61d-8ffd72f1981f",
   "metadata": {},
   "source": [
    "### Plotly Express"
   ]
  },
  {
   "cell_type": "code",
   "execution_count": null,
   "id": "b4603542-b0f5-4bee-965b-f71d01d5c6b2",
   "metadata": {},
   "outputs": [],
   "source": [
    "import plotly.express as px"
   ]
  },
  {
   "cell_type": "markdown",
   "id": "340509be-5cab-48f2-a153-36c5a2deeb3c",
   "metadata": {},
   "source": [
    "Plotly Express uses the `box` method to create box plots."
   ]
  },
  {
   "cell_type": "code",
   "execution_count": null,
   "id": "6c04313d-2a7f-416c-8565-685d3665511c",
   "metadata": {},
   "outputs": [],
   "source": [
    "bp = px.box(example5)\n",
    "bp.update_traces(quartilemethod=\"inclusive\")  # use this to get the five-number summary we got in the notes\n",
    "bp.show()"
   ]
  },
  {
   "cell_type": "markdown",
   "id": "7c42e9e9-d9d7-4431-8f20-981487779608",
   "metadata": {},
   "source": [
    "For horizontal box plots and/or ones that are not modified, we have to work around this a bit.\n",
    "\n",
    "We will have to use the `graph_objects` library in Plotly."
   ]
  },
  {
   "cell_type": "code",
   "execution_count": null,
   "id": "6aecb763-17f7-47af-8a88-8a45c02f50c2",
   "metadata": {},
   "outputs": [],
   "source": [
    "import plotly.graph_objects as go"
   ]
  },
  {
   "cell_type": "code",
   "execution_count": null,
   "id": "b301da61-8995-4a65-ae77-f58e5cba9d6d",
   "metadata": {},
   "outputs": [],
   "source": [
    "# create a blank figure and then display our plot\n",
    "figure = go.Figure(\n",
    "    go.Box(x = example5,  # using `x =` gives us a horizontal box plot\n",
    "          quartilemethod=\"inclusive\"\n",
    "          ) \n",
    ")\n",
    "figure.show()"
   ]
  },
  {
   "cell_type": "code",
   "execution_count": null,
   "id": "3f496bc3-7672-4f92-9b49-d16a6e86fca2",
   "metadata": {},
   "outputs": [],
   "source": [
    "# Create a box plot that is not a modified one\n",
    "figure = go.Figure(\n",
    "    go.Box(x = example5,\n",
    "           quartilemethod=\"inclusive\",\n",
    "           boxpoints = False  # this overrides the creation of a modified box plot\n",
    "          )\n",
    ")\n",
    "figure.show()"
   ]
  },
  {
   "cell_type": "code",
   "execution_count": null,
   "id": "623c768a-a708-425e-ad93-0219472c71cc",
   "metadata": {},
   "outputs": [],
   "source": []
  }
 ],
 "metadata": {
  "kernelspec": {
   "display_name": "Python 3 (ipykernel)",
   "language": "python",
   "name": "python3"
  },
  "language_info": {
   "codemirror_mode": {
    "name": "ipython",
    "version": 3
   },
   "file_extension": ".py",
   "mimetype": "text/x-python",
   "name": "python",
   "nbconvert_exporter": "python",
   "pygments_lexer": "ipython3",
   "version": "3.9.13"
  }
 },
 "nbformat": 4,
 "nbformat_minor": 5
}
