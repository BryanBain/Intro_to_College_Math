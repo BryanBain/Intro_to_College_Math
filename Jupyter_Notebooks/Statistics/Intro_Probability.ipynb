{
 "cells": [
  {
   "cell_type": "markdown",
   "id": "7a161eb7-fbeb-447e-b5b7-2aabd684098e",
   "metadata": {},
   "source": [
    "# Intro to Probability"
   ]
  },
  {
   "cell_type": "code",
   "execution_count": null,
   "id": "bad49785-62f3-477c-867b-42d8e3019f88",
   "metadata": {},
   "outputs": [],
   "source": [
    "import pandas as pd"
   ]
  },
  {
   "cell_type": "code",
   "execution_count": null,
   "id": "7519640b-7d95-4df2-962c-a7c0b3d863cf",
   "metadata": {},
   "outputs": [],
   "source": [
    "df = pd.read_csv('Datasets/assessment_scores.csv')"
   ]
  },
  {
   "cell_type": "code",
   "execution_count": null,
   "id": "7cfb0a1e-1f30-45a6-aa54-0c7d506a23c4",
   "metadata": {},
   "outputs": [],
   "source": [
    "df"
   ]
  },
  {
   "cell_type": "code",
   "execution_count": null,
   "id": "66c95608-3d55-4c59-b0d1-10def11aae59",
   "metadata": {},
   "outputs": [],
   "source": [
    "df.shape"
   ]
  },
  {
   "cell_type": "markdown",
   "id": "d3644898-6ead-4b19-a4cb-6f298fc3ba7d",
   "metadata": {},
   "source": [
    "## Accessing Certain Data Values"
   ]
  },
  {
   "cell_type": "markdown",
   "id": "c8b34c07-7542-4f7e-8820-0e36b90de0b9",
   "metadata": {},
   "source": [
    "Recall that the probability of an event *A*, in sample space *S*, is defined as\n",
    "\n",
    "$$P(A) = \\frac{\\text{number of ways $A$ can occur}}{\\text{number of ways $S$ can occur}}$$\n",
    "\n",
    "Most of the problems involving probability and data frames can be reduced to 2 subproblems:\n",
    "\n",
    "* How do you find the value of the numerator?\n",
    "* How do you find the value of the denominator?\n",
    "\n",
    "We need to know **how** to find the counts for each part of the fraction.\n",
    "\n",
    "Much of which can be done by using the `len()` function."
   ]
  },
  {
   "cell_type": "markdown",
   "id": "98a371c2-dff0-4fdd-96e6-442c82b40679",
   "metadata": {},
   "source": [
    "### Getting Exact Single Values"
   ]
  },
  {
   "cell_type": "markdown",
   "id": "043e5427-4159-4548-864f-b80055951f80",
   "metadata": {},
   "source": [
    "Suppose we want to find the probability that a randomly selected student is from Ohio.\n",
    "\n",
    "We will need the following:\n",
    "\n",
    "* Numerator &rarr; Number of instances of OH in the \"state\" column.\n",
    "* Denominator &rarr; Total number of students in the data set"
   ]
  },
  {
   "cell_type": "markdown",
   "id": "cb7d2d73-51ed-403a-abcc-8e3f3e2ec6e2",
   "metadata": {},
   "source": [
    "For the denominator, we simply need to know the number of rows of data. The quickest way to know the number of items in this list is to use the `len` function. If we are going to use this denominator for many problems, it would be to our advantage to also store the result as a variable."
   ]
  },
  {
   "cell_type": "code",
   "execution_count": null,
   "id": "f92445e8-bc3a-4931-8025-2dfc8aceb4d3",
   "metadata": {},
   "outputs": [],
   "source": [
    "denom = len(df)"
   ]
  },
  {
   "cell_type": "code",
   "execution_count": null,
   "id": "ef0184bd-8a59-40f3-9fba-6eee35b0125e",
   "metadata": {},
   "outputs": [],
   "source": [
    "denom"
   ]
  },
  {
   "cell_type": "markdown",
   "id": "2b04c756-fa92-42c2-9585-dea965b4ee08",
   "metadata": {},
   "source": [
    "Now that we've taken care of the denominator, we need to figure out how many of the students are from Ohio. If we scroll down the list and keep a runny tally of how many states are \"OH,\" this would take far too much time. There *has* to be an easier way..."
   ]
  },
  {
   "cell_type": "markdown",
   "id": "c2cddb63-c21e-4d29-a1cd-70851926a50c",
   "metadata": {},
   "source": [
    "In Pandas, there are actually a few ways we can find how many of the students in the data set are from Ohio. \n",
    "\n",
    "However, regardless of which method we use, in Python when we are testing for equality, we use `==` and not `=`.\n",
    "\n",
    "Also, since the state abbreviation \"OH\" is a **string**, we need to make sure to put the entire date inside a pair of single (or double) quotation marks.\n",
    "\n",
    "As usual, feel free to use whichever method works best for you."
   ]
  },
  {
   "cell_type": "markdown",
   "id": "617c751e-8ce4-4f3b-bb3d-e065e1b5f39b",
   "metadata": {},
   "source": [
    "#### Method 1: Using the df[df['column name'] == ] Approach"
   ]
  },
  {
   "cell_type": "markdown",
   "id": "69391e10-dac3-4a93-afc4-a1aa5151d53a",
   "metadata": {},
   "source": [
    "In this method, you type the name of the column (*don't forget the quotation marks*) inside the square brackets of `df[]`.\n",
    "\n",
    "On the right side, type the value that you are looking to find; in this case, the rows in which the state is \"OH\".\n",
    "\n",
    "You then wrap this statement, `df['state'] == \"OH\"` inside of another `df[]`.\n",
    "\n",
    "This will create a conditional statement in which, for each row, the state either is \"OH\" or it is not \"OH\". In essence, we are creating a smaller version of our data frame where we only see the rows in which the state value is \"OH\"."
   ]
  },
  {
   "cell_type": "code",
   "execution_count": null,
   "id": "1bdf2365-03c9-4928-8dd9-68db64c1cb0e",
   "metadata": {},
   "outputs": [],
   "source": [
    "df[\n",
    "    df['state'] == \"OH\"\n",
    "]"
   ]
  },
  {
   "cell_type": "markdown",
   "id": "dfbbfc23-c591-4569-ab6b-ce4d979d24bd",
   "metadata": {},
   "source": [
    "If we want to know **how many** states are listed as \"OH\", we just need to find the length of our new, smaller data frame. This is where the `len` function comes in handy.\n",
    "\n",
    "First, it might make it easier to store our previous result as a variable. This way we don't have to type that `df[ yada yada ]` stuff again."
   ]
  },
  {
   "cell_type": "code",
   "execution_count": null,
   "id": "1a1b4a02-b1c8-49a9-be94-3f9fca68c852",
   "metadata": {},
   "outputs": [],
   "source": [
    "stateOH = df[\n",
    "    df['state'] == \"OH\"\n",
    "]"
   ]
  },
  {
   "cell_type": "markdown",
   "id": "7ac40d9a-0449-43f4-9367-67e1ed1830bf",
   "metadata": {},
   "source": [
    "Now, let's find the length (*i.e.* the number of rows) of our new data frame. This will be our numerator."
   ]
  },
  {
   "cell_type": "code",
   "execution_count": null,
   "id": "27817b82-4111-4670-b51c-cf73baa9b442",
   "metadata": {},
   "outputs": [],
   "source": [
    "numer = len(stateOH)"
   ]
  },
  {
   "cell_type": "code",
   "execution_count": null,
   "id": "61a5d957-7f1b-4189-83af-1875cc04c35d",
   "metadata": {},
   "outputs": [],
   "source": [
    "numer"
   ]
  },
  {
   "cell_type": "markdown",
   "id": "1820433e-482e-40cc-835e-75847fb25036",
   "metadata": {},
   "source": [
    "So now we have our numerator (30019) and earlier we found our denominator (1500000), so now we are ready to find the probability that a randomly selected student is from Ohio."
   ]
  },
  {
   "cell_type": "code",
   "execution_count": null,
   "id": "d9083197-4941-4cbd-be32-cfce2211f2f7",
   "metadata": {},
   "outputs": [],
   "source": [
    "numer/denom"
   ]
  },
  {
   "cell_type": "markdown",
   "id": "9f5d5c42-4486-416b-9584-f5120c43499b",
   "metadata": {},
   "source": [
    "#### Method 2: Using the Dot Operator Approach"
   ]
  },
  {
   "cell_type": "markdown",
   "id": "40014165-1b2a-4ab4-81da-ba850e028737",
   "metadata": {},
   "source": [
    "To get the numerator, instead of typing `df[\"state\"]`, we could type `df.state`. However, we still need to put `df.state == \"OH\"` inside the square brackets of `df[]`."
   ]
  },
  {
   "cell_type": "code",
   "execution_count": null,
   "id": "f125e140-f4be-4d7a-80d6-e6189c276ab3",
   "metadata": {},
   "outputs": [],
   "source": [
    "len(\n",
    "    df[df.state == \"OH\"]\n",
    ")"
   ]
  },
  {
   "cell_type": "markdown",
   "id": "e4bef586-2e32-4fe2-9558-d61cc601146d",
   "metadata": {},
   "source": [
    "#### Method 3: Using df.query Approach"
   ]
  },
  {
   "cell_type": "markdown",
   "id": "4d4c13a8-eae7-4eee-8b0e-aa163d97767c",
   "metadata": {},
   "source": [
    "In this method, we use `df.query` to run a query on the `state` column. \n",
    "\n",
    "A **query** is a process of looking up values based on some condition(s).\n",
    "\n",
    "When using `df.query()`, you will have to put your condition inside quotation marks.\n",
    "\n",
    "The column name does not have to be in quotation marks but the state name does. *Note*: I have added an unncessary space between the double and single quotation marks at the end."
   ]
  },
  {
   "cell_type": "code",
   "execution_count": null,
   "id": "d44bf871-4830-44f7-b9f4-b9d227ab0a42",
   "metadata": {},
   "outputs": [],
   "source": [
    "df.query('state == \"OH\" ')"
   ]
  },
  {
   "cell_type": "markdown",
   "id": "e6c20922-a086-41eb-99ad-38288f728580",
   "metadata": {},
   "source": [
    "And, just like before, to find the numerator, use the `len` function."
   ]
  },
  {
   "cell_type": "code",
   "execution_count": null,
   "id": "4e1475e8-21df-4737-acbe-bb71570541d3",
   "metadata": {},
   "outputs": [],
   "source": [
    "len(\n",
    "    df.query('state == \"OH\" ')\n",
    ")"
   ]
  },
  {
   "cell_type": "markdown",
   "id": "b7bc8bac-e97f-4d72-bff0-cd060b0eed42",
   "metadata": {},
   "source": [
    "### Boolean Operators: ==, !=, <, >, <=, >="
   ]
  },
  {
   "cell_type": "markdown",
   "id": "39b468fb-b51b-42fc-96b3-4d400b5de929",
   "metadata": {},
   "source": [
    "#### Exercise 1:"
   ]
  },
  {
   "cell_type": "markdown",
   "id": "bd0af4c1-f816-4d2f-aa34-3f236476d8bf",
   "metadata": {},
   "source": [
    "Find the probability that a randomly selected student's `ela09` score is greater than 600."
   ]
  },
  {
   "cell_type": "code",
   "execution_count": null,
   "id": "7e632263-3583-423d-a091-8dff49ed12ec",
   "metadata": {},
   "outputs": [],
   "source": []
  },
  {
   "cell_type": "markdown",
   "id": "869fcc31-bf26-4327-b4b3-ce5d8660d1d1",
   "metadata": {},
   "source": [
    "#### Exercise 2:"
   ]
  },
  {
   "cell_type": "markdown",
   "id": "a6bbe159-30e6-44ad-8393-dd93b66ddb0f",
   "metadata": {},
   "source": [
    "Find the probability that a randomly selected student's `math10` score is less than or equal to 350."
   ]
  },
  {
   "cell_type": "code",
   "execution_count": null,
   "id": "0dab6b2b-3227-41dc-847a-1f1237340cd6",
   "metadata": {},
   "outputs": [],
   "source": []
  },
  {
   "cell_type": "markdown",
   "id": "4858cd60-f1d7-468d-845b-c76bf029ab63",
   "metadata": {},
   "source": [
    "#### Exercise 3:"
   ]
  },
  {
   "cell_type": "markdown",
   "id": "d0a0c3ee-eb46-492d-8768-e7790aabf734",
   "metadata": {},
   "source": [
    "Find the probability that a randomly selected student is **not** from Pennsylvania."
   ]
  },
  {
   "cell_type": "code",
   "execution_count": null,
   "id": "de30d532-b1ee-44d1-8dba-70740cfcdca6",
   "metadata": {},
   "outputs": [],
   "source": []
  }
 ],
 "metadata": {
  "kernelspec": {
   "display_name": "Python 3 (ipykernel)",
   "language": "python",
   "name": "python3"
  },
  "language_info": {
   "codemirror_mode": {
    "name": "ipython",
    "version": 3
   },
   "file_extension": ".py",
   "mimetype": "text/x-python",
   "name": "python",
   "nbconvert_exporter": "python",
   "pygments_lexer": "ipython3",
   "version": "3.9.13"
  }
 },
 "nbformat": 4,
 "nbformat_minor": 5
}
