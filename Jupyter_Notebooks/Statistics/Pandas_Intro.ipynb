{
 "cells": [
  {
   "cell_type": "markdown",
   "id": "c4fc9318-a671-40ee-91e8-96d33f40d313",
   "metadata": {
    "tags": []
   },
   "source": [
    "# Measures of Center with Large Data Sets"
   ]
  },
  {
   "cell_type": "markdown",
   "id": "d2309275-0868-4884-bb50-07374ee3aceb",
   "metadata": {},
   "source": [
    "The data sets we have been working with so far have been (thankfully) somewhat small. \n",
    "\n",
    "However, most data sets in the real world are very large; many consisting of hundreds, thousands, and millions (or more) rows and columns of information.\n",
    "\n",
    "We don't want to retype (or even copy-paste) this information everytime, so we will instead learn about how to import data sets into our notebook using the Pandas library."
   ]
  },
  {
   "cell_type": "code",
   "execution_count": 3,
   "id": "5de99898-cfab-4c4c-bb11-43dcf77d113e",
   "metadata": {},
   "outputs": [],
   "source": [
    "import pandas as pd"
   ]
  },
  {
   "cell_type": "markdown",
   "id": "0351986a-7f52-400c-82b7-ce8c110b8fe6",
   "metadata": {},
   "source": [
    "Pandas is very good at importing data sets given as different file types, such as Microsoft Excel files. \n",
    "\n",
    "In this example, we are going to use Pandas to import data that is saved as a *comma separated value* file, or csv.\n",
    "\n",
    "To start, we will read the `people.csv` file (located in the Datasets folder) as a DataFrame. You can think of a DataFrame as a (possibly) giant spreadsheet.\n",
    "\n",
    "In the `people.csv` file, random names, ages, Ohio city residences, and incomes have been generated."
   ]
  },
  {
   "cell_type": "code",
   "execution_count": 4,
   "id": "18e1cf1a-25d4-4519-8a59-2aada9af0e12",
   "metadata": {},
   "outputs": [],
   "source": [
    "df = pd.read_csv('people.csv')"
   ]
  },
  {
   "cell_type": "code",
   "execution_count": 5,
   "id": "cc9cfa3f-ed93-4552-afa5-59716f53eca8",
   "metadata": {},
   "outputs": [
    {
     "data": {
      "text/html": [
       "<div>\n",
       "<style scoped>\n",
       "    .dataframe tbody tr th:only-of-type {\n",
       "        vertical-align: middle;\n",
       "    }\n",
       "\n",
       "    .dataframe tbody tr th {\n",
       "        vertical-align: top;\n",
       "    }\n",
       "\n",
       "    .dataframe thead th {\n",
       "        text-align: right;\n",
       "    }\n",
       "</style>\n",
       "<table border=\"1\" class=\"dataframe\">\n",
       "  <thead>\n",
       "    <tr style=\"text-align: right;\">\n",
       "      <th></th>\n",
       "      <th>id</th>\n",
       "      <th>name</th>\n",
       "      <th>age</th>\n",
       "      <th>city</th>\n",
       "      <th>income</th>\n",
       "    </tr>\n",
       "  </thead>\n",
       "  <tbody>\n",
       "    <tr>\n",
       "      <th>0</th>\n",
       "      <td>0</td>\n",
       "      <td>Ishmael</td>\n",
       "      <td>44</td>\n",
       "      <td>Cleveland</td>\n",
       "      <td>83899</td>\n",
       "    </tr>\n",
       "    <tr>\n",
       "      <th>1</th>\n",
       "      <td>1</td>\n",
       "      <td>Matthew</td>\n",
       "      <td>42</td>\n",
       "      <td>Youngstown</td>\n",
       "      <td>94782</td>\n",
       "    </tr>\n",
       "    <tr>\n",
       "      <th>2</th>\n",
       "      <td>2</td>\n",
       "      <td>Steve</td>\n",
       "      <td>53</td>\n",
       "      <td>Youngstown</td>\n",
       "      <td>103940</td>\n",
       "    </tr>\n",
       "    <tr>\n",
       "      <th>3</th>\n",
       "      <td>3</td>\n",
       "      <td>Nathan</td>\n",
       "      <td>31</td>\n",
       "      <td>Cleveland</td>\n",
       "      <td>48285</td>\n",
       "    </tr>\n",
       "    <tr>\n",
       "      <th>4</th>\n",
       "      <td>4</td>\n",
       "      <td>Jeff</td>\n",
       "      <td>41</td>\n",
       "      <td>Columbus</td>\n",
       "      <td>70327</td>\n",
       "    </tr>\n",
       "    <tr>\n",
       "      <th>...</th>\n",
       "      <td>...</td>\n",
       "      <td>...</td>\n",
       "      <td>...</td>\n",
       "      <td>...</td>\n",
       "      <td>...</td>\n",
       "    </tr>\n",
       "    <tr>\n",
       "      <th>24995</th>\n",
       "      <td>24995</td>\n",
       "      <td>Ryan</td>\n",
       "      <td>29</td>\n",
       "      <td>Akron</td>\n",
       "      <td>89043</td>\n",
       "    </tr>\n",
       "    <tr>\n",
       "      <th>24996</th>\n",
       "      <td>24996</td>\n",
       "      <td>Vivian</td>\n",
       "      <td>80</td>\n",
       "      <td>Dayton</td>\n",
       "      <td>70236</td>\n",
       "    </tr>\n",
       "    <tr>\n",
       "      <th>24997</th>\n",
       "      <td>24997</td>\n",
       "      <td>Leia</td>\n",
       "      <td>35</td>\n",
       "      <td>Cincinnati</td>\n",
       "      <td>46809</td>\n",
       "    </tr>\n",
       "    <tr>\n",
       "      <th>24998</th>\n",
       "      <td>24998</td>\n",
       "      <td>Atticus</td>\n",
       "      <td>64</td>\n",
       "      <td>Dayton</td>\n",
       "      <td>107329</td>\n",
       "    </tr>\n",
       "    <tr>\n",
       "      <th>24999</th>\n",
       "      <td>24999</td>\n",
       "      <td>Helena</td>\n",
       "      <td>20</td>\n",
       "      <td>Dayton</td>\n",
       "      <td>70219</td>\n",
       "    </tr>\n",
       "  </tbody>\n",
       "</table>\n",
       "<p>25000 rows × 5 columns</p>\n",
       "</div>"
      ],
      "text/plain": [
       "          id     name  age        city  income\n",
       "0          0  Ishmael   44   Cleveland   83899\n",
       "1          1  Matthew   42  Youngstown   94782\n",
       "2          2    Steve   53  Youngstown  103940\n",
       "3          3   Nathan   31   Cleveland   48285\n",
       "4          4     Jeff   41    Columbus   70327\n",
       "...      ...      ...  ...         ...     ...\n",
       "24995  24995     Ryan   29       Akron   89043\n",
       "24996  24996   Vivian   80      Dayton   70236\n",
       "24997  24997     Leia   35  Cincinnati   46809\n",
       "24998  24998  Atticus   64      Dayton  107329\n",
       "24999  24999   Helena   20      Dayton   70219\n",
       "\n",
       "[25000 rows x 5 columns]"
      ]
     },
     "execution_count": 5,
     "metadata": {},
     "output_type": "execute_result"
    }
   ],
   "source": [
    "df  # allows us to see the first few and last few rows of the data frame"
   ]
  },
  {
   "cell_type": "code",
   "execution_count": 6,
   "id": "07a627dd-3d91-44af-adc7-1ddbd33c6c82",
   "metadata": {},
   "outputs": [
    {
     "data": {
      "text/html": [
       "<div>\n",
       "<style scoped>\n",
       "    .dataframe tbody tr th:only-of-type {\n",
       "        vertical-align: middle;\n",
       "    }\n",
       "\n",
       "    .dataframe tbody tr th {\n",
       "        vertical-align: top;\n",
       "    }\n",
       "\n",
       "    .dataframe thead th {\n",
       "        text-align: right;\n",
       "    }\n",
       "</style>\n",
       "<table border=\"1\" class=\"dataframe\">\n",
       "  <thead>\n",
       "    <tr style=\"text-align: right;\">\n",
       "      <th></th>\n",
       "      <th>id</th>\n",
       "      <th>name</th>\n",
       "      <th>age</th>\n",
       "      <th>city</th>\n",
       "      <th>income</th>\n",
       "    </tr>\n",
       "  </thead>\n",
       "  <tbody>\n",
       "    <tr>\n",
       "      <th>0</th>\n",
       "      <td>0</td>\n",
       "      <td>Ishmael</td>\n",
       "      <td>44</td>\n",
       "      <td>Cleveland</td>\n",
       "      <td>83899</td>\n",
       "    </tr>\n",
       "    <tr>\n",
       "      <th>1</th>\n",
       "      <td>1</td>\n",
       "      <td>Matthew</td>\n",
       "      <td>42</td>\n",
       "      <td>Youngstown</td>\n",
       "      <td>94782</td>\n",
       "    </tr>\n",
       "    <tr>\n",
       "      <th>2</th>\n",
       "      <td>2</td>\n",
       "      <td>Steve</td>\n",
       "      <td>53</td>\n",
       "      <td>Youngstown</td>\n",
       "      <td>103940</td>\n",
       "    </tr>\n",
       "    <tr>\n",
       "      <th>3</th>\n",
       "      <td>3</td>\n",
       "      <td>Nathan</td>\n",
       "      <td>31</td>\n",
       "      <td>Cleveland</td>\n",
       "      <td>48285</td>\n",
       "    </tr>\n",
       "    <tr>\n",
       "      <th>4</th>\n",
       "      <td>4</td>\n",
       "      <td>Jeff</td>\n",
       "      <td>41</td>\n",
       "      <td>Columbus</td>\n",
       "      <td>70327</td>\n",
       "    </tr>\n",
       "  </tbody>\n",
       "</table>\n",
       "</div>"
      ],
      "text/plain": [
       "   id     name  age        city  income\n",
       "0   0  Ishmael   44   Cleveland   83899\n",
       "1   1  Matthew   42  Youngstown   94782\n",
       "2   2    Steve   53  Youngstown  103940\n",
       "3   3   Nathan   31   Cleveland   48285\n",
       "4   4     Jeff   41    Columbus   70327"
      ]
     },
     "execution_count": 6,
     "metadata": {},
     "output_type": "execute_result"
    }
   ],
   "source": [
    "df.head()  # We can use this to get a look at the first few rows of our data frame."
   ]
  },
  {
   "cell_type": "code",
   "execution_count": 7,
   "id": "4616e7c2-641e-441d-b197-47057793c1d8",
   "metadata": {},
   "outputs": [
    {
     "data": {
      "text/html": [
       "<div>\n",
       "<style scoped>\n",
       "    .dataframe tbody tr th:only-of-type {\n",
       "        vertical-align: middle;\n",
       "    }\n",
       "\n",
       "    .dataframe tbody tr th {\n",
       "        vertical-align: top;\n",
       "    }\n",
       "\n",
       "    .dataframe thead th {\n",
       "        text-align: right;\n",
       "    }\n",
       "</style>\n",
       "<table border=\"1\" class=\"dataframe\">\n",
       "  <thead>\n",
       "    <tr style=\"text-align: right;\">\n",
       "      <th></th>\n",
       "      <th>id</th>\n",
       "      <th>name</th>\n",
       "      <th>age</th>\n",
       "      <th>city</th>\n",
       "      <th>income</th>\n",
       "    </tr>\n",
       "  </thead>\n",
       "  <tbody>\n",
       "    <tr>\n",
       "      <th>24995</th>\n",
       "      <td>24995</td>\n",
       "      <td>Ryan</td>\n",
       "      <td>29</td>\n",
       "      <td>Akron</td>\n",
       "      <td>89043</td>\n",
       "    </tr>\n",
       "    <tr>\n",
       "      <th>24996</th>\n",
       "      <td>24996</td>\n",
       "      <td>Vivian</td>\n",
       "      <td>80</td>\n",
       "      <td>Dayton</td>\n",
       "      <td>70236</td>\n",
       "    </tr>\n",
       "    <tr>\n",
       "      <th>24997</th>\n",
       "      <td>24997</td>\n",
       "      <td>Leia</td>\n",
       "      <td>35</td>\n",
       "      <td>Cincinnati</td>\n",
       "      <td>46809</td>\n",
       "    </tr>\n",
       "    <tr>\n",
       "      <th>24998</th>\n",
       "      <td>24998</td>\n",
       "      <td>Atticus</td>\n",
       "      <td>64</td>\n",
       "      <td>Dayton</td>\n",
       "      <td>107329</td>\n",
       "    </tr>\n",
       "    <tr>\n",
       "      <th>24999</th>\n",
       "      <td>24999</td>\n",
       "      <td>Helena</td>\n",
       "      <td>20</td>\n",
       "      <td>Dayton</td>\n",
       "      <td>70219</td>\n",
       "    </tr>\n",
       "  </tbody>\n",
       "</table>\n",
       "</div>"
      ],
      "text/plain": [
       "          id     name  age        city  income\n",
       "24995  24995     Ryan   29       Akron   89043\n",
       "24996  24996   Vivian   80      Dayton   70236\n",
       "24997  24997     Leia   35  Cincinnati   46809\n",
       "24998  24998  Atticus   64      Dayton  107329\n",
       "24999  24999   Helena   20      Dayton   70219"
      ]
     },
     "execution_count": 7,
     "metadata": {},
     "output_type": "execute_result"
    }
   ],
   "source": [
    "df.tail()  # This will allow us to look at the last few rows."
   ]
  },
  {
   "cell_type": "code",
   "execution_count": 8,
   "id": "08a45b7d-e80a-4107-ade7-83be5f081f0c",
   "metadata": {},
   "outputs": [
    {
     "data": {
      "text/html": [
       "<div>\n",
       "<style scoped>\n",
       "    .dataframe tbody tr th:only-of-type {\n",
       "        vertical-align: middle;\n",
       "    }\n",
       "\n",
       "    .dataframe tbody tr th {\n",
       "        vertical-align: top;\n",
       "    }\n",
       "\n",
       "    .dataframe thead th {\n",
       "        text-align: right;\n",
       "    }\n",
       "</style>\n",
       "<table border=\"1\" class=\"dataframe\">\n",
       "  <thead>\n",
       "    <tr style=\"text-align: right;\">\n",
       "      <th></th>\n",
       "      <th>id</th>\n",
       "      <th>name</th>\n",
       "      <th>age</th>\n",
       "      <th>city</th>\n",
       "      <th>income</th>\n",
       "    </tr>\n",
       "  </thead>\n",
       "  <tbody>\n",
       "    <tr>\n",
       "      <th>0</th>\n",
       "      <td>0</td>\n",
       "      <td>Ishmael</td>\n",
       "      <td>44</td>\n",
       "      <td>Cleveland</td>\n",
       "      <td>83899</td>\n",
       "    </tr>\n",
       "    <tr>\n",
       "      <th>1</th>\n",
       "      <td>1</td>\n",
       "      <td>Matthew</td>\n",
       "      <td>42</td>\n",
       "      <td>Youngstown</td>\n",
       "      <td>94782</td>\n",
       "    </tr>\n",
       "    <tr>\n",
       "      <th>2</th>\n",
       "      <td>2</td>\n",
       "      <td>Steve</td>\n",
       "      <td>53</td>\n",
       "      <td>Youngstown</td>\n",
       "      <td>103940</td>\n",
       "    </tr>\n",
       "    <tr>\n",
       "      <th>3</th>\n",
       "      <td>3</td>\n",
       "      <td>Nathan</td>\n",
       "      <td>31</td>\n",
       "      <td>Cleveland</td>\n",
       "      <td>48285</td>\n",
       "    </tr>\n",
       "    <tr>\n",
       "      <th>4</th>\n",
       "      <td>4</td>\n",
       "      <td>Jeff</td>\n",
       "      <td>41</td>\n",
       "      <td>Columbus</td>\n",
       "      <td>70327</td>\n",
       "    </tr>\n",
       "    <tr>\n",
       "      <th>5</th>\n",
       "      <td>5</td>\n",
       "      <td>Sarah</td>\n",
       "      <td>82</td>\n",
       "      <td>Columbus</td>\n",
       "      <td>82676</td>\n",
       "    </tr>\n",
       "    <tr>\n",
       "      <th>6</th>\n",
       "      <td>6</td>\n",
       "      <td>Hector</td>\n",
       "      <td>38</td>\n",
       "      <td>Dayton</td>\n",
       "      <td>112619</td>\n",
       "    </tr>\n",
       "    <tr>\n",
       "      <th>7</th>\n",
       "      <td>7</td>\n",
       "      <td>Jeff</td>\n",
       "      <td>18</td>\n",
       "      <td>Akron</td>\n",
       "      <td>87367</td>\n",
       "    </tr>\n",
       "  </tbody>\n",
       "</table>\n",
       "</div>"
      ],
      "text/plain": [
       "   id     name  age        city  income\n",
       "0   0  Ishmael   44   Cleveland   83899\n",
       "1   1  Matthew   42  Youngstown   94782\n",
       "2   2    Steve   53  Youngstown  103940\n",
       "3   3   Nathan   31   Cleveland   48285\n",
       "4   4     Jeff   41    Columbus   70327\n",
       "5   5    Sarah   82    Columbus   82676\n",
       "6   6   Hector   38      Dayton  112619\n",
       "7   7     Jeff   18       Akron   87367"
      ]
     },
     "execution_count": 8,
     "metadata": {},
     "output_type": "execute_result"
    }
   ],
   "source": [
    "df.head(8)  # The number 8 inside parentheses will show us the first 8 rows."
   ]
  },
  {
   "cell_type": "markdown",
   "id": "344348e7-1cdf-49b9-b66f-a190dbe52042",
   "metadata": {},
   "source": [
    "## Finding the Mean or Median for the Values in a Column"
   ]
  },
  {
   "cell_type": "markdown",
   "id": "7bbbcfc9-767f-487b-a05c-45648b36faf6",
   "metadata": {},
   "source": [
    "We don't have to type the contents of an entire column that we might want to find the mean or median of.\n",
    "\n",
    "Suppose we want to find the mean age of the subjects in the data frame.\n",
    "\n",
    "There are a couple of ways we can go about doing this.\n",
    "\n",
    "While Pandas does have some statistical methods, I find it is easiest to work with NumPy."
   ]
  },
  {
   "cell_type": "markdown",
   "id": "71fc8c5b-b02d-4e3a-84b9-d7bd5ce1fbfe",
   "metadata": {},
   "source": [
    "### Option 1: Use NumPy on the Column's Name in the Data Frame"
   ]
  },
  {
   "cell_type": "code",
   "execution_count": 9,
   "id": "7f351409-cd50-4b1c-9389-4074331479b4",
   "metadata": {},
   "outputs": [],
   "source": [
    "import numpy as np"
   ]
  },
  {
   "cell_type": "code",
   "execution_count": 10,
   "id": "8fb4bee1-6b91-4fb7-b52c-7140e8345e48",
   "metadata": {},
   "outputs": [
    {
     "data": {
      "text/plain": [
       "53.81716"
      ]
     },
     "execution_count": 10,
     "metadata": {},
     "output_type": "execute_result"
    }
   ],
   "source": [
    "np.mean(df['age'])"
   ]
  },
  {
   "cell_type": "markdown",
   "id": "92b0e76a-8191-4c08-a363-219b386af7da",
   "metadata": {},
   "source": [
    "### Option 2: Store the Entire Column as a Variable"
   ]
  },
  {
   "cell_type": "code",
   "execution_count": 11,
   "id": "aa6c048a-8cc7-4acf-bc78-5fed086fe670",
   "metadata": {},
   "outputs": [
    {
     "data": {
      "text/plain": [
       "53.81716"
      ]
     },
     "execution_count": 11,
     "metadata": {},
     "output_type": "execute_result"
    }
   ],
   "source": [
    "age = df['age']\n",
    "\n",
    "np.mean(age)"
   ]
  },
  {
   "cell_type": "markdown",
   "id": "e09cd7f0-bebe-4053-99d2-2f4a6bdcd758",
   "metadata": {},
   "source": [
    "### Option 3: Use the Dot Operator"
   ]
  },
  {
   "cell_type": "code",
   "execution_count": 12,
   "id": "84c92964-cd47-4934-80c0-c3f420ee17c3",
   "metadata": {},
   "outputs": [
    {
     "data": {
      "text/plain": [
       "53.81716"
      ]
     },
     "execution_count": 12,
     "metadata": {},
     "output_type": "execute_result"
    }
   ],
   "source": [
    "np.mean(df.age)"
   ]
  },
  {
   "cell_type": "markdown",
   "id": "180fbc31-407e-4e7b-b072-e29d208351ae",
   "metadata": {},
   "source": [
    "### Median"
   ]
  },
  {
   "cell_type": "code",
   "execution_count": 13,
   "id": "e3a5a71d-3bf6-4d64-baf0-8a63eb9f9e2e",
   "metadata": {},
   "outputs": [
    {
     "data": {
      "text/plain": [
       "54.0"
      ]
     },
     "execution_count": 13,
     "metadata": {},
     "output_type": "execute_result"
    }
   ],
   "source": [
    "np.median(df['age'])"
   ]
  },
  {
   "cell_type": "code",
   "execution_count": 14,
   "id": "94c70a82-d63b-47a1-8a0b-d7bc4dd79d18",
   "metadata": {},
   "outputs": [
    {
     "data": {
      "text/plain": [
       "54.0"
      ]
     },
     "execution_count": 14,
     "metadata": {},
     "output_type": "execute_result"
    }
   ],
   "source": [
    "np.median(age)"
   ]
  },
  {
   "cell_type": "code",
   "execution_count": 15,
   "id": "046e8b40-760d-4f7b-b7a0-ae32125afcee",
   "metadata": {},
   "outputs": [
    {
     "data": {
      "text/plain": [
       "54.0"
      ]
     },
     "execution_count": 15,
     "metadata": {},
     "output_type": "execute_result"
    }
   ],
   "source": [
    "np.median(df.age)"
   ]
  },
  {
   "cell_type": "markdown",
   "id": "ccaf48c8-8275-418b-a556-9448094d9522",
   "metadata": {},
   "source": [
    "## Finding the Mode of a Column"
   ]
  },
  {
   "cell_type": "markdown",
   "id": "ed277272-78a6-4dc6-87c7-1ba7bbb4148f",
   "metadata": {},
   "source": [
    "We won't be using this much, so don't worry too much about it.\n",
    "\n",
    "However, let's say you wanted to know which city in the made-up data set had the most number of people in it. In other words, you want to find the mode city.\n",
    "\n",
    "It's probably easiest to use the `multimode` method of the `statistics` library."
   ]
  },
  {
   "cell_type": "code",
   "execution_count": 16,
   "id": "035ec79f-4b11-43b1-8d5e-619e05ba4da5",
   "metadata": {},
   "outputs": [],
   "source": [
    "import statistics as stats"
   ]
  },
  {
   "cell_type": "code",
   "execution_count": 17,
   "id": "7f7e8781-c6a6-40ee-a0f4-1cecd0008af6",
   "metadata": {},
   "outputs": [
    {
     "data": {
      "text/plain": [
       "['Dayton']"
      ]
     },
     "execution_count": 17,
     "metadata": {},
     "output_type": "execute_result"
    }
   ],
   "source": [
    "stats.multimode(df['city'])"
   ]
  },
  {
   "cell_type": "markdown",
   "id": "287cefa0-0b2e-470f-98cb-0bbc20bbc00a",
   "metadata": {},
   "source": [
    "## Exercise: Find the mean and median incomes in the data frame."
   ]
  },
  {
   "cell_type": "code",
   "execution_count": null,
   "id": "0468c97e-209f-4137-966c-c33e89f2dab2",
   "metadata": {},
   "outputs": [],
   "source": []
  }
 ],
 "metadata": {
  "kernelspec": {
   "display_name": "Python 3.11.1 64-bit",
   "language": "python",
   "name": "python3"
  },
  "language_info": {
   "codemirror_mode": {
    "name": "ipython",
    "version": 3
   },
   "file_extension": ".py",
   "mimetype": "text/x-python",
   "name": "python",
   "nbconvert_exporter": "python",
   "pygments_lexer": "ipython3",
   "version": "3.11.1"
  },
  "vscode": {
   "interpreter": {
    "hash": "aee8b7b246df8f9039afb4144a1f6fd8d2ca17a180786b69acc140d282b71a49"
   }
  }
 },
 "nbformat": 4,
 "nbformat_minor": 5
}
