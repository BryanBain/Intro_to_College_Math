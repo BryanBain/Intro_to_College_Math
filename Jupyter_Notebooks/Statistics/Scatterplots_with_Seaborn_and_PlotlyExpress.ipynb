{
 "cells": [
  {
   "cell_type": "markdown",
   "id": "c73625b0-3d48-493e-a598-047bc15fc567",
   "metadata": {},
   "source": [
    "# Scatterplots"
   ]
  },
  {
   "cell_type": "markdown",
   "id": "e76d5414-447d-4678-be8c-6f009792c427",
   "metadata": {},
   "source": [
    "We will show how to create scatterplots of the information in example 1 using Matplotlib, Seaborn, and Plotly Express.\n",
    "\n",
    "Regardless, be sure that the order you input the values for the explanatory variable (x) is the same as the response variable (y)."
   ]
  },
  {
   "cell_type": "markdown",
   "id": "6126fade-ac94-4393-9ea8-eb9e5f056b6b",
   "metadata": {},
   "source": [
    "## Matplotlib"
   ]
  },
  {
   "cell_type": "markdown",
   "id": "7e8cffd5-3b7e-4405-ba5a-50a02d02d1b2",
   "metadata": {},
   "source": [
    "We use the `scatter` method. The first parameter is the list of x-coordinates (explanatory variable); the second parameter is the list of y-coordinates (response variable)."
   ]
  },
  {
   "cell_type": "code",
   "execution_count": null,
   "id": "93a9c498-0af4-4a46-84a7-f32003d37445",
   "metadata": {},
   "outputs": [],
   "source": [
    "import matplotlib.pyplot as plt"
   ]
  },
  {
   "cell_type": "code",
   "execution_count": null,
   "id": "f3cd24e2-8c44-490c-ba08-c072a581d1fd",
   "metadata": {},
   "outputs": [],
   "source": [
    "age = [2,3,3,2,4,5,6,1,0,4,7]\n",
    "value = [15,12,13,14,13,10,10.5,16.5,18,14,11]"
   ]
  },
  {
   "cell_type": "code",
   "execution_count": null,
   "id": "b2f3f8e9-e5e9-49a9-b632-2bf904122135",
   "metadata": {},
   "outputs": [],
   "source": [
    "fig, ax = plt.subplots()\n",
    "\n",
    "ax.scatter(age, value)\n",
    "ax.grid()\n",
    "ax.set_xlabel(\"Age\")\n",
    "ax.set_ylabel(\"Value\")\n",
    "ax.set_title(\"Example 1: Car Value Based on Age\")\n",
    "\n",
    "plt.show()"
   ]
  },
  {
   "cell_type": "markdown",
   "id": "c5a59ca8-50ff-4a8a-be0b-d6426fd7eec8",
   "metadata": {},
   "source": [
    "## Seaborn"
   ]
  },
  {
   "cell_type": "code",
   "execution_count": null,
   "id": "1f79f244-1d9f-45ee-85ae-f098455cb176",
   "metadata": {},
   "outputs": [],
   "source": [
    "import seaborn as sns"
   ]
  },
  {
   "cell_type": "code",
   "execution_count": null,
   "id": "aa997ab2-09a8-48a6-99a4-048edbe8934a",
   "metadata": {},
   "outputs": [],
   "source": [
    "graph = sns.scatterplot(x = age, y = value)\n",
    "graph.set_xlabel(\"Age\")\n",
    "graph.set_ylabel(\"Value\")\n",
    "graph.set_title(\"Example 1: Car Value Based on Age\")\n",
    "plt.grid()\n",
    "\n",
    "plt.show()"
   ]
  },
  {
   "cell_type": "markdown",
   "id": "42ea6be2-aee6-4d3f-950b-ea044ba7cf93",
   "metadata": {},
   "source": [
    "## Plotly Express"
   ]
  },
  {
   "cell_type": "code",
   "execution_count": null,
   "id": "f12db1f3-1391-4e0f-aea0-3420ef840a56",
   "metadata": {},
   "outputs": [],
   "source": [
    "import plotly.express as px"
   ]
  },
  {
   "cell_type": "code",
   "execution_count": null,
   "id": "50578476-e0b1-48d0-ae1d-8f6c9c3247ff",
   "metadata": {},
   "outputs": [],
   "source": [
    "px.scatter(x = age, y = value)"
   ]
  },
  {
   "cell_type": "markdown",
   "id": "14bc7bda-09ce-4701-9ce2-649ced0591cb",
   "metadata": {},
   "source": [
    "## Adding Mean Lines for X and Y"
   ]
  },
  {
   "cell_type": "markdown",
   "id": "b2b42cb9-9d3d-4be5-9363-f96344914e5d",
   "metadata": {},
   "source": [
    "We are going to have to import NumPy so it will calculate the means of the x- and y-coordinates."
   ]
  },
  {
   "cell_type": "code",
   "execution_count": null,
   "id": "f7044b85-c65f-418c-b4ba-c09ea06cee7d",
   "metadata": {},
   "outputs": [],
   "source": [
    "import numpy as np"
   ]
  },
  {
   "cell_type": "markdown",
   "id": "96182584-7e78-4360-b09c-ec3225737f5b",
   "metadata": {},
   "source": [
    "### Matplotlib"
   ]
  },
  {
   "cell_type": "code",
   "execution_count": null,
   "id": "cd3de04f-c272-4166-9f98-1c743a234a9f",
   "metadata": {},
   "outputs": [],
   "source": [
    "fig, ax = plt.subplots()\n",
    "\n",
    "ax.scatter(age, value)\n",
    "ax.axvline(np.mean(age), color = 'red', linestyle = '--')  # linestyle = '--' creates a dashed line\n",
    "ax.axhline(np.mean(value), color = 'red', linestyle = '--')\n",
    "ax.grid()\n",
    "ax.set_xlabel(\"Age\")\n",
    "ax.set_ylabel(\"Value\")\n",
    "ax.set_title(\"Example 1: Car Value Based on Age\")\n",
    "\n",
    "plt.show()"
   ]
  },
  {
   "cell_type": "markdown",
   "id": "c04011c5-3b57-4261-8d8d-942c648c5ba7",
   "metadata": {},
   "source": [
    "### Seaborn"
   ]
  },
  {
   "cell_type": "code",
   "execution_count": null,
   "id": "61a7b3ce-f3e9-4d27-a810-858211873f8d",
   "metadata": {},
   "outputs": [],
   "source": [
    "graph = sns.scatterplot(x = age, y = value)\n",
    "graph.axvline(np.mean(age), color = 'red', linestyle = '--')\n",
    "graph.axhline(np.mean(value), color = 'red', linestyle = '--')\n",
    "graph.set_xlabel(\"Age\")\n",
    "graph.set_ylabel(\"Value\")\n",
    "graph.set_title(\"Example 1: Car Value Based on Age\")\n",
    "plt.grid()\n",
    "\n",
    "plt.show()"
   ]
  },
  {
   "cell_type": "markdown",
   "id": "164333ce-a1c6-47fc-a87a-dbbeef256e72",
   "metadata": {},
   "source": [
    "### Plotly Express"
   ]
  },
  {
   "cell_type": "code",
   "execution_count": null,
   "id": "52125b77-a06f-49c5-842e-9d74f1ded8ec",
   "metadata": {},
   "outputs": [],
   "source": [
    "px_graph = px.scatter(x = age, y = value)\n",
    "px_graph.add_vline(\n",
    "    x = np.mean(age),\n",
    "    line_color=\"red\",\n",
    "    line_dash=\"dash\"\n",
    ")\n",
    "px_graph.add_hline(\n",
    "    y = np.mean(value),\n",
    "    line_color=\"red\",\n",
    "    line_dash=\"dash\"\n",
    ")"
   ]
  }
 ],
 "metadata": {
  "kernelspec": {
   "display_name": "Python 3 (ipykernel)",
   "language": "python",
   "name": "python3"
  },
  "language_info": {
   "codemirror_mode": {
    "name": "ipython",
    "version": 3
   },
   "file_extension": ".py",
   "mimetype": "text/x-python",
   "name": "python",
   "nbconvert_exporter": "python",
   "pygments_lexer": "ipython3",
   "version": "3.9.13"
  }
 },
 "nbformat": 4,
 "nbformat_minor": 5
}
