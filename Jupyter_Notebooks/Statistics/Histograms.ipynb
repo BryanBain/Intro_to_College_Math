{
 "cells": [
  {
   "cell_type": "code",
   "execution_count": null,
   "id": "e172ca1a-bb51-430a-b61c-bfbbd774daaa",
   "metadata": {},
   "outputs": [],
   "source": [
    "import matplotlib.pyplot as plt"
   ]
  },
  {
   "cell_type": "code",
   "execution_count": null,
   "id": "153a1bcd-cd37-41a4-9833-c37fd98ef73b",
   "metadata": {
    "tags": []
   },
   "outputs": [],
   "source": [
    "import numpy as np"
   ]
  },
  {
   "cell_type": "code",
   "execution_count": null,
   "id": "efef5f77-b2c7-4573-9ec3-f5579858d9b0",
   "metadata": {},
   "outputs": [],
   "source": [
    "# Use this if you want percentages on y-axis\n",
    "from matplotlib.ticker import PercentFormatter"
   ]
  },
  {
   "cell_type": "markdown",
   "id": "6fe54aa3-72ae-43d6-a02f-f59e1fdece20",
   "metadata": {},
   "source": [
    "# Histograms"
   ]
  },
  {
   "cell_type": "markdown",
   "id": "da68ace8-c391-4228-8891-9b0aa1fdfd50",
   "metadata": {},
   "source": [
    "We often work with raw data when creating histograms. If we are given a frequency or relative frequency table, we can create a bar graph and label the bars with numeric values.\n",
    "\n",
    "In `matplotlib.pyplot`, the classes are referred to as **bins**\n",
    "\n",
    "Below contains a possible list for the dog weights introduced in the beginning of the section's notes. *Note*: The data values do not need to be in any order."
   ]
  },
  {
   "cell_type": "code",
   "execution_count": null,
   "id": "f8f799f9-3893-4bc6-9bbc-5648fc5b7df5",
   "metadata": {},
   "outputs": [],
   "source": [
    "dog_weights = [\n",
    "    37, 39, 41, 42, 43, 43,\n",
    "    45, 45, 46, 46, 47, 47,\n",
    "    47, 48, 48, 50, 50, 51,\n",
    "    51, 52, 53, 53, 54, 57, 62\n",
    "]\n",
    "\n",
    "bins = [35, 40, 45, 50, 55, 60, 65]  # Lower class limits\n",
    "\n",
    "fig, ax = plt.subplots()\n",
    "ax.hist(dog_weights, bins=bins, edgecolor='black')\n",
    "ax.set_xlabel(\"Dog Weights\")\n",
    "ax.set_ylabel(\"Frequecy\")\n",
    "ax.set_title(\"Histogram of Dog Weights\")\n",
    "\n",
    "plt.show()"
   ]
  },
  {
   "cell_type": "markdown",
   "id": "d9d7251f-9209-4e6e-b88a-b27cfcaf83d3",
   "metadata": {},
   "source": [
    "We can generate the same histogram using a predetermined class width (5 in this case)."
   ]
  },
  {
   "cell_type": "code",
   "execution_count": null,
   "id": "5761d56c-1b25-4d6e-b144-ab7b1ef4cf86",
   "metadata": {},
   "outputs": [],
   "source": [
    "dog_weights = [\n",
    "    37, 39, 41, 42, 43, 43,\n",
    "    45, 45, 46, 46, 47, 47,\n",
    "    47, 48, 48, 50, 50, 51,\n",
    "    51, 52, 53, 53, 54, 57, 62\n",
    "]\n",
    "\n",
    "num_bins = 6  # adjust this number based on how many bins you want\n",
    "lcl_1 = 35  # the lower class limit of the first class\n",
    "class_width = 5\n",
    "bins = [lcl_1 + class_width*i for i in range(num_bins+1)]  # generate the list of lower class limits\n",
    "\n",
    "fig, ax = plt.subplots()\n",
    "ax.hist(dog_weights, bins=bins, edgecolor='black')\n",
    "ax.set_xlabel(\"Dog Weights\")\n",
    "ax.set_ylabel(\"Frequecy\")\n",
    "ax.set_title(\"Histogram of Dog Weights\")\n",
    "\n",
    "plt.show()"
   ]
  },
  {
   "cell_type": "markdown",
   "id": "564df3b2-c314-4acd-b851-99164e232869",
   "metadata": {},
   "source": [
    "A few things of note moving forward:\n",
    "\n",
    "* We will usually have many more bins in our histograms than we did in the examples in this section.\n",
    "* The `edgecolor = 'black'` can be omitted; I, personally, like to include it."
   ]
  },
  {
   "cell_type": "markdown",
   "id": "051718f8-36b7-4641-9656-b2e4fb907a54",
   "metadata": {},
   "source": [
    "## Notes: Example 2"
   ]
  },
  {
   "cell_type": "code",
   "execution_count": null,
   "id": "6862fabb-d4e2-4940-b1ec-32c2d88df3fe",
   "metadata": {},
   "outputs": [],
   "source": [
    "measurements = [\n",
    "    9,2,10,1,4,\n",
    "    5,1,6,7,4,\n",
    "    6,5,4,8,10,\n",
    "    3,1,2,3,9,\n",
    "    8,6,1,1,10\n",
    "]\n",
    "\n",
    "num_bins = 6\n",
    "lcl_1 = np.min(measurements)\n",
    "class_width = 2\n",
    "bins = [lcl_1 + class_width*i for i in range(num_bins+1)]\n",
    "\n",
    "fig, ax = plt.subplots()\n",
    "ax.hist(measurements, bins=bins, edgecolor='black')\n",
    "ax.set_xlabel(\"Measurements\")\n",
    "ax.set_ylabel(\"Frequecy\")\n",
    "ax.set_title(\"Histogram of Example 2\")\n",
    "\n",
    "plt.show()"
   ]
  },
  {
   "cell_type": "markdown",
   "id": "c7489547-11b2-4ab3-aa44-886fb43043da",
   "metadata": {},
   "source": [
    "# Relative Frequency Histograms"
   ]
  },
  {
   "cell_type": "code",
   "execution_count": null,
   "id": "87edaff4-5503-46b1-8506-33a72039b265",
   "metadata": {},
   "outputs": [],
   "source": [
    "dog_weights = [\n",
    "    37, 39, 41, 42, 43, 43,\n",
    "    45, 45, 46, 46, 47, 47,\n",
    "    47, 48, 48, 50, 50, 51,\n",
    "    51, 52, 53, 53, 54, 57, 62\n",
    "]\n",
    "\n",
    "rel_weights = np.ones_like(dog_weights)/len(dog_weights) # Get the relative frequency of each dog weight\n",
    "bins = [35, 40, 45, 50, 55, 60, 65]  # Lower class limits\n",
    "\n",
    "fig, ax = plt.subplots()\n",
    "ax.hist(dog_weights, bins=bins, edgecolor='black', weights=rel_weights)\n",
    "ax.set_xlabel(\"Dog Weights\")\n",
    "ax.set_ylabel(\"Relative Frequecy\")\n",
    "ax.set_title(\"Histogram of Dog Weights\")\n",
    "\n",
    "plt.show()"
   ]
  },
  {
   "cell_type": "markdown",
   "id": "92450c54-9388-4b5a-8172-fefa0a07bc54",
   "metadata": {},
   "source": [
    "## Relative Frequency Histograms with Percent Y-Axis"
   ]
  },
  {
   "cell_type": "markdown",
   "id": "2e1f02ac-f084-421e-a793-1508e90cba2f",
   "metadata": {},
   "source": [
    "The following will convert the y-axis on the chart above to percents. Simply add the following information:\n",
    "\n",
    "* Include the `100 *` in the `rel_weights` calculation.\n",
    "* Include the `ax.yaxis.set_major_formatter(PercentFormatter())` before `plt.show()`"
   ]
  },
  {
   "cell_type": "code",
   "execution_count": null,
   "id": "a93e249a-5c4a-4e8e-9f07-7351691e0199",
   "metadata": {},
   "outputs": [],
   "source": [
    "dog_weights = [\n",
    "    37, 39, 41, 42, 43, 43,\n",
    "    45, 45, 46, 46, 47, 47,\n",
    "    47, 48, 48, 50, 50, 51,\n",
    "    51, 52, 53, 53, 54, 57, 62\n",
    "]\n",
    "\n",
    "rel_weights = 100 * np.ones_like(dog_weights)/len(weights) # Get the relative frequency of each dog weight\n",
    "bins = [35, 40, 45, 50, 55, 60, 65]  # Lower class limits\n",
    "\n",
    "fig, ax = plt.subplots()\n",
    "ax.hist(dog_weights, bins=bins, edgecolor='black', weights=rel_weights)\n",
    "ax.set_xlabel(\"Dog Weights\")\n",
    "ax.set_ylabel(\"Relative Frequecy\")\n",
    "ax.set_title(\"Histogram of Dog Weights\")\n",
    "ax.yaxis.set_major_formatter(PercentFormatter())  # this is what you need\n",
    "\n",
    "plt.show()"
   ]
  },
  {
   "cell_type": "markdown",
   "id": "b5eec641-d68b-42c9-a3af-34a7916fd37c",
   "metadata": {},
   "source": [
    "# Density Histograms"
   ]
  },
  {
   "cell_type": "markdown",
   "id": "cf8c1780-7a2e-4f6e-8427-ff42e8744a27",
   "metadata": {},
   "source": [
    "This is incredibly simple. All we have to do is include a `density = True` in the `ax.hist` method.\n",
    "\n",
    "The following is the density histogram for the dog weights."
   ]
  },
  {
   "cell_type": "code",
   "execution_count": null,
   "id": "37d89187-58e9-49f6-bb3e-525426087c8a",
   "metadata": {},
   "outputs": [],
   "source": [
    "dog_weights = [\n",
    "    37, 39, 41, 42, 43, 43,\n",
    "    45, 45, 46, 46, 47, 47,\n",
    "    47, 48, 48, 50, 50, 51,\n",
    "    51, 52, 53, 53, 54, 57, 62\n",
    "]\n",
    "\n",
    "num_bins = 6  # adjust this number based on how many bins you want\n",
    "lcl_1 = 35  # the lower class limit of the first class\n",
    "class_width = 5\n",
    "bins = [lcl_1 + class_width*i for i in range(num_bins+1)]  # generate the list of lower class limits\n",
    "\n",
    "fig, ax = plt.subplots()\n",
    "ax.hist(dog_weights, bins=bins, edgecolor='black', density=True)\n",
    "ax.set_xlabel(\"Dog Weights\")\n",
    "ax.set_ylabel(\"Denisty\")\n",
    "ax.set_title(\"Density Histogram of Dog Weights\")\n",
    "\n",
    "plt.show()"
   ]
  },
  {
   "cell_type": "markdown",
   "id": "c6510b64-db6a-47b2-8814-f4eefeafdd98",
   "metadata": {},
   "source": [
    "# Cumulative Histograms"
   ]
  },
  {
   "cell_type": "markdown",
   "id": "c7220f14-4a96-482b-8c2a-21625082fdcf",
   "metadata": {},
   "source": [
    "Like density histograms, cumulative histograms are easy to make using matplotlib. Typically the more something is needed for people using this in the real world, the easier they try to make it on them.\n",
    "\n",
    "For cumulative histograms, all you have to do is include `cumulative = True` in the `ax.hist` method.\n",
    "\n",
    "The following is a cumulative histogram of the 25 dog's weights example."
   ]
  },
  {
   "cell_type": "code",
   "execution_count": null,
   "id": "f602172d-ca9a-46bf-a7f3-102b9b822833",
   "metadata": {},
   "outputs": [],
   "source": [
    "dog_weights = [\n",
    "    37, 39, 41, 42, 43, 43,\n",
    "    45, 45, 46, 46, 47, 47,\n",
    "    47, 48, 48, 50, 50, 51,\n",
    "    51, 52, 53, 53, 54, 57, 62\n",
    "]\n",
    "\n",
    "bins = [35, 40, 45, 50, 55, 60, 65]  # Lower class limits\n",
    "\n",
    "fig, ax = plt.subplots()\n",
    "# include cumulative=True to get cumulative histogram\n",
    "ax.hist(dog_weights, bins=bins, edgecolor='black', cumulative=True)\n",
    "ax.set_xlabel(\"Dog Weights\")\n",
    "ax.set_ylabel(\"Frequecy\")\n",
    "ax.set_title(\"Cumulative Histogram of Dog Weights\")\n",
    "\n",
    "plt.show()"
   ]
  },
  {
   "cell_type": "code",
   "execution_count": null,
   "id": "1ea48528-037a-4fbb-b3f3-a4abed22e066",
   "metadata": {},
   "outputs": [],
   "source": [
    "dog_weights = [\n",
    "    37, 39, 41, 42, 43, 43,\n",
    "    45, 45, 46, 46, 47, 47,\n",
    "    47, 48, 48, 50, 50, 51,\n",
    "    51, 52, 53, 53, 54, 57, 62\n",
    "]\n",
    "\n",
    "bins = [35, 40, 45, 50, 55, 60, 65]  # Lower class limits\n",
    "\n",
    "fig, ax = plt.subplots()\n",
    "# include cumulative=True to get cumulative histogram\n",
    "ax.hist(\n",
    "    dog_weights,\n",
    "    bins=bins,\n",
    "    edgecolor='black',\n",
    "    cumulative=True,\n",
    "    density=True\n",
    ")\n",
    "ax.set_xlabel(\"Dog Weights\")\n",
    "ax.set_ylabel(\"Relative Frequecy\")\n",
    "ax.set_title(\"Cumulative Relative Frequency Histogram of Dog Weights\")\n",
    "\n",
    "plt.show()"
   ]
  },
  {
   "cell_type": "markdown",
   "id": "3d1c39db-cb18-4726-bb60-573b85ad654f",
   "metadata": {},
   "source": [
    "# Addendum: Free Alternative to Matplotlib"
   ]
  },
  {
   "cell_type": "markdown",
   "id": "a6bfdc73-62ac-4630-b784-e7608ee107c7",
   "metadata": {},
   "source": [
    "While matplotlib is capable of doing what we need it to do, there are other libraries that we can use to display our histograms. Perhaps they might be easier to get what we want.\n",
    "\n",
    "One of those libraries is Seaborn."
   ]
  },
  {
   "cell_type": "code",
   "execution_count": null,
   "id": "d25f7461-47dc-45ed-940f-5bdd4078ef92",
   "metadata": {},
   "outputs": [],
   "source": [
    "# We have to import seaborn like we do with matplotlib\n",
    "import seaborn as sns"
   ]
  },
  {
   "cell_type": "code",
   "execution_count": null,
   "id": "0de39d43-40d6-47d6-88eb-78a1967b17d2",
   "metadata": {},
   "outputs": [],
   "source": [
    "sns.set_theme(style=\"whitegrid\", palette=\"pastel\")"
   ]
  },
  {
   "cell_type": "markdown",
   "id": "d61916d8-6de8-4d02-8f7a-ffc471c0f392",
   "metadata": {},
   "source": [
    "## Frequency Histogram with Seaborn"
   ]
  },
  {
   "cell_type": "code",
   "execution_count": null,
   "id": "27061f61-784b-4206-9889-46e5136dc806",
   "metadata": {},
   "outputs": [],
   "source": [
    "dog_weights = [\n",
    "    37, 39, 41, 42, 43, 43,\n",
    "    45, 45, 46, 46, 47, 47,\n",
    "    47, 48, 48, 50, 50, 51,\n",
    "    51, 52, 53, 53, 54, 57, 62\n",
    "]\n",
    "\n",
    "bins = [35, 40, 45, 50, 55, 60, 65]\n",
    "\n",
    "fig, ax = plt.subplots()\n",
    "sns.histplot(\n",
    "    data=dog_weights,\n",
    "    bins=bins,\n",
    "    stat='count'\n",
    ")\n",
    "\n",
    "ax.set_title(\"Frequency Histogram of Dog Weights\")\n",
    "ax.set_xlabel(\"Weights\")\n",
    "plt.show()"
   ]
  },
  {
   "cell_type": "markdown",
   "id": "205edc6e-036a-4ded-b73a-b7fdd6c3118a",
   "metadata": {},
   "source": [
    "## Relative Frequency Histogram with Seaborn"
   ]
  },
  {
   "cell_type": "code",
   "execution_count": null,
   "id": "c5268a1a-715d-4f84-bc45-3338d2aac2d3",
   "metadata": {},
   "outputs": [],
   "source": [
    "dog_weights = [\n",
    "    37, 39, 41, 42, 43, 43,\n",
    "    45, 45, 46, 46, 47, 47,\n",
    "    47, 48, 48, 50, 50, 51,\n",
    "    51, 52, 53, 53, 54, 57, 62\n",
    "]\n",
    "\n",
    "bins = [35, 40, 45, 50, 55, 60, 65]\n",
    "\n",
    "fig, ax = plt.subplots()\n",
    "sns.histplot(\n",
    "    data=dog_weights,\n",
    "    bins=bins,\n",
    "    stat='proportion'\n",
    ")\n",
    "\n",
    "ax.set_title(\"Frequency Histogram of Dog Weights\")\n",
    "ax.set_xlabel(\"Weights\")\n",
    "plt.show()"
   ]
  },
  {
   "cell_type": "markdown",
   "id": "4dd1095f-45d6-45cf-b3dd-20b54cd81cf1",
   "metadata": {},
   "source": [
    "## Percent Relative Frequency Histogram with Seaborn"
   ]
  },
  {
   "cell_type": "code",
   "execution_count": null,
   "id": "e37f33c2-ec6b-46d0-b9a1-29bd702b36ca",
   "metadata": {
    "tags": []
   },
   "outputs": [],
   "source": [
    "dog_weights = [\n",
    "    37, 39, 41, 42, 43, 43,\n",
    "    45, 45, 46, 46, 47, 47,\n",
    "    47, 48, 48, 50, 50, 51,\n",
    "    51, 52, 53, 53, 54, 57, 62\n",
    "]\n",
    "\n",
    "bins = [35, 40, 45, 50, 55, 60, 65]\n",
    "\n",
    "fig, ax = plt.subplots()\n",
    "sns.histplot(\n",
    "    data=dog_weights,\n",
    "    bins=bins,\n",
    "    stat='percent'\n",
    ")\n",
    "\n",
    "ax.set_title(\"Percent Relative Frequency Histogram of Dog Weights\")\n",
    "ax.set_xlabel(\"Weights\")\n",
    "plt.show()"
   ]
  },
  {
   "cell_type": "markdown",
   "id": "968b6afe-d603-4e23-8335-dc062e2921f0",
   "metadata": {},
   "source": [
    "## Density Histogram with Seaborn"
   ]
  },
  {
   "cell_type": "code",
   "execution_count": null,
   "id": "c7995842-26ca-45f1-bd56-54c787381866",
   "metadata": {},
   "outputs": [],
   "source": [
    "dog_weights = [\n",
    "    37, 39, 41, 42, 43, 43,\n",
    "    45, 45, 46, 46, 47, 47,\n",
    "    47, 48, 48, 50, 50, 51,\n",
    "    51, 52, 53, 53, 54, 57, 62\n",
    "]\n",
    "\n",
    "bins = [35, 40, 45, 50, 55, 60, 65]\n",
    "\n",
    "fig, ax = plt.subplots()\n",
    "sns.histplot(\n",
    "    data=dog_weights,\n",
    "    bins=bins,\n",
    "    stat='density'\n",
    ")\n",
    "\n",
    "ax.set_title(\"Density Histogram of Dog Weights\")\n",
    "ax.set_xlabel(\"Weights\")\n",
    "plt.show()"
   ]
  },
  {
   "cell_type": "markdown",
   "id": "fd80b4c7-5d4b-4559-b5af-c128742d7ea6",
   "metadata": {},
   "source": [
    "## Cumulative Frequency and Relative Frequency Histograms with Seaborn"
   ]
  },
  {
   "cell_type": "markdown",
   "id": "6b8dd5f3-c085-4c73-aed7-c212db25b6d2",
   "metadata": {},
   "source": [
    "We just need to add the `cumulative=True` to our `sns.histplot` method."
   ]
  },
  {
   "cell_type": "code",
   "execution_count": null,
   "id": "661839df-4413-44e5-ae8a-088c19403518",
   "metadata": {},
   "outputs": [],
   "source": [
    "dog_weights = [\n",
    "    37, 39, 41, 42, 43, 43,\n",
    "    45, 45, 46, 46, 47, 47,\n",
    "    47, 48, 48, 50, 50, 51,\n",
    "    51, 52, 53, 53, 54, 57, 62\n",
    "]\n",
    "\n",
    "bins = [35, 40, 45, 50, 55, 60, 65]\n",
    "\n",
    "fig, ax = plt.subplots()\n",
    "sns.histplot(\n",
    "    data=dog_weights,\n",
    "    bins=bins,\n",
    "    stat='count',\n",
    "    cumulative=True\n",
    ")\n",
    "\n",
    "ax.set_title(\"Cumulative Frequency Histogram of Dog Weights\")\n",
    "ax.set_xlabel(\"Weights\")\n",
    "plt.show()"
   ]
  },
  {
   "cell_type": "code",
   "execution_count": null,
   "id": "f6a24698-d101-4dc3-8d84-44e58d73a3f7",
   "metadata": {},
   "outputs": [],
   "source": [
    "dog_weights = [\n",
    "    37, 39, 41, 42, 43, 43,\n",
    "    45, 45, 46, 46, 47, 47,\n",
    "    47, 48, 48, 50, 50, 51,\n",
    "    51, 52, 53, 53, 54, 57, 62\n",
    "]\n",
    "\n",
    "bins = [35, 40, 45, 50, 55, 60, 65]\n",
    "\n",
    "fig, ax = plt.subplots()\n",
    "sns.histplot(\n",
    "    data=dog_weights,\n",
    "    bins=bins,\n",
    "    stat='proportion',\n",
    "    cumulative=True\n",
    ")\n",
    "\n",
    "ax.set_title(\"Cumulative Relative Frequency Histogram of Dog Weights\")\n",
    "ax.set_xlabel(\"Weights\")\n",
    "plt.show()"
   ]
  },
  {
   "cell_type": "markdown",
   "id": "e18363fe-f2a0-4165-80df-b0cd5bf6ad63",
   "metadata": {},
   "source": [
    "# Plotly Express for Histograms"
   ]
  },
  {
   "cell_type": "markdown",
   "id": "1ebf72c6-e582-4e61-a4d7-f799e7e8825a",
   "metadata": {},
   "source": [
    "Plotly express allows you to create interactive visual displays of data. \n",
    "\n",
    "You simply have to hover over a bar to get the information needed.\n",
    "You can also hide the entire plot by clicking on the color square in the legend.\n",
    "\n",
    "**Plotly express is at its best when working with dataframes**; which you can think of as data tables or spreadsheets."
   ]
  },
  {
   "cell_type": "code",
   "execution_count": null,
   "id": "233e25db-b5be-495a-a1fc-6affe43a25f8",
   "metadata": {},
   "outputs": [],
   "source": [
    "import plotly.express as px"
   ]
  },
  {
   "cell_type": "markdown",
   "id": "fbabdd42-4422-4f40-a81e-41535b3f6878",
   "metadata": {},
   "source": [
    "## Frequency Histogram with Plotly Express"
   ]
  },
  {
   "cell_type": "code",
   "execution_count": null,
   "id": "c2742dfb-78bd-41b5-82b0-4732b0a9e08a",
   "metadata": {},
   "outputs": [],
   "source": [
    "dog_weights = [\n",
    "    37, 39, 41, 42, 43, 43,\n",
    "    45, 45, 46, 46, 47, 47,\n",
    "    47, 48, 48, 50, 50, 51,\n",
    "    51, 52, 53, 53, 54, 57, 62\n",
    "]\n",
    "\n",
    "bins = [35, 40, 45, 50, 55, 60, 65]\n",
    "\n",
    "px.histogram(\n",
    "    dog_weights,\n",
    "    nbins = 6,  # set the number of bins\n",
    "    title = \"Frequency Histogram of Dog Weights\"\n",
    ").update_layout(\n",
    "    xaxis_title=\"Dog Weights\", yaxis_title=\"Frequency\"\n",
    ")"
   ]
  },
  {
   "cell_type": "markdown",
   "id": "1fc08bea-f8d2-459d-82eb-d49336f0a7a0",
   "metadata": {},
   "source": [
    "## Relative Frequency Histogram with Plotly Express"
   ]
  },
  {
   "cell_type": "code",
   "execution_count": null,
   "id": "e079bd15-d500-46be-a463-05104f02181e",
   "metadata": {},
   "outputs": [],
   "source": [
    "dog_weights = [\n",
    "    37, 39, 41, 42, 43, 43,\n",
    "    45, 45, 46, 46, 47, 47,\n",
    "    47, 48, 48, 50, 50, 51,\n",
    "    51, 52, 53, 53, 54, 57, 62\n",
    "]\n",
    "\n",
    "bins = [35, 40, 45, 50, 55, 60, 65]\n",
    "\n",
    "px.histogram(\n",
    "    dog_weights,\n",
    "    nbins = 6,  # set the number of bins\n",
    "    title = \"Relative Frequency Histogram of Dog Weights\",\n",
    "    histnorm = 'probability'  # use 'probability' for relative frequency histogram\n",
    ").update_layout(\n",
    "    xaxis_title=\"Dog Weights\", yaxis_title=\"Relative Frequency\"\n",
    ")"
   ]
  },
  {
   "cell_type": "markdown",
   "id": "5575a7f2-fede-4ad7-8d1b-4045524ce939",
   "metadata": {},
   "source": [
    "## Relative Frequency Histogram Using Percents with Plotly Express"
   ]
  },
  {
   "cell_type": "code",
   "execution_count": null,
   "id": "ab43cf6c-d8d5-4cea-85d4-ff9d87fd0ea0",
   "metadata": {},
   "outputs": [],
   "source": [
    "dog_weights = [\n",
    "    37, 39, 41, 42, 43, 43,\n",
    "    45, 45, 46, 46, 47, 47,\n",
    "    47, 48, 48, 50, 50, 51,\n",
    "    51, 52, 53, 53, 54, 57, 62\n",
    "]\n",
    "\n",
    "bins = [35, 40, 45, 50, 55, 60, 65]\n",
    "\n",
    "px.histogram(\n",
    "    dog_weights,\n",
    "    nbins = 6,  # set the number of bins\n",
    "    title = \"Percent Relative Frequency Histogram of Dog Weights\",\n",
    "    histnorm = 'percent'  # use 'percent' for percent relative frequency histogram\n",
    ").update_layout(\n",
    "    xaxis_title=\"Dog Weights\", yaxis_title=\"Percent\"\n",
    ")"
   ]
  },
  {
   "cell_type": "markdown",
   "id": "f33700d0-ead1-437d-8523-7c64e34d2524",
   "metadata": {},
   "source": [
    "## Density Histogram with Plotly Express"
   ]
  },
  {
   "cell_type": "code",
   "execution_count": null,
   "id": "7acbbf7c-2413-4e6f-86ff-0e8838e80373",
   "metadata": {},
   "outputs": [],
   "source": [
    "dog_weights = [\n",
    "    37, 39, 41, 42, 43, 43,\n",
    "    45, 45, 46, 46, 47, 47,\n",
    "    47, 48, 48, 50, 50, 51,\n",
    "    51, 52, 53, 53, 54, 57, 62\n",
    "]\n",
    "\n",
    "bins = [35, 40, 45, 50, 55, 60, 65]\n",
    "\n",
    "px.histogram(\n",
    "    dog_weights,\n",
    "    nbins = 6,  # set the number of bins\n",
    "    title = \"Density Histogram of Dog Weights\",\n",
    "    histnorm = 'probability density'\n",
    ").update_layout(\n",
    "    xaxis_title=\"Dog Weights\", yaxis_title=\"Density\"\n",
    ")"
   ]
  },
  {
   "cell_type": "markdown",
   "id": "3e524281-09ed-4059-b33b-559fa58eb0a7",
   "metadata": {},
   "source": [
    "## Cumulative Frequency Histogram with Plotly Express"
   ]
  },
  {
   "cell_type": "code",
   "execution_count": null,
   "id": "db716f0d-4c29-4920-a46b-98668b8bbb11",
   "metadata": {},
   "outputs": [],
   "source": [
    "dog_weights = [\n",
    "    37, 39, 41, 42, 43, 43,\n",
    "    45, 45, 46, 46, 47, 47,\n",
    "    47, 48, 48, 50, 50, 51,\n",
    "    51, 52, 53, 53, 54, 57, 62\n",
    "]\n",
    "\n",
    "bins = [35, 40, 45, 50, 55, 60, 65]\n",
    "\n",
    "px.histogram(\n",
    "    dog_weights,\n",
    "    nbins = 6,  # set the number of bins\n",
    "    title = \"Cumulative Frequency Histogram of Dog Weights\",\n",
    "    cumulative = True\n",
    ").update_layout(\n",
    "    xaxis_title=\"Dog Weights\", yaxis_title=\"Cumulative Frequency\"\n",
    ")"
   ]
  },
  {
   "cell_type": "code",
   "execution_count": null,
   "id": "3ba02e7f-1dac-4538-9c2b-13060db425a3",
   "metadata": {},
   "outputs": [],
   "source": [
    "dog_weights = [\n",
    "    37, 39, 41, 42, 43, 43,\n",
    "    45, 45, 46, 46, 47, 47,\n",
    "    47, 48, 48, 50, 50, 51,\n",
    "    51, 52, 53, 53, 54, 57, 62\n",
    "]\n",
    "\n",
    "bins = [35, 40, 45, 50, 55, 60, 65]\n",
    "\n",
    "px.histogram(\n",
    "    dog_weights,\n",
    "    nbins = 6,  # set the number of bins\n",
    "    title = \"Cumulative Relative Frequency Histogram of Dog Weights\",\n",
    "    histnorm = 'probability',\n",
    "    cumulative = True\n",
    ").update_layout(\n",
    "    xaxis_title=\"Dog Weights\", yaxis_title=\"Cumulative Relative Frequency\"\n",
    ")"
   ]
  },
  {
   "cell_type": "code",
   "execution_count": null,
   "id": "8cbfb550-8afb-4aba-a8f2-375db3102813",
   "metadata": {},
   "outputs": [],
   "source": []
  }
 ],
 "metadata": {
  "kernelspec": {
   "display_name": "Python 3 (ipykernel)",
   "language": "python",
   "name": "python3"
  },
  "language_info": {
   "codemirror_mode": {
    "name": "ipython",
    "version": 3
   },
   "file_extension": ".py",
   "mimetype": "text/x-python",
   "name": "python",
   "nbconvert_exporter": "python",
   "pygments_lexer": "ipython3",
   "version": "3.9.13"
  }
 },
 "nbformat": 4,
 "nbformat_minor": 5
}
