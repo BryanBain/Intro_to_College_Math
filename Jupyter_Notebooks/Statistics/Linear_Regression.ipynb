{
 "cells": [
  {
   "cell_type": "markdown",
   "id": "ee3340f7-5fd8-4491-a1ab-7e659d18183b",
   "metadata": {},
   "source": [
    "# Linear Regression"
   ]
  },
  {
   "cell_type": "code",
   "execution_count": null,
   "id": "4940788a-54df-4868-98b3-033787f05625",
   "metadata": {},
   "outputs": [],
   "source": [
    "import scipy.stats as stats\n",
    "import matplotlib.pyplot as plt\n",
    "import plotly.express as px"
   ]
  },
  {
   "cell_type": "markdown",
   "id": "324931c6-8dc9-4a70-bd72-460e68d66f1d",
   "metadata": {},
   "source": [
    "## Example 1"
   ]
  },
  {
   "cell_type": "code",
   "execution_count": null,
   "id": "6282d8c7-6ecb-4975-84fb-102be9d4d1eb",
   "metadata": {},
   "outputs": [],
   "source": [
    "x = [7.6,9.2,3.3,1.1,3.7,\n",
    "     3.9,4.6,2.3,5.1,5.3,\n",
    "     2.5,3.4,3.1,1.7,3.7]\n",
    "\n",
    "y = [19.1,22.9,10.3,6.6,10.6,\n",
    "     11.3,12.9,8.6,15.2,15.1,\n",
    "     13,11.2,10.6,6.8,13.7]"
   ]
  },
  {
   "cell_type": "code",
   "execution_count": null,
   "id": "426a1036-95bf-4bb8-8faa-fcfd8cb89d40",
   "metadata": {},
   "outputs": [],
   "source": [
    "stats.linregress(x,y)"
   ]
  },
  {
   "cell_type": "code",
   "execution_count": null,
   "id": "ad60cb8a-b37f-443e-be6a-cb4ab99f455b",
   "metadata": {},
   "outputs": [],
   "source": [
    "fig, ax = plt.subplots()\n",
    "\n",
    "slope, intercept, r, p, std_err = stats.linregress(x,y)\n",
    "x1 = np.linspace(min(x)-1,max(x)+1,1000)\n",
    "y1 = slope*x1 + intercept\n",
    "ax.plot(x,y,'bo',x1,y1)\n",
    "ax.grid()\n",
    "plt.show()\n",
    "\n",
    "print(f'Slope: {slope:0.4f}')\n",
    "print(f'Y-intercept: {intercept:0.4f}')\n",
    "print(f'r: {r:0.4f}')\n",
    "print(f'r^2: {r*r:0.4f}')"
   ]
  },
  {
   "cell_type": "code",
   "execution_count": null,
   "id": "6f4cc3ef-79ba-4852-b2b9-a0893fb75620",
   "metadata": {},
   "outputs": [],
   "source": [
    "def pred_value(val):\n",
    "    return slope * val + intercept"
   ]
  },
  {
   "cell_type": "code",
   "execution_count": null,
   "id": "b032b393-8392-4537-8490-4bf03d8ad2a2",
   "metadata": {},
   "outputs": [],
   "source": [
    "pred_value(6)"
   ]
  },
  {
   "cell_type": "code",
   "execution_count": null,
   "id": "65f5670d-849d-4fa9-8c2e-babfd0203889",
   "metadata": {},
   "outputs": [],
   "source": []
  }
 ],
 "metadata": {
  "kernelspec": {
   "display_name": "Python 3 (ipykernel)",
   "language": "python",
   "name": "python3"
  },
  "language_info": {
   "codemirror_mode": {
    "name": "ipython",
    "version": 3
   },
   "file_extension": ".py",
   "mimetype": "text/x-python",
   "name": "python",
   "nbconvert_exporter": "python",
   "pygments_lexer": "ipython3",
   "version": "3.9.13"
  }
 },
 "nbformat": 4,
 "nbformat_minor": 5
}
