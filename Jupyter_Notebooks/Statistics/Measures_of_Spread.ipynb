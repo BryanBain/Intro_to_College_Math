{
 "cells": [
  {
   "cell_type": "markdown",
   "id": "7cc1b31d-5137-4e90-8a4a-ae02ae98caaa",
   "metadata": {},
   "source": [
    "# Measures of Spread"
   ]
  },
  {
   "cell_type": "markdown",
   "id": "82c24848-8ce8-451f-800f-272fee81d7b3",
   "metadata": {},
   "source": [
    "## Range"
   ]
  },
  {
   "cell_type": "code",
   "execution_count": 1,
   "id": "0e65359d-87ce-4164-a8de-e103db61cd68",
   "metadata": {},
   "outputs": [],
   "source": [
    "import numpy as np"
   ]
  },
  {
   "cell_type": "markdown",
   "id": "36fff533-689e-4749-8e40-62f6a3dad841",
   "metadata": {},
   "source": [
    "To find the range of a data set in NumPy, we can use the `ptp` (peak-to-peak) method."
   ]
  },
  {
   "cell_type": "code",
   "execution_count": 2,
   "id": "14bb3d1d-c46a-4591-8890-b1cee1d122fe",
   "metadata": {},
   "outputs": [
    {
     "data": {
      "text/plain": [
       "10"
      ]
     },
     "execution_count": 2,
     "metadata": {},
     "output_type": "execute_result"
    }
   ],
   "source": [
    "values = [9,2,7,10,3,4,12]\n",
    "\n",
    "np.ptp(values)"
   ]
  },
  {
   "cell_type": "markdown",
   "id": "f10787ed-224f-4963-9251-797c811a838b",
   "metadata": {},
   "source": [
    "## Variance"
   ]
  },
  {
   "cell_type": "markdown",
   "id": "78958c25-d59f-41d8-aadb-90a41a86ca58",
   "metadata": {},
   "source": [
    "NumPy has a method for finding the variance: `var`.\n",
    "\n",
    "It will also allow you to find *both* population variance and sample variance.\n",
    "\n",
    "By default, `var` gives you the **population variance**.\n",
    "\n",
    "If you want the **sample variance**, add `ddof=1` to the arguments within the `var` method."
   ]
  },
  {
   "cell_type": "code",
   "execution_count": 3,
   "id": "19ce3dc3-1bbc-4b57-803c-b50a77f18ce7",
   "metadata": {},
   "outputs": [
    {
     "data": {
      "text/plain": [
       "0.0066499999999999945"
      ]
     },
     "execution_count": 3,
     "metadata": {},
     "output_type": "execute_result"
    }
   ],
   "source": [
    "prices = [3.25, 3.40, 3.21, 3.38]\n",
    "\n",
    "np.var(prices)  # Population variance"
   ]
  },
  {
   "cell_type": "code",
   "execution_count": 4,
   "id": "b148cbb2-4675-41a3-abfb-d04ccddf35da",
   "metadata": {},
   "outputs": [
    {
     "data": {
      "text/plain": [
       "0.00886666666666666"
      ]
     },
     "execution_count": 4,
     "metadata": {},
     "output_type": "execute_result"
    }
   ],
   "source": [
    "np.var(prices, ddof = 1)  # Sample variance"
   ]
  },
  {
   "cell_type": "markdown",
   "id": "701ddf56-e048-4e24-aa18-0c3c22773e84",
   "metadata": {},
   "source": [
    "## Standard Deviation"
   ]
  },
  {
   "cell_type": "markdown",
   "id": "dcfb9f45-4157-46e9-ba5c-686201bca28b",
   "metadata": {},
   "source": [
    "If you are OK with the presence (or absence) of `ddof = 1` when working with population vs. sample variance, then you will be just fine with standard deviation.\n",
    "\n",
    "The NumPy method `std` returns the standard deviation of the data set."
   ]
  },
  {
   "cell_type": "code",
   "execution_count": 5,
   "id": "89760ae0-28b4-4381-8fae-4180338f6d4e",
   "metadata": {},
   "outputs": [
    {
     "data": {
      "text/plain": [
       "0.08154753215150042"
      ]
     },
     "execution_count": 5,
     "metadata": {},
     "output_type": "execute_result"
    }
   ],
   "source": [
    "np.std(prices)  # Population standard deviation"
   ]
  },
  {
   "cell_type": "code",
   "execution_count": 6,
   "id": "aaf4a61a-35fe-41cf-bc72-65264fc24b8d",
   "metadata": {},
   "outputs": [
    {
     "data": {
      "text/plain": [
       "0.09416297927883686"
      ]
     },
     "execution_count": 6,
     "metadata": {},
     "output_type": "execute_result"
    }
   ],
   "source": [
    "np.std(prices, ddof=1)  # Sample standard deviation"
   ]
  }
 ],
 "metadata": {
  "kernelspec": {
   "display_name": "Python 3.11.1 64-bit",
   "language": "python",
   "name": "python3"
  },
  "language_info": {
   "codemirror_mode": {
    "name": "ipython",
    "version": 3
   },
   "file_extension": ".py",
   "mimetype": "text/x-python",
   "name": "python",
   "nbconvert_exporter": "python",
   "pygments_lexer": "ipython3",
   "version": "3.11.1"
  },
  "vscode": {
   "interpreter": {
    "hash": "aee8b7b246df8f9039afb4144a1f6fd8d2ca17a180786b69acc140d282b71a49"
   }
  }
 },
 "nbformat": 4,
 "nbformat_minor": 5
}
