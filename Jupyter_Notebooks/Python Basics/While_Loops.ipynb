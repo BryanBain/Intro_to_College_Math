{
 "cells": [
  {
   "cell_type": "markdown",
   "id": "80e5aa4f-da10-494a-82a7-6c8edc9968af",
   "metadata": {},
   "source": [
    "# While Loops"
   ]
  },
  {
   "cell_type": "markdown",
   "id": "90ebdc01-f6fa-4ff1-a9bc-b40162662cfb",
   "metadata": {},
   "source": [
    "A `while` loop will continue to execute a block of code ***as long as the given condition remains true***. \n",
    "\n",
    "`while` loops are useful when there is no pre-determined number of times a loop will run.\n",
    "\n",
    "The code below will print the integers from 1 to 10, inclusive."
   ]
  },
  {
   "cell_type": "code",
   "execution_count": 1,
   "id": "2ee40bd1-5a69-4541-98d0-a4a88d0f38b0",
   "metadata": {},
   "outputs": [
    {
     "name": "stdout",
     "output_type": "stream",
     "text": [
      "1\n",
      "2\n",
      "3\n",
      "4\n",
      "5\n",
      "6\n",
      "7\n",
      "8\n",
      "9\n",
      "10\n"
     ]
    }
   ],
   "source": [
    "number = 1  # set the starting integer: 1\n",
    "\n",
    "while number <= 10:\n",
    "    print(number)\n",
    "    number += 1  # The value of number MUST be updated to avoid an infinite while loop"
   ]
  },
  {
   "cell_type": "markdown",
   "id": "48c60bc3-931c-4785-8f28-a395013d0a85",
   "metadata": {},
   "source": [
    "Many `for` loops can be converted into a `while` loop. Note that the difference between the 2 loop types is as follows:\n",
    "\n",
    "- With `for` loops, you know how many times the loop will run.\n",
    "- With `while` loops, you want to run the loop as long as some condition remains true. As soon as the condition is not true, the while loop no longer runs."
   ]
  },
  {
   "cell_type": "markdown",
   "id": "523183db-0612-44b4-9d93-e0073913bcc9",
   "metadata": {},
   "source": [
    "### Example 1"
   ]
  },
  {
   "cell_type": "markdown",
   "id": "e8008363-a67e-4425-863d-7d1d4560dbdd",
   "metadata": {},
   "source": [
    "A single 6-sided die is rolled until five 1s are obtained. Run a simulation to see how many times you need to roll the die to accomplish this. "
   ]
  },
  {
   "cell_type": "markdown",
   "id": "d07d6a10-6f32-450e-841f-8a03cd923445",
   "metadata": {},
   "source": [
    "We will use Python's `random` library. First, let's import it by running the cell below."
   ]
  },
  {
   "cell_type": "code",
   "execution_count": 2,
   "id": "d20ad092-1e8d-4d9b-bf00-d0127c1693ab",
   "metadata": {},
   "outputs": [],
   "source": [
    "import random as rd  # the 'as rd' part is called an 'alias'"
   ]
  },
  {
   "cell_type": "markdown",
   "id": "e1f002db-224b-4ef1-8941-9700730d98e3",
   "metadata": {},
   "source": [
    "Next, we want to create a list of possible outcomes when we roll a single die. Run the cell below to do so."
   ]
  },
  {
   "cell_type": "code",
   "execution_count": 3,
   "id": "c9d5ce36-dc49-4bde-ad65-28ab58b5acee",
   "metadata": {},
   "outputs": [],
   "source": [
    "outcomes = [1,2,3,4,5,6]"
   ]
  },
  {
   "cell_type": "markdown",
   "id": "3310c1c1-afee-44d2-8c29-bc7a0c8cd10a",
   "metadata": {},
   "source": [
    "Next, we want to initialize the number of times we rolled a 1."
   ]
  },
  {
   "cell_type": "code",
   "execution_count": 4,
   "id": "5f527273-fbc3-40af-b1aa-5e09d0fd0ab6",
   "metadata": {},
   "outputs": [],
   "source": [
    "numSuccesses = 0"
   ]
  },
  {
   "cell_type": "markdown",
   "id": "b714e61a-dd87-4b00-9e57-57fb940740e4",
   "metadata": {},
   "source": [
    "Now, we will need to keep track of the total number of rolls of the die. We initialize that value to 0."
   ]
  },
  {
   "cell_type": "code",
   "execution_count": 5,
   "id": "f87bedce-ec99-4f40-bd5b-aa7dfb7d6018",
   "metadata": {},
   "outputs": [],
   "source": [
    "numRolls = 0"
   ]
  },
  {
   "cell_type": "markdown",
   "id": "aa85c391-5836-4b81-b63f-bb9c1cd2dc9b",
   "metadata": {},
   "source": [
    "Now, we want to be able to randomly select a value from our `outcomes` list. To do that, we will use the `choice` method from the `random` library.\n",
    "\n",
    "*Note:* If we did not use the *as rd* alias when importing the `random` library, we would have had to instead type `random.choice(outcomes)`."
   ]
  },
  {
   "cell_type": "code",
   "execution_count": 6,
   "id": "639fd4b2-18bc-444e-9b12-5af6afe5db19",
   "metadata": {},
   "outputs": [
    {
     "data": {
      "text/plain": [
       "2"
      ]
     },
     "execution_count": 6,
     "metadata": {},
     "output_type": "execute_result"
    }
   ],
   "source": [
    "rd.choice(outcomes)"
   ]
  },
  {
   "cell_type": "markdown",
   "id": "95527256-af47-4a22-9128-d5522bfb1b29",
   "metadata": {},
   "source": [
    "Now, let's run the simulation. Don't forget to indent the next line(s) after a colon. <br>\n",
    "There are also quite a few comments to *keep you in the loop*.\n",
    "\n",
    "*Note:* You will likely get a different result each time you run the simulation."
   ]
  },
  {
   "cell_type": "code",
   "execution_count": 7,
   "id": "b0bf6b80-c4af-46e0-a344-0c4239eabde0",
   "metadata": {},
   "outputs": [],
   "source": [
    "while numSuccesses <= 5:          # continue to run the loop until we obtain 5 successes (rolling a 1)\n",
    "    roll = rd.choice(outcomes)    # select one item in the \"outcomes\" list at random and give it the name \"roll\"\n",
    "    numRolls += 1                 # we just rolled the die, so we need to increase our roll count by 1\n",
    "    if roll == 1:                 # the outcome of the roll was a \"1\", which is what we are looking for\n",
    "        numSuccesses += 1         # increase the number of successes by 1 and start the loop over again"
   ]
  },
  {
   "cell_type": "markdown",
   "id": "61e309df-10c1-48f3-a1f4-97f7c29be2b6",
   "metadata": {},
   "source": [
    "Depending on your conditional statement after the `while` keyword, your loop may take a long time to finish. <br>\n",
    "As it is running, you should see an asterisk, `*`, in the square brackets to the left of the cell. <br>\n",
    "Once you see a number inside those brackets, that indicates that the `while` loop has finished."
   ]
  },
  {
   "cell_type": "markdown",
   "id": "cb83c7a6-ca20-4f62-8f8d-d11bacd23027",
   "metadata": {},
   "source": [
    "Run the cell below to determine how many rolls it took."
   ]
  },
  {
   "cell_type": "code",
   "execution_count": 8,
   "id": "da9be61e-8c7c-4b0c-ad68-1746e551b620",
   "metadata": {},
   "outputs": [
    {
     "data": {
      "text/plain": [
       "63"
      ]
     },
     "execution_count": 8,
     "metadata": {},
     "output_type": "execute_result"
    }
   ],
   "source": [
    "numRolls"
   ]
  },
  {
   "cell_type": "markdown",
   "id": "a4a57328-600c-42ac-9245-26842e737926",
   "metadata": {},
   "source": [
    "### Exercise 1"
   ]
  },
  {
   "cell_type": "markdown",
   "id": "407497b7-84fc-46c9-80c9-73c10ace0255",
   "metadata": {},
   "source": [
    "(a) The cell below contains **incomplete code** that will simulate how many times a fair coin must be flipped until 10 tails are obtained. \n",
    "\n",
    "Fill in the missing values and then run the cell when you are done."
   ]
  },
  {
   "cell_type": "code",
   "execution_count": 9,
   "id": "3a90d139-fd83-4887-85df-d7f212825a4d",
   "metadata": {},
   "outputs": [],
   "source": [
    "import random as rd\n",
    "\n",
    "outcomes = ['H', 'T']\n",
    "\n",
    "numFlips = 0  # Fill out this value.\n",
    "numTails = 0  # Fill out this value.\n",
    "\n",
    "while numTails <= 10:\n",
    "    flip = rd.choice(outcomes)  # Fill out what goes into the parentheses\n",
    "    numFlips += 1   # Fill out what goes after the +=\n",
    "    if flip == 'T':\n",
    "        numTails += 1   # Fill out what goes after the +="
   ]
  },
  {
   "cell_type": "markdown",
   "id": "70a9ebc0-6c55-45f9-888c-46b612693d1c",
   "metadata": {},
   "source": [
    "(b) Use the cell below to display the number of flips determined from the cell above. <br>\n",
    "\n",
    "You *need* to correctly do part (a) before you can answer part (b)."
   ]
  },
  {
   "cell_type": "code",
   "execution_count": 10,
   "id": "1fcfb14b-31d2-4f80-88b1-9050909b344e",
   "metadata": {},
   "outputs": [
    {
     "data": {
      "text/plain": [
       "33"
      ]
     },
     "execution_count": 10,
     "metadata": {},
     "output_type": "execute_result"
    }
   ],
   "source": [
    "numFlips"
   ]
  },
  {
   "cell_type": "code",
   "execution_count": null,
   "id": "d99f203c-cae9-482b-84c2-ee4e966126d8",
   "metadata": {},
   "outputs": [],
   "source": []
  }
 ],
 "metadata": {
  "kernelspec": {
   "display_name": "Python 3 (ipykernel)",
   "language": "python",
   "name": "python3"
  },
  "language_info": {
   "codemirror_mode": {
    "name": "ipython",
    "version": 3
   },
   "file_extension": ".py",
   "mimetype": "text/x-python",
   "name": "python",
   "nbconvert_exporter": "python",
   "pygments_lexer": "ipython3",
   "version": "3.9.13"
  }
 },
 "nbformat": 4,
 "nbformat_minor": 5
}
