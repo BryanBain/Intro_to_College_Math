{
 "cells": [
  {
   "cell_type": "markdown",
   "id": "509c3722-fc55-493b-be85-42bc8b68295d",
   "metadata": {},
   "source": [
    "# Conditional Statements"
   ]
  },
  {
   "cell_type": "markdown",
   "id": "bc3f69e9-c7c9-452e-87e3-ecfc8ab1f0bb",
   "metadata": {},
   "source": [
    "In mathematics, a **conditional statement** is one in the form\n",
    "\n",
    "<p style=\"text-align:center;\">\n",
    "    If <i>P</i> then <i>Q</i>\n",
    "</p>\n",
    "\n",
    "So, if *P* is true, then *Q* will happen as a result."
   ]
  },
  {
   "cell_type": "markdown",
   "id": "1a7246e0-09c7-48ea-bf27-eda4c596c894",
   "metadata": {},
   "source": [
    "Let's say we want to check if a number is even or odd.\n",
    "\n",
    "We can determine if an integer is odd by using the modulus operator, `%`.\n",
    "\n",
    "The modulus operator gives us the **remainder** of a division problem.\n",
    "\n",
    "For instance, the remainder when 19 is divided by 4 is **3**.\n",
    "\n",
    "The cell below will give us that remainder."
   ]
  },
  {
   "cell_type": "code",
   "execution_count": 1,
   "id": "cca495b5-f00a-4602-9f0d-b2b0eb849d76",
   "metadata": {},
   "outputs": [
    {
     "data": {
      "text/plain": [
       "3"
      ]
     },
     "execution_count": 1,
     "metadata": {},
     "output_type": "execute_result"
    }
   ],
   "source": [
    "19 % 4"
   ]
  },
  {
   "cell_type": "markdown",
   "id": "0a324f8d-523d-4a16-ab6c-396c4ea6612f",
   "metadata": {},
   "source": [
    "### Example 1"
   ]
  },
  {
   "cell_type": "markdown",
   "id": "b6205dd6-1562-4b58-a87f-ed710f649681",
   "metadata": {},
   "source": [
    "In the cell below, determine the remainder when 867 is divided by 53."
   ]
  },
  {
   "cell_type": "code",
   "execution_count": 2,
   "id": "90862a7a-e69e-4ddf-8229-524b6cb6da70",
   "metadata": {},
   "outputs": [
    {
     "data": {
      "text/plain": [
       "19"
      ]
     },
     "execution_count": 2,
     "metadata": {},
     "output_type": "execute_result"
    }
   ],
   "source": [
    "867 % 53"
   ]
  },
  {
   "cell_type": "markdown",
   "id": "887ba582-92ea-40a0-a62f-f0487967cc1d",
   "metadata": {},
   "source": [
    "By definition, an integer is **odd** if the remainder is 1 when we divide by 2. \n",
    "\n",
    "An integer is **even** if the remainder is 0 when we divide by 2."
   ]
  },
  {
   "cell_type": "markdown",
   "id": "464c68c3-57f0-485a-91a4-c18b7f0ee053",
   "metadata": {},
   "source": [
    "### Example 2"
   ]
  },
  {
   "cell_type": "markdown",
   "id": "69316b6e-b0f7-46c7-b15e-e58c2f220f82",
   "metadata": {},
   "source": [
    "In the cell below, use the modulus operator, `%`, to show that 48 is an even number."
   ]
  },
  {
   "cell_type": "code",
   "execution_count": 3,
   "id": "28ce36b5-46bc-4147-81d2-b4edc8a3623a",
   "metadata": {},
   "outputs": [
    {
     "data": {
      "text/plain": [
       "0"
      ]
     },
     "execution_count": 3,
     "metadata": {},
     "output_type": "execute_result"
    }
   ],
   "source": [
    "48 % 2"
   ]
  },
  {
   "cell_type": "markdown",
   "id": "4913ae38-d726-41ae-887c-69b553f15f9b",
   "metadata": {},
   "source": [
    "## The `if` Keyword"
   ]
  },
  {
   "cell_type": "markdown",
   "id": "dbc7e0ad-0364-45ed-8d33-56c5e3589f66",
   "metadata": {},
   "source": [
    "In Python, the `if` keyword can be used to create conditional statements.\n",
    "\n",
    "Whatever follows the `if` keyword needs to have a colon, :\n",
    "\n",
    "The next line must be indented.\n",
    "\n",
    "Suppose we have a variable *x* initially equal to 84. Run the cell below."
   ]
  },
  {
   "cell_type": "code",
   "execution_count": 4,
   "id": "9fb0d7b7-8535-4040-a7e7-10ac0f341922",
   "metadata": {},
   "outputs": [],
   "source": [
    "x = 84"
   ]
  },
  {
   "cell_type": "markdown",
   "id": "95c94032-3e6e-4411-ad9b-e233e55e144a",
   "metadata": {},
   "source": [
    "Now, we can use the following code to determine if *x* is even.\n",
    "\n",
    "*Note:* Double equals signs `==` are used to determine equality. Single equal signs `=` are used as an assignment (such as for variables)."
   ]
  },
  {
   "cell_type": "code",
   "execution_count": 5,
   "id": "8fbe76c2-6892-4415-b33e-826e657b222b",
   "metadata": {},
   "outputs": [
    {
     "name": "stdout",
     "output_type": "stream",
     "text": [
      "84 is even.\n"
     ]
    }
   ],
   "source": [
    "if x % 2 == 0:\n",
    "    print(f\"{x} is even.\")"
   ]
  },
  {
   "cell_type": "markdown",
   "id": "6d1e80da-6c8d-423a-8926-83386822f36a",
   "metadata": {},
   "source": [
    "### Example 3"
   ]
  },
  {
   "cell_type": "markdown",
   "id": "affb174d-3984-44d5-ac05-041d6b41e7eb",
   "metadata": {},
   "source": [
    "Run each of the following cells to determine if the value of each variable is even."
   ]
  },
  {
   "cell_type": "code",
   "execution_count": 6,
   "id": "b6bfcb93-5014-4223-b144-9409bb3f70ef",
   "metadata": {},
   "outputs": [],
   "source": [
    "x = 2022"
   ]
  },
  {
   "cell_type": "code",
   "execution_count": 7,
   "id": "03829dcc-3d40-4891-a5d5-7cab4f1d8052",
   "metadata": {},
   "outputs": [
    {
     "name": "stdout",
     "output_type": "stream",
     "text": [
      "2022 is even.\n"
     ]
    }
   ],
   "source": [
    "if x % 2 == 0:\n",
    "    print(f\"{x} is even.\")"
   ]
  },
  {
   "cell_type": "code",
   "execution_count": 8,
   "id": "2088ded3-ee79-4c8e-a359-84805d5ecf95",
   "metadata": {},
   "outputs": [],
   "source": [
    "y = 2023"
   ]
  },
  {
   "cell_type": "code",
   "execution_count": 9,
   "id": "fca28c1c-98e2-4a22-9672-1f61207253d2",
   "metadata": {},
   "outputs": [],
   "source": [
    "if y % 2 == 0:\n",
    "    print(f\"{y} is even.\")"
   ]
  },
  {
   "cell_type": "markdown",
   "id": "c6a8b76e-b452-4aff-ad80-c5544bd1612c",
   "metadata": {},
   "source": [
    "## The `else` Keyword"
   ]
  },
  {
   "cell_type": "markdown",
   "id": "1869c065-6c99-4468-b927-c631c3d3b83c",
   "metadata": {},
   "source": [
    "Do you notice anything unusual about the previous problem for *y* = 2023?"
   ]
  },
  {
   "cell_type": "markdown",
   "id": "464df3e5-99c4-4502-9271-b272864b8e5d",
   "metadata": {},
   "source": [
    "What follows the colon at the end of the `if` line only gets executed if the condition is ***true***. However, we might also want something to happen if the condition is false. \n",
    "\n",
    "One solution is to write a separate `if` statement. However, there is an easier way: the `else` keyword.\n",
    "\n",
    "The `else` keyword can be used to execute a line of code when the statement after `if` is false.\n",
    "\n",
    "Like the `if` keyword, you must end the `else` line with a colon and indent the next line.\n",
    "\n",
    "*Note:* You do not ***need*** a statement after the `else` keyword."
   ]
  },
  {
   "cell_type": "markdown",
   "id": "65b6a1d1-02e6-4ef9-a34b-7284cb1556b6",
   "metadata": {},
   "source": [
    "### Example 4"
   ]
  },
  {
   "cell_type": "markdown",
   "id": "385d26cb-3159-4e58-a379-0a439e4a7ea0",
   "metadata": {},
   "source": [
    "Run the cells below to determine if each variable is even or odd."
   ]
  },
  {
   "cell_type": "code",
   "execution_count": 10,
   "id": "db232f62-2489-47a1-9419-92bb76a44856",
   "metadata": {},
   "outputs": [],
   "source": [
    "x = 2022"
   ]
  },
  {
   "cell_type": "code",
   "execution_count": 11,
   "id": "07bb6f4d-a4e5-4562-81dd-c9bd580406fb",
   "metadata": {},
   "outputs": [
    {
     "name": "stdout",
     "output_type": "stream",
     "text": [
      "2022 is even.\n"
     ]
    }
   ],
   "source": [
    "if x % 2 == 0:\n",
    "    print(f\"{x} is even.\")\n",
    "else:\n",
    "    print(f\"{x} is odd.\")"
   ]
  },
  {
   "cell_type": "code",
   "execution_count": 12,
   "id": "1952514f-3dce-4034-9199-98d81e21b62d",
   "metadata": {},
   "outputs": [],
   "source": [
    "x = 2023"
   ]
  },
  {
   "cell_type": "code",
   "execution_count": 13,
   "id": "af1427cf-a86e-4fbd-bbd8-5dec3f89d98c",
   "metadata": {},
   "outputs": [
    {
     "name": "stdout",
     "output_type": "stream",
     "text": [
      "2023 is odd.\n"
     ]
    }
   ],
   "source": [
    "if x % 2 == 0:\n",
    "    print(f\"{x} is even.\")\n",
    "else:\n",
    "    print(f\"{x} is odd.\")"
   ]
  },
  {
   "cell_type": "markdown",
   "id": "b853a188-e6be-44dc-a2bf-d6a6bdcd5ea9",
   "metadata": {},
   "source": [
    "## Piecewise Functions"
   ]
  },
  {
   "cell_type": "markdown",
   "id": "466ec1fb-f1b5-4263-a3c8-ef8bd6558ecb",
   "metadata": {},
   "source": [
    "In math, **piecewise functions** are functions containing conditional statements. For instance, the function below is a piecewise function.\n",
    "\n",
    "$$ f(x) = \\begin{cases} x + 3 &\\text{if } x < 2 \\\\ 2x &\\text{if } x \\geq 2 \\\\\\end{cases}$$"
   ]
  },
  {
   "cell_type": "markdown",
   "id": "b9af2fe8-4a99-4ade-8285-d3dd81a7b18c",
   "metadata": {},
   "source": [
    "It works as follows for a given input value of *x*.\n",
    "\n",
    "1. Check whether the input value is less than 2. If so, evaluate the first piece, *x* + 3, and return the output value.\n",
    "2. Check wheter the input value is greater than or equal to 2. If so, evaluate the second piece: 2*x*, and return the output value. \n",
    "\n",
    "Run the cell below to define the above piecewise function. \n",
    "\n",
    "Notice the indentation at each level of the defined function."
   ]
  },
  {
   "cell_type": "code",
   "execution_count": 14,
   "id": "926272be-d090-477c-926c-f1acf09d093e",
   "metadata": {},
   "outputs": [],
   "source": [
    "def f(x):\n",
    "    if x < 2:\n",
    "        return x + 3\n",
    "    else:\n",
    "        return 2 * x"
   ]
  },
  {
   "cell_type": "markdown",
   "id": "54202d86-f7fb-4742-9278-d0351c864a5d",
   "metadata": {},
   "source": [
    "Now we can evaluate the piecewise function at different values of *x* such as $-7$, 0, 2, and 5.5."
   ]
  },
  {
   "cell_type": "code",
   "execution_count": 15,
   "id": "133afd6e-fd8d-491b-9a49-1ae5165b3479",
   "metadata": {},
   "outputs": [
    {
     "data": {
      "text/plain": [
       "-4"
      ]
     },
     "execution_count": 15,
     "metadata": {},
     "output_type": "execute_result"
    }
   ],
   "source": [
    "f(-7)"
   ]
  },
  {
   "cell_type": "code",
   "execution_count": 16,
   "id": "7012b29e-0ce7-45fa-9808-a4cb19947628",
   "metadata": {},
   "outputs": [
    {
     "data": {
      "text/plain": [
       "3"
      ]
     },
     "execution_count": 16,
     "metadata": {},
     "output_type": "execute_result"
    }
   ],
   "source": [
    "f(0)"
   ]
  },
  {
   "cell_type": "code",
   "execution_count": 17,
   "id": "8f8fd76c-91dd-4da9-96c5-6ee3305a79dc",
   "metadata": {},
   "outputs": [
    {
     "data": {
      "text/plain": [
       "4"
      ]
     },
     "execution_count": 17,
     "metadata": {},
     "output_type": "execute_result"
    }
   ],
   "source": [
    "f(2)"
   ]
  },
  {
   "cell_type": "code",
   "execution_count": 18,
   "id": "d5f753b9-df0f-4ef0-9aa5-1fcb80b6f800",
   "metadata": {},
   "outputs": [
    {
     "data": {
      "text/plain": [
       "11.0"
      ]
     },
     "execution_count": 18,
     "metadata": {},
     "output_type": "execute_result"
    }
   ],
   "source": [
    "f(5.5)"
   ]
  },
  {
   "cell_type": "markdown",
   "id": "461a4b36-01c0-46ad-969a-249cf8d52500",
   "metadata": {},
   "source": [
    "## The `elif` Keyword"
   ]
  },
  {
   "cell_type": "markdown",
   "id": "7575e505-7a34-4634-8a00-c03729175521",
   "metadata": {},
   "source": [
    "The odd/even determination, as well as the above piecewise function, have only 2 outcomes each. However, what if we have a function with more pieces than 2? This is where we can use the `elif` keyword.\n",
    "\n",
    "*Note:* `elif` is short for \"else if\".\n",
    "\n",
    "We can also use as many `elif` statments between `if` and `else` as we need to.\n",
    "\n",
    "Suppose we have the following piecewise function:\n",
    "\n",
    "$$ f(x) = \\begin{cases}\n",
    "    0.5x - 1 &\\text{if } x \\leq -5 \\\\\n",
    "    x^2 + 2 &\\text{if } -5 < x < -1 \\\\\n",
    "    7 &\\text{if } -1 \\leq x \\leq 4 \\\\\n",
    "    \\sqrt{x+10} &\\text{if } x > 4\n",
    "\\end{cases}$$"
   ]
  },
  {
   "cell_type": "markdown",
   "id": "0122610d-496c-4aa3-abdc-fe8f22c24d40",
   "metadata": {},
   "source": [
    "We can define it in the cell below. However, since one of our pieces is the square root function, we need to either import the `math` library or raise the *x* + 10 to the 1/2 power."
   ]
  },
  {
   "cell_type": "code",
   "execution_count": 19,
   "id": "c6ab6ae6-84c1-4527-bce9-94e1b1cd31dc",
   "metadata": {},
   "outputs": [],
   "source": [
    "import math\n",
    "\n",
    "def f(x):\n",
    "    if x <= -5:\n",
    "        return 0.5 * x - 1\n",
    "    elif -5 < x < -1:\n",
    "        return x**2 + 2\n",
    "    elif -1 <= x <= 4:\n",
    "        return 7\n",
    "    else:\n",
    "        return math.sqrt(x + 10)"
   ]
  },
  {
   "cell_type": "markdown",
   "id": "d91ebdf5-ce32-4ef4-929a-02f9d0b4e372",
   "metadata": {},
   "source": [
    "### Example 5"
   ]
  },
  {
   "cell_type": "markdown",
   "id": "050ba422-b030-40e0-b8ac-00fd923af1f3",
   "metadata": {},
   "source": [
    "Given $f(x)$ defined in the cell above, evaluate each:\n",
    "\n",
    "$f(3)$, $f(0)$, $f(-5)$ and $f(2)$."
   ]
  },
  {
   "cell_type": "code",
   "execution_count": 20,
   "id": "a1cecfda-605d-4082-8362-63a5750d674e",
   "metadata": {},
   "outputs": [
    {
     "data": {
      "text/plain": [
       "7"
      ]
     },
     "execution_count": 20,
     "metadata": {},
     "output_type": "execute_result"
    }
   ],
   "source": [
    "f(3)"
   ]
  },
  {
   "cell_type": "code",
   "execution_count": 21,
   "id": "ac6f04cd-7dcc-4a68-8191-ca1c1ea47a4a",
   "metadata": {},
   "outputs": [
    {
     "data": {
      "text/plain": [
       "7"
      ]
     },
     "execution_count": 21,
     "metadata": {},
     "output_type": "execute_result"
    }
   ],
   "source": [
    "f(0)"
   ]
  },
  {
   "cell_type": "code",
   "execution_count": 22,
   "id": "0d88e913-f35c-4075-beb7-2de0cf4ecf07",
   "metadata": {},
   "outputs": [
    {
     "data": {
      "text/plain": [
       "-3.5"
      ]
     },
     "execution_count": 22,
     "metadata": {},
     "output_type": "execute_result"
    }
   ],
   "source": [
    "f(-5)"
   ]
  },
  {
   "cell_type": "code",
   "execution_count": 23,
   "id": "703e0c72-75fd-458d-a0e6-cf921d5138b6",
   "metadata": {},
   "outputs": [
    {
     "data": {
      "text/plain": [
       "7"
      ]
     },
     "execution_count": 23,
     "metadata": {},
     "output_type": "execute_result"
    }
   ],
   "source": [
    "f(2)"
   ]
  },
  {
   "cell_type": "markdown",
   "id": "8f5301fe-83d3-4855-826e-aec070c7a42c",
   "metadata": {},
   "source": [
    "## Exercises"
   ]
  },
  {
   "cell_type": "markdown",
   "id": "8097ae62-a0ce-4a7f-ac80-69ffba6d78ab",
   "metadata": {},
   "source": [
    "1. In the cell below, define the following piecewise function:\n",
    "\n",
    "$$f(x) = \\begin{cases}\n",
    "x^3 &\\text{if } x \\leq -1 \\\\\n",
    "x + 8 &\\text{if } x > -1 \n",
    "\\end{cases}$$"
   ]
  },
  {
   "cell_type": "code",
   "execution_count": 24,
   "id": "27a2bf02-96e6-4811-8fd9-5bbc9a692d00",
   "metadata": {},
   "outputs": [],
   "source": [
    "def f(x):\n",
    "    if x <= -1:\n",
    "        return x**3\n",
    "    else:\n",
    "        return x + 8"
   ]
  },
  {
   "cell_type": "markdown",
   "id": "0576ffd6-ef91-47f7-b6e0-1c2b349b4456",
   "metadata": {},
   "source": [
    "2. Use your function from the previous exercise to evaluate $f(7)$."
   ]
  },
  {
   "cell_type": "code",
   "execution_count": 25,
   "id": "b907e2f8-4151-4468-9eae-1a46b0df0f24",
   "metadata": {},
   "outputs": [
    {
     "data": {
      "text/plain": [
       "15"
      ]
     },
     "execution_count": 25,
     "metadata": {},
     "output_type": "execute_result"
    }
   ],
   "source": [
    "f(7)"
   ]
  },
  {
   "cell_type": "markdown",
   "id": "c542fe49-c0e4-4083-be6f-5865adace7d6",
   "metadata": {},
   "source": [
    "3. In the cell below, define the following piecewise function:\n",
    "\n",
    "$$f(x) = \\begin{cases}\n",
    "-x + 1 &\\text{if } x < -2 \\\\\n",
    "0.25x + 3 &\\text{if } -2 \\leq x \\leq 2 \\\\\n",
    "x^2 + 7 &\\text{if } x > 2 \n",
    "\\end{cases}$$"
   ]
  },
  {
   "cell_type": "code",
   "execution_count": 26,
   "id": "21417980-9675-49b1-beb3-9a3a5089f85a",
   "metadata": {},
   "outputs": [],
   "source": [
    "def f(x):\n",
    "    if x < -2:\n",
    "        return -x + 1\n",
    "    elif -2 <= x <= 2:\n",
    "        return 0.25*x + 3\n",
    "    else:\n",
    "        return x**2 + 7"
   ]
  },
  {
   "cell_type": "markdown",
   "id": "0c3209d2-bb28-48f5-8f24-d3ff43d6f867",
   "metadata": {},
   "source": [
    "4. Use your function from the previous exercise to evaluate each:"
   ]
  },
  {
   "cell_type": "markdown",
   "id": "aaa9a8ae-0929-4586-8bfc-66fe9995b027",
   "metadata": {},
   "source": [
    "$f(1)$"
   ]
  },
  {
   "cell_type": "code",
   "execution_count": 27,
   "id": "d75186b4-c141-4e98-a06e-aa6cc1a13b48",
   "metadata": {},
   "outputs": [
    {
     "data": {
      "text/plain": [
       "3.25"
      ]
     },
     "execution_count": 27,
     "metadata": {},
     "output_type": "execute_result"
    }
   ],
   "source": [
    "f(1)"
   ]
  },
  {
   "cell_type": "markdown",
   "id": "8d855e9e-fa8c-4e61-b7de-4c2a104f943b",
   "metadata": {},
   "source": [
    "$f(-5)$"
   ]
  },
  {
   "cell_type": "code",
   "execution_count": 28,
   "id": "fb4571c2-e155-4b64-a42a-b7a1550fa4b1",
   "metadata": {},
   "outputs": [
    {
     "data": {
      "text/plain": [
       "6"
      ]
     },
     "execution_count": 28,
     "metadata": {},
     "output_type": "execute_result"
    }
   ],
   "source": [
    "f(-5)"
   ]
  },
  {
   "cell_type": "markdown",
   "id": "52b770b5-9a4f-44f8-9ce8-b12ad8b2e94e",
   "metadata": {},
   "source": [
    "$f(6)$"
   ]
  },
  {
   "cell_type": "code",
   "execution_count": 29,
   "id": "69dac2cd-1759-4c07-91fe-e8708f0e5c3d",
   "metadata": {},
   "outputs": [
    {
     "data": {
      "text/plain": [
       "43"
      ]
     },
     "execution_count": 29,
     "metadata": {},
     "output_type": "execute_result"
    }
   ],
   "source": [
    "f(6)"
   ]
  },
  {
   "cell_type": "code",
   "execution_count": null,
   "id": "67419899-064e-4731-91c5-f3e064a43b54",
   "metadata": {},
   "outputs": [],
   "source": []
  }
 ],
 "metadata": {
  "kernelspec": {
   "display_name": "Python 3 (ipykernel)",
   "language": "python",
   "name": "python3"
  },
  "language_info": {
   "codemirror_mode": {
    "name": "ipython",
    "version": 3
   },
   "file_extension": ".py",
   "mimetype": "text/x-python",
   "name": "python",
   "nbconvert_exporter": "python",
   "pygments_lexer": "ipython3",
   "version": "3.9.13"
  }
 },
 "nbformat": 4,
 "nbformat_minor": 5
}
