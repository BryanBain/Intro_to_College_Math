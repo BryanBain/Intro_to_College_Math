{
 "cells": [
  {
   "cell_type": "markdown",
   "id": "72a2f96b-eb23-41fc-b5e1-f91b83fddfcc",
   "metadata": {},
   "source": [
    "# Lists"
   ]
  },
  {
   "cell_type": "markdown",
   "id": "20a07b20-48ed-4c5f-b4bf-d8fced58273d",
   "metadata": {},
   "source": [
    "In Python, lists can contain numbers, character strings, and other objects. \n",
    "\n",
    "We name a list with the same conditions as variable names:\n",
    "\n",
    "1. Name cannot contain a space\n",
    "2. Name must begin with a letter or underscore\n",
    "\n",
    "Suppose we have a list of some temperatures for the month of November:\n",
    "\n",
    "<p style=\"text-align:center\";>37, 33, 29, 40, 47, 41, 38, 30</p>\n",
    "\n",
    "In Python, we can store the list as follows using square brackets around the list items."
   ]
  },
  {
   "cell_type": "code",
   "execution_count": 1,
   "id": "849ca5eb-f8fa-4917-b485-313322cf0901",
   "metadata": {},
   "outputs": [],
   "source": [
    "temp = [37,33,29,40,47,41,38,30]"
   ]
  },
  {
   "cell_type": "markdown",
   "id": "357ceeff-5667-4e36-b7aa-f4982e96a20f",
   "metadata": {},
   "source": [
    "We can access individual items in the list using the following notation:\n",
    "\n",
    "`name[index]`\n",
    "\n",
    "**Note:** The first index of a list in Python (like many other languages) is 0. This means you actually start counting indices at 0, not 1.\n",
    "\n",
    "So we can access the first element of the `temp` list, 37, as follows:"
   ]
  },
  {
   "cell_type": "code",
   "execution_count": 2,
   "id": "aff66fd1-41c5-4818-a181-0f158acb3a30",
   "metadata": {},
   "outputs": [
    {
     "data": {
      "text/plain": [
       "37"
      ]
     },
     "execution_count": 2,
     "metadata": {},
     "output_type": "execute_result"
    }
   ],
   "source": [
    "temp[0]"
   ]
  },
  {
   "cell_type": "markdown",
   "id": "7b96f537-16d8-491b-8ade-39d260d4b41b",
   "metadata": {},
   "source": [
    "And we can access the 7th element of the `temp` list, 38, as follows:"
   ]
  },
  {
   "cell_type": "code",
   "execution_count": 3,
   "id": "7474b30b-5c40-41ae-b1f6-2d5943f3323b",
   "metadata": {},
   "outputs": [
    {
     "data": {
      "text/plain": [
       "38"
      ]
     },
     "execution_count": 3,
     "metadata": {},
     "output_type": "execute_result"
    }
   ],
   "source": [
    "temp[6]"
   ]
  },
  {
   "cell_type": "markdown",
   "id": "417a0194-156a-4bee-9d14-2da4d76b5c92",
   "metadata": {},
   "source": [
    "### Example 1.\n",
    "\n",
    "Access each of the following items in the `temp` list."
   ]
  },
  {
   "cell_type": "markdown",
   "id": "6dd1e924-ab16-4359-9f19-46c7bd269b64",
   "metadata": {},
   "source": [
    "(a) 40"
   ]
  },
  {
   "cell_type": "code",
   "execution_count": 4,
   "id": "3c616329-9ffc-4df3-86d1-ec245eb71779",
   "metadata": {},
   "outputs": [
    {
     "data": {
      "text/plain": [
       "40"
      ]
     },
     "execution_count": 4,
     "metadata": {},
     "output_type": "execute_result"
    }
   ],
   "source": [
    "temp[3]"
   ]
  },
  {
   "cell_type": "markdown",
   "id": "da129f51-65de-4739-bc3e-8beaf019f922",
   "metadata": {},
   "source": [
    "(b) 41"
   ]
  },
  {
   "cell_type": "code",
   "execution_count": 5,
   "id": "27994b09-cc49-416e-abb8-3b585da20ebb",
   "metadata": {},
   "outputs": [
    {
     "data": {
      "text/plain": [
       "41"
      ]
     },
     "execution_count": 5,
     "metadata": {},
     "output_type": "execute_result"
    }
   ],
   "source": [
    "temp[5]"
   ]
  },
  {
   "cell_type": "markdown",
   "id": "24677e11-5d76-4972-a48f-c83c306d9906",
   "metadata": {},
   "source": [
    "Lists can also be indexed from the end of the list rather than the beginning. This is called *negative indexing*.\n",
    "\n",
    "For instance, run the cell below."
   ]
  },
  {
   "cell_type": "code",
   "execution_count": 6,
   "id": "cdedcaa7-75da-4eec-a133-8101e8275fda",
   "metadata": {},
   "outputs": [],
   "source": [
    "times = [64,62,47,9,8,21,11,73]"
   ]
  },
  {
   "cell_type": "markdown",
   "id": "0bcef778-abeb-47b9-bd4e-26c4994360f4",
   "metadata": {},
   "source": [
    "If we want to access the last number in the `times` list, we can do so like this:"
   ]
  },
  {
   "cell_type": "code",
   "execution_count": 7,
   "id": "b5cf5fca-94c0-4b75-a4dc-225766e3c8da",
   "metadata": {},
   "outputs": [
    {
     "data": {
      "text/plain": [
       "73"
      ]
     },
     "execution_count": 7,
     "metadata": {},
     "output_type": "execute_result"
    }
   ],
   "source": [
    "times[-1]"
   ]
  },
  {
   "cell_type": "markdown",
   "id": "2de3eed0-f46a-4a6d-bb09-df6b9597f05f",
   "metadata": {},
   "source": [
    "And we can access the 2nd-to-last number, 11, like so:"
   ]
  },
  {
   "cell_type": "code",
   "execution_count": 8,
   "id": "238f9fef-8a50-4190-90e6-b7b3ad7210f6",
   "metadata": {},
   "outputs": [
    {
     "data": {
      "text/plain": [
       "11"
      ]
     },
     "execution_count": 8,
     "metadata": {},
     "output_type": "execute_result"
    }
   ],
   "source": [
    "times[-2]"
   ]
  },
  {
   "cell_type": "markdown",
   "id": "4216e1a9-5af0-4a94-bd9f-9aa050362ea6",
   "metadata": {},
   "source": [
    "### Example 2\n",
    "\n",
    "In the cell below, type the code to access the 47 in the `times` list **using negative indexing**."
   ]
  },
  {
   "cell_type": "code",
   "execution_count": 9,
   "id": "2dd8fb6a-e22a-4692-9f62-086385dedf54",
   "metadata": {},
   "outputs": [
    {
     "data": {
      "text/plain": [
       "47"
      ]
     },
     "execution_count": 9,
     "metadata": {},
     "output_type": "execute_result"
    }
   ],
   "source": [
    "times[-6]"
   ]
  },
  {
   "cell_type": "markdown",
   "id": "94c06330-8b81-4dc8-bac6-c2171042cf86",
   "metadata": {},
   "source": [
    "## Adding Items to a List"
   ]
  },
  {
   "cell_type": "markdown",
   "id": "993a2aef-fcf1-4f55-895d-38215a633d27",
   "metadata": {},
   "source": [
    "Python can attach one list to another (called *concatenating*) relatively easily.\n",
    "\n",
    "Suppose we want to add a new time, 80, to the end of the `times` list. \n",
    "\n",
    "One way to do this is to use the `.append()` method."
   ]
  },
  {
   "cell_type": "code",
   "execution_count": 10,
   "id": "99549e25-5243-4242-ad99-e807a5c7ba7e",
   "metadata": {},
   "outputs": [],
   "source": [
    "times.append(80)"
   ]
  },
  {
   "cell_type": "markdown",
   "id": "87c3567d-bfd9-4747-9bec-ac5f0c14aaea",
   "metadata": {},
   "source": [
    "Now we can display our new `times` list by typing in the list name and running the cell."
   ]
  },
  {
   "cell_type": "code",
   "execution_count": 11,
   "id": "e56391af-a523-4cb6-b273-b12f045c63c7",
   "metadata": {},
   "outputs": [
    {
     "data": {
      "text/plain": [
       "[64, 62, 47, 9, 8, 21, 11, 73, 80]"
      ]
     },
     "execution_count": 11,
     "metadata": {},
     "output_type": "execute_result"
    }
   ],
   "source": [
    "times"
   ]
  },
  {
   "cell_type": "markdown",
   "id": "283eb8ba-3489-4729-83c7-7638e25277fa",
   "metadata": {},
   "source": [
    "### Example 3\n",
    "\n",
    "Add the value of 40 to your `times` list."
   ]
  },
  {
   "cell_type": "code",
   "execution_count": 12,
   "id": "0e61bd2f-90d2-4ef1-8cfb-c1b7e52e04b9",
   "metadata": {},
   "outputs": [],
   "source": [
    "times.append(40)"
   ]
  },
  {
   "cell_type": "markdown",
   "id": "0eebcde3-2692-4dda-9cc4-e1ac8cd8339d",
   "metadata": {},
   "source": [
    "Print your `times` list to verify the values are\n",
    "\\[64, 62, 47, 9, 8, 21, 11, 73, 80, 40\\]"
   ]
  },
  {
   "cell_type": "code",
   "execution_count": 13,
   "id": "19eb920e-9e5e-40ac-8e82-c3c3e8c686d6",
   "metadata": {},
   "outputs": [
    {
     "name": "stdout",
     "output_type": "stream",
     "text": [
      "[64, 62, 47, 9, 8, 21, 11, 73, 80, 40]\n"
     ]
    }
   ],
   "source": [
    "print(times)"
   ]
  },
  {
   "cell_type": "markdown",
   "id": "7cc76f00-c046-41c3-a5d5-4093d59acdec",
   "metadata": {},
   "source": [
    "The `len(list_name)` function will tell us the length of our list. \n",
    "\n",
    "In the cell below, use the `len` function to determine the length of the `times` list."
   ]
  },
  {
   "cell_type": "code",
   "execution_count": 14,
   "id": "b57e0ba3-b79a-45df-ba27-464e5eff2329",
   "metadata": {},
   "outputs": [
    {
     "data": {
      "text/plain": [
       "10"
      ]
     },
     "execution_count": 14,
     "metadata": {},
     "output_type": "execute_result"
    }
   ],
   "source": [
    "len(times)"
   ]
  },
  {
   "cell_type": "markdown",
   "id": "0bf771f8-3fe1-4741-9491-4b47ffe14ae2",
   "metadata": {},
   "source": [
    "## Exercises"
   ]
  },
  {
   "cell_type": "markdown",
   "id": "28b5666e-6039-447b-a523-c853b68e450e",
   "metadata": {},
   "source": [
    "1. In the cell below, create a list with the following values and name the list `x` \n",
    "\n",
    "<p style=\"text-align:center;\"> \\[8,6,7,5,3,0,9\\] </p>"
   ]
  },
  {
   "cell_type": "code",
   "execution_count": 15,
   "id": "2959f164-4253-436b-ac5c-174b8fb2632b",
   "metadata": {},
   "outputs": [],
   "source": [
    "x = [8,6,7,5,3,0,9]"
   ]
  },
  {
   "cell_type": "markdown",
   "id": "93318248-cdbd-4ceb-99f6-f00ababd34fe",
   "metadata": {},
   "source": [
    "2. Access the value 6 in the `x` list."
   ]
  },
  {
   "cell_type": "code",
   "execution_count": 16,
   "id": "64277c72-8dc6-42c2-86a7-ebe2e1b93d79",
   "metadata": {},
   "outputs": [
    {
     "data": {
      "text/plain": [
       "6"
      ]
     },
     "execution_count": 16,
     "metadata": {},
     "output_type": "execute_result"
    }
   ],
   "source": [
    "x[1]"
   ]
  },
  {
   "cell_type": "markdown",
   "id": "985ffa35-a070-4c53-b03b-5280c4658fad",
   "metadata": {},
   "source": [
    "3. **Use negative indexing** to access the value 3 in the list."
   ]
  },
  {
   "cell_type": "code",
   "execution_count": 17,
   "id": "9e09cd38-4b80-4084-97d6-e2bdca892d6f",
   "metadata": {},
   "outputs": [
    {
     "data": {
      "text/plain": [
       "3"
      ]
     },
     "execution_count": 17,
     "metadata": {},
     "output_type": "execute_result"
    }
   ],
   "source": [
    "x[-3]"
   ]
  },
  {
   "cell_type": "markdown",
   "id": "78ea464d-8695-40b1-bca6-98ee05a70d3b",
   "metadata": {},
   "source": [
    "4. Add a new value, 1, to the list."
   ]
  },
  {
   "cell_type": "code",
   "execution_count": 18,
   "id": "9a22bacd-f477-417c-8277-c6ed35ae8836",
   "metadata": {},
   "outputs": [],
   "source": [
    "x.append(1)"
   ]
  },
  {
   "cell_type": "markdown",
   "id": "454e0074-da9e-432c-8a6a-a620ab2bd21b",
   "metadata": {},
   "source": [
    "5. Print your new `x` list."
   ]
  },
  {
   "cell_type": "code",
   "execution_count": 19,
   "id": "e62f9987-8cb1-4a82-8db3-008fe70acf1b",
   "metadata": {},
   "outputs": [
    {
     "name": "stdout",
     "output_type": "stream",
     "text": [
      "[8, 6, 7, 5, 3, 0, 9, 1]\n"
     ]
    }
   ],
   "source": [
    "print(x)"
   ]
  },
  {
   "cell_type": "markdown",
   "id": "2bcdb1c3-0b3d-40ba-b486-cf5b89bfac6b",
   "metadata": {},
   "source": [
    "6. Use the `len` function to determine the new length of the `x` list."
   ]
  },
  {
   "cell_type": "code",
   "execution_count": 20,
   "id": "aad67a95-98a8-4c48-9ffd-de5b854a40f4",
   "metadata": {
    "tags": []
   },
   "outputs": [
    {
     "data": {
      "text/plain": [
       "8"
      ]
     },
     "execution_count": 20,
     "metadata": {},
     "output_type": "execute_result"
    }
   ],
   "source": [
    "len(x)"
   ]
  },
  {
   "cell_type": "code",
   "execution_count": null,
   "id": "e8340fd8-562a-4d89-ac79-d1bfe3a39c66",
   "metadata": {},
   "outputs": [],
   "source": []
  }
 ],
 "metadata": {
  "kernelspec": {
   "display_name": "Python 3 (ipykernel)",
   "language": "python",
   "name": "python3"
  },
  "language_info": {
   "codemirror_mode": {
    "name": "ipython",
    "version": 3
   },
   "file_extension": ".py",
   "mimetype": "text/x-python",
   "name": "python",
   "nbconvert_exporter": "python",
   "pygments_lexer": "ipython3",
   "version": "3.9.13"
  }
 },
 "nbformat": 4,
 "nbformat_minor": 5
}
