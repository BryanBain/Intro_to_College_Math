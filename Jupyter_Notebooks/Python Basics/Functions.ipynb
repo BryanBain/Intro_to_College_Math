{
 "cells": [
  {
   "cell_type": "markdown",
   "id": "7b4467b1-01dd-4bb5-a1ac-1769ccc5fbfc",
   "metadata": {},
   "source": [
    "# Functions"
   ]
  },
  {
   "cell_type": "markdown",
   "id": "9141e3d4-3c80-4ead-87fd-95de042f2b77",
   "metadata": {},
   "source": [
    "Functions are very powerful tools that allow us to perform common calculations without the need to retype every step; much like on a normal calculator. \n",
    "\n",
    "In Python, we declare to the computer that we are creating a function by using the `def` keyword.\n",
    "\n",
    "We then name our function and put the parameters inside parentheses, just like in math class with something like $f(x)\n",
    "$. "
   ]
  },
  {
   "cell_type": "markdown",
   "id": "a47e4328-03c8-4ea8-992a-bdb05451746e",
   "metadata": {},
   "source": [
    "However, Python is particular about what we do next.\n",
    "\n",
    "After we close the parentheses, we need to use a colon : and then press `Enter` or `Return`.\n",
    "\n",
    "Then, ***you must indent the next line***. You may use spaces or the tab key, but it **must** be done. Jupyter Notebooks will automatically indent the next line for you.\n",
    "\n",
    "Also, in Python, ***you must be consistent with your indentations***. Having different amounts of space for each line will lead to an `IndentationError`.\n",
    "\n",
    "Then, type `return` followed by what the function is to do."
   ]
  },
  {
   "cell_type": "markdown",
   "id": "a486fcff-35f9-4e2f-91b9-e9e35c7909fc",
   "metadata": {},
   "source": [
    "For instance, the function below is what we would define in class to be\n",
    "$$\n",
    "    f(x) = 2x\n",
    "$$\n",
    "\n",
    "Notice the asterisk (multiplication symbol) between the coefficient 2 and the variable *x*.\n"
   ]
  },
  {
   "cell_type": "code",
   "execution_count": 1,
   "id": "3cc34bcf-0de5-47d0-a3f2-fda47d0b975e",
   "metadata": {},
   "outputs": [],
   "source": [
    "def f(x):\n",
    "    return 2 * x"
   ]
  },
  {
   "cell_type": "markdown",
   "id": "ee34e840-9918-4582-8516-8bccf0510d11",
   "metadata": {},
   "source": [
    "We can now evaluate our function $f(x)$ for different values, such as $f(5)$."
   ]
  },
  {
   "cell_type": "code",
   "execution_count": 2,
   "id": "4dd9fd59-4ed4-4288-8283-7687e852e46f",
   "metadata": {},
   "outputs": [
    {
     "data": {
      "text/plain": [
       "10"
      ]
     },
     "execution_count": 2,
     "metadata": {},
     "output_type": "execute_result"
    }
   ],
   "source": [
    "f(5)"
   ]
  },
  {
   "cell_type": "markdown",
   "id": "7424053a-0d7a-472e-9acb-0f26e7d4a8c9",
   "metadata": {},
   "source": [
    "### Exercise 1\n",
    "\n",
    "In the cell below, define a function, $f(x)$ as\n",
    "$$\n",
    "f(x) = x^2 + 4x - 1\n",
    "$$\n",
    "\n",
    "Then evaluate $f(3)$ in the cell after that.  {You should get 20}"
   ]
  },
  {
   "cell_type": "code",
   "execution_count": 3,
   "id": "0a65fb83-f8e7-45ed-8ed4-87ffaf9f258e",
   "metadata": {},
   "outputs": [],
   "source": [
    "def f(x):\n",
    "    return x**2 + 4*x - 1"
   ]
  },
  {
   "cell_type": "code",
   "execution_count": 4,
   "id": "a0cdfad8-0d90-400f-9264-e1b647eaa9cd",
   "metadata": {},
   "outputs": [
    {
     "data": {
      "text/plain": [
       "20"
      ]
     },
     "execution_count": 4,
     "metadata": {},
     "output_type": "execute_result"
    }
   ],
   "source": [
    "f(3)"
   ]
  },
  {
   "cell_type": "markdown",
   "id": "d7f892fe-ff26-4d3a-af16-e945981a9b43",
   "metadata": {
    "tags": []
   },
   "source": [
    "## More-Descriptive Names for Functions"
   ]
  },
  {
   "cell_type": "markdown",
   "id": "5f2985e7-12c4-4569-b583-0dc0717d68c9",
   "metadata": {},
   "source": [
    "Putting together descriptive variable and function names, we can write functions with purposes that will be easy to remember in the future. Many notebooks will even offer auto-completion when evaluating functions."
   ]
  },
  {
   "cell_type": "code",
   "execution_count": 5,
   "id": "1acb2cc7-9ca1-4ff0-8ef8-9a2c6fdbb752",
   "metadata": {},
   "outputs": [],
   "source": [
    "def circle_area(radius):\n",
    "    return 3.14 * radius ** 2"
   ]
  },
  {
   "cell_type": "code",
   "execution_count": 6,
   "id": "365a960c-bb30-497a-a20b-cde5b3318965",
   "metadata": {},
   "outputs": [
    {
     "data": {
      "text/plain": [
       "153.86"
      ]
     },
     "execution_count": 6,
     "metadata": {},
     "output_type": "execute_result"
    }
   ],
   "source": [
    "circle_area(7)"
   ]
  },
  {
   "cell_type": "markdown",
   "id": "e226768f-f9ba-479f-bc6c-72ed5cee3ed5",
   "metadata": {},
   "source": [
    "You can even put comments inside or outside of your function to describe what it does. \n",
    "\n",
    "If you plan on studying programming later, I am going to strongly advise you to get in the habit of doing this."
   ]
  },
  {
   "cell_type": "code",
   "execution_count": 7,
   "id": "7fb179ba-3842-4163-ac0c-d5b2e0914e88",
   "metadata": {},
   "outputs": [],
   "source": [
    "def circle_area(radius):\n",
    "    # Calculates the area of a circle\n",
    "    return 3.14 * radius ** 2"
   ]
  },
  {
   "cell_type": "code",
   "execution_count": 8,
   "id": "7f5b29c2-e907-4229-afb0-c7563613b0d2",
   "metadata": {},
   "outputs": [
    {
     "data": {
      "text/plain": [
       "153.86"
      ]
     },
     "execution_count": 8,
     "metadata": {},
     "output_type": "execute_result"
    }
   ],
   "source": [
    "circle_area(7)"
   ]
  },
  {
   "cell_type": "markdown",
   "id": "8efd38a5-3458-4457-a4b3-4f544894d443",
   "metadata": {},
   "source": [
    "You can even specify what your input value represents.\n",
    "\n",
    "Just make sure you use the same variable name that is inside the parentheses when the function was declared."
   ]
  },
  {
   "cell_type": "code",
   "execution_count": 9,
   "id": "29b3ef37-5cc3-4ffe-a6a5-a729962e72df",
   "metadata": {},
   "outputs": [
    {
     "data": {
      "text/plain": [
       "153.86"
      ]
     },
     "execution_count": 9,
     "metadata": {},
     "output_type": "execute_result"
    }
   ],
   "source": [
    "circle_area(radius = 7)"
   ]
  },
  {
   "cell_type": "markdown",
   "id": "23771fb4-ee2e-4a75-a8c1-b01cd3901af3",
   "metadata": {},
   "source": [
    "### Exercise 2\n",
    "\n",
    "The height of a baseball thrown into the air can be modeled by the function\n",
    "\n",
    "$$height(time) = -16{time}^2 + 65{time} + 5$$\n",
    "\n",
    "where time is in seconds and height is in feet.\n",
    "\n",
    "Write the code for the function, `height(time)`, in the cell below. Don't forget to put an asterisk `*` between coefficents and variables."
   ]
  },
  {
   "cell_type": "code",
   "execution_count": 10,
   "id": "d9837166-4a0d-406d-9e3d-c96a62230f65",
   "metadata": {},
   "outputs": [],
   "source": [
    "def height(time):\n",
    "    return -16*time**2 + 65*time + 5"
   ]
  },
  {
   "cell_type": "markdown",
   "id": "918220ba-5ee2-42e7-983e-a944f60f91f7",
   "metadata": {
    "tags": []
   },
   "source": [
    "### Exercise 3\n",
    "\n",
    "Using the cell below, find the height of the baseball after 3 seconds. {You should get 56}"
   ]
  },
  {
   "cell_type": "code",
   "execution_count": 11,
   "id": "d03a87a7-6662-4b9b-bdb1-171b960d10b1",
   "metadata": {},
   "outputs": [
    {
     "data": {
      "text/plain": [
       "56"
      ]
     },
     "execution_count": 11,
     "metadata": {},
     "output_type": "execute_result"
    }
   ],
   "source": [
    "height(3)"
   ]
  },
  {
   "cell_type": "markdown",
   "id": "2bfd986e-9027-4d79-a2d6-346e59af6e0a",
   "metadata": {},
   "source": [
    "## Multivariable Functions"
   ]
  },
  {
   "cell_type": "markdown",
   "id": "73eada94-3454-40ef-95d8-92d1feee3132",
   "metadata": {},
   "source": [
    "We even have the option of using more than one variable. Just make sure you are careful with the order of the variables inside parentheses when defining the function."
   ]
  },
  {
   "cell_type": "code",
   "execution_count": 12,
   "id": "bb94f017-ee1b-4d8e-b057-4490a560985f",
   "metadata": {},
   "outputs": [],
   "source": [
    "def cylinder_volume(radius, height):\n",
    "    return 3.14 * radius**2 * height"
   ]
  },
  {
   "cell_type": "code",
   "execution_count": 13,
   "id": "f39a4bf6-5f1e-4a1b-b5b0-f782e49d69ac",
   "metadata": {},
   "outputs": [
    {
     "data": {
      "text/plain": [
       "549.5"
      ]
     },
     "execution_count": 13,
     "metadata": {},
     "output_type": "execute_result"
    }
   ],
   "source": [
    "cylinder_volume(5, 7)"
   ]
  },
  {
   "cell_type": "code",
   "execution_count": 14,
   "id": "61d2ad32-b1a9-4c15-b97f-ca1222b03963",
   "metadata": {},
   "outputs": [
    {
     "data": {
      "text/plain": [
       "549.5"
      ]
     },
     "execution_count": 14,
     "metadata": {},
     "output_type": "execute_result"
    }
   ],
   "source": [
    "cylinder_volume(radius = 5, height = 7)"
   ]
  },
  {
   "cell_type": "markdown",
   "id": "8d213758-af2b-460c-91c7-7e2985a1a8b8",
   "metadata": {},
   "source": [
    "### Exercise 4\n",
    "\n",
    "The slope of a line through points $(x_1, y_1)$ and $(x_2, y_2)$ is\n",
    "\n",
    "$$ m = \\frac{y_2 - y_1}{x_2 - x_1} $$\n",
    "\n",
    "In the cell below, write the code to calculate the slope of a line given the 4 values needed.\n",
    "Name your function `get_slope`.\n",
    "\n",
    "**Note:** You will need to put the numerator in parentheses and also the denominator."
   ]
  },
  {
   "cell_type": "code",
   "execution_count": 15,
   "id": "bb6b1373-c29a-4f72-af95-d8cf5b827492",
   "metadata": {},
   "outputs": [],
   "source": [
    "def get_slope(x1, y1, x2, y2):\n",
    "    return (y2 - y1) / (x2 - x1)"
   ]
  },
  {
   "cell_type": "markdown",
   "id": "01a6c245-ca57-42bf-9dfa-02b2dbd1cb2a",
   "metadata": {},
   "source": [
    "### Exercise 5\n",
    "\n",
    "Use your function from the previous exercise to find the slope of the line connecting the points $(-3, 1)$ and $(0, 7)$  {The slope should be 2}"
   ]
  },
  {
   "cell_type": "code",
   "execution_count": 16,
   "id": "1ab51d9e-c5ba-4ee4-8644-fbff28c38b8d",
   "metadata": {},
   "outputs": [
    {
     "data": {
      "text/plain": [
       "2.0"
      ]
     },
     "execution_count": 16,
     "metadata": {},
     "output_type": "execute_result"
    }
   ],
   "source": [
    "get_slope(-3, 1, 0, 7)"
   ]
  },
  {
   "cell_type": "code",
   "execution_count": null,
   "id": "739b5a7d-2649-4a8d-afad-48570671b01a",
   "metadata": {},
   "outputs": [],
   "source": []
  }
 ],
 "metadata": {
  "kernelspec": {
   "display_name": "Python 3 (ipykernel)",
   "language": "python",
   "name": "python3"
  },
  "language_info": {
   "codemirror_mode": {
    "name": "ipython",
    "version": 3
   },
   "file_extension": ".py",
   "mimetype": "text/x-python",
   "name": "python",
   "nbconvert_exporter": "python",
   "pygments_lexer": "ipython3",
   "version": "3.9.13"
  }
 },
 "nbformat": 4,
 "nbformat_minor": 5
}
