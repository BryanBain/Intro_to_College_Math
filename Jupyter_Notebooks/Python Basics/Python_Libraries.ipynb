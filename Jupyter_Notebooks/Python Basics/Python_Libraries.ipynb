{
 "cells": [
  {
   "cell_type": "markdown",
   "id": "f945f990-85dc-458d-9412-44ed7ee7767b",
   "metadata": {
    "tags": []
   },
   "source": [
    "# Using Libraries"
   ]
  },
  {
   "cell_type": "markdown",
   "id": "058d35a3-bce8-4cc2-9ba5-0b890f19184c",
   "metadata": {},
   "source": [
    "Libraries are programs that other people have written that we can use in ours.\n",
    "\n",
    "Some of the libraries we will be using in the future are \n",
    "\n",
    "* Pandas (for analyzing big data spreadsheets too large for Excel)\n",
    "* SciPy (for our statistical calculations)\n",
    "* Numpy (also for our statistical calculations)\n",
    "* Random (good for exploring concepts using random numbers)\n",
    "* Matplotlib (for visual data displays)\n",
    "\n",
    "In this notebook, we will use the `math` library.\n",
    "\n",
    "To get started, we first need to **import** the math library. Do so by running the following cell:"
   ]
  },
  {
   "cell_type": "code",
   "execution_count": 1,
   "id": "eaa82a29-c476-4089-834b-06ca15b709be",
   "metadata": {},
   "outputs": [],
   "source": [
    "import math"
   ]
  },
  {
   "cell_type": "markdown",
   "id": "560e83e8-08b8-4fbb-81c2-0f05d13619ae",
   "metadata": {},
   "source": [
    "Once we import a library, we can use all of the values in that library; as well as all of its functions (called *methods*)."
   ]
  },
  {
   "cell_type": "markdown",
   "id": "db4c94cb-4eb5-447b-a9db-a769f52fe754",
   "metadata": {},
   "source": [
    "A full list of all of the values and methods of the `math` library can be found by searching for the Python math library documentation.\n",
    "\n",
    "For us, we will stick with some common ones you've seen in the past such as:\n",
    "\n",
    "* $\\sqrt{x}$\n",
    "* $\\pi$\n",
    "* $e^x$\n",
    "* $\\log_b(x)$\n",
    "* $\\ln(x)$\n",
    "\n",
    "You will type `math.` and then the function or value you need."
   ]
  },
  {
   "cell_type": "markdown",
   "id": "5302aba3-fb6b-41b4-ba85-703296eb0c09",
   "metadata": {},
   "source": [
    "## Square Root"
   ]
  },
  {
   "cell_type": "markdown",
   "id": "6cc0917a-e656-46cc-8ab5-8816a7fbea2c",
   "metadata": {},
   "source": [
    "We can get approximations for square root of a value, *x*, using `math.sqrt(x)`.\n",
    "\n",
    "For instance to calculate $\\sqrt{7}$, run the following cell:"
   ]
  },
  {
   "cell_type": "code",
   "execution_count": 2,
   "id": "a0f6df18-67ae-46a5-a19d-f92cbbaae771",
   "metadata": {},
   "outputs": [
    {
     "data": {
      "text/plain": [
       "2.6457513110645907"
      ]
     },
     "execution_count": 2,
     "metadata": {},
     "output_type": "execute_result"
    }
   ],
   "source": [
    "math.sqrt(7)"
   ]
  },
  {
   "cell_type": "markdown",
   "id": "45499e8a-75b0-423b-9c94-59e94954834f",
   "metadata": {},
   "source": [
    "### Exercise 1"
   ]
  },
  {
   "cell_type": "markdown",
   "id": "57cb8baa-215d-44fa-b207-da9658d3939f",
   "metadata": {},
   "source": [
    "Calculate $\\sqrt{48}$ in the cell below."
   ]
  },
  {
   "cell_type": "code",
   "execution_count": 3,
   "id": "7a453c64-e0b6-4d55-9651-208655bd1faa",
   "metadata": {},
   "outputs": [
    {
     "data": {
      "text/plain": [
       "6.928203230275509"
      ]
     },
     "execution_count": 3,
     "metadata": {},
     "output_type": "execute_result"
    }
   ],
   "source": [
    "math.sqrt(48)"
   ]
  },
  {
   "cell_type": "markdown",
   "id": "757f97ad-94f2-4784-8227-a5f796896b91",
   "metadata": {},
   "source": [
    "## Pi $\\pi$"
   ]
  },
  {
   "cell_type": "markdown",
   "id": "46219610-207c-4ce0-a1fd-41dea11de0da",
   "metadata": {},
   "source": [
    "We have used 3.14 as an approximation for $\\pi$. However, we can get a better approximation using `math.pi`"
   ]
  },
  {
   "cell_type": "markdown",
   "id": "7ddddf7e-c083-40d2-aa16-10c0047df89f",
   "metadata": {},
   "source": [
    "### Exercise 2"
   ]
  },
  {
   "cell_type": "markdown",
   "id": "d6bd4f82-354c-4d18-9de2-dd2564b3f8e9",
   "metadata": {},
   "source": [
    "In the cell below, calculate the circumference of a circle with a radius of 5.\n",
    "The circumference formula is $2\\pi r$. Use `math.pi` in your calculation."
   ]
  },
  {
   "cell_type": "code",
   "execution_count": 4,
   "id": "531d8cdc-6d40-41b8-8b3b-57f34e86fe52",
   "metadata": {},
   "outputs": [
    {
     "data": {
      "text/plain": [
       "31.41592653589793"
      ]
     },
     "execution_count": 4,
     "metadata": {},
     "output_type": "execute_result"
    }
   ],
   "source": [
    "2 * math.pi * 5"
   ]
  },
  {
   "cell_type": "markdown",
   "id": "ecff96e6-449a-47dd-93dc-217fb936e1b6",
   "metadata": {},
   "source": [
    "## $e$"
   ]
  },
  {
   "cell_type": "markdown",
   "id": "fed8faa3-3346-4ebf-be9f-101f730e9dab",
   "metadata": {},
   "source": [
    "If we want to evaluate $e^x$ for some value of *x*, we use the `math.exp(x)` method.\n",
    "\n",
    "For instance to evaluate $e^2$, use `math.exp(2)`"
   ]
  },
  {
   "cell_type": "markdown",
   "id": "a12590d9-e86a-4ad8-952c-e2d76733eb8c",
   "metadata": {},
   "source": [
    "### Exercise 3"
   ]
  },
  {
   "cell_type": "markdown",
   "id": "81611e9a-5977-4c9c-baf3-b706f5b5a510",
   "metadata": {},
   "source": [
    "In the cell below, evaluate $e^{-1}$"
   ]
  },
  {
   "cell_type": "code",
   "execution_count": 5,
   "id": "8725c8e4-bd48-4420-9b08-d6d25e4ac60a",
   "metadata": {},
   "outputs": [
    {
     "data": {
      "text/plain": [
       "0.36787944117144233"
      ]
     },
     "execution_count": 5,
     "metadata": {},
     "output_type": "execute_result"
    }
   ],
   "source": [
    "math.exp(-1)"
   ]
  },
  {
   "cell_type": "markdown",
   "id": "01238d9a-17c1-44c2-acac-ea5440484dce",
   "metadata": {},
   "source": [
    "## Logarithms"
   ]
  },
  {
   "cell_type": "markdown",
   "id": "ee9a4476-2cba-417a-bac4-4eef9ce988ec",
   "metadata": {},
   "source": [
    "Python allows us to evaluate logarithms for positive bases not equal to 1.\n",
    "\n",
    "When evaluating $\\log_b(x)$, the general format is `math.log(x,base)`\n",
    "\n",
    "For instance, to evaluate $\\log_3(7)$, we type `math.log(7,3)`"
   ]
  },
  {
   "cell_type": "code",
   "execution_count": 6,
   "id": "c18aa048-96c3-43c8-a05b-32b70f19082d",
   "metadata": {},
   "outputs": [
    {
     "data": {
      "text/plain": [
       "1.7712437491614221"
      ]
     },
     "execution_count": 6,
     "metadata": {},
     "output_type": "execute_result"
    }
   ],
   "source": [
    "math.log(7,3)"
   ]
  },
  {
   "cell_type": "markdown",
   "id": "d1381e57-df1c-4c57-893c-c8c203405efc",
   "metadata": {},
   "source": [
    "### Exercise 4"
   ]
  },
  {
   "cell_type": "markdown",
   "id": "67e2db7b-f3c7-4ed3-a920-8f054586d09a",
   "metadata": {},
   "source": [
    "Calculate $\\log_5(25)$ in the cell below."
   ]
  },
  {
   "cell_type": "code",
   "execution_count": 7,
   "id": "2a9b76db-fa99-4b92-8728-0d0883f82a27",
   "metadata": {},
   "outputs": [
    {
     "data": {
      "text/plain": [
       "2.0"
      ]
     },
     "execution_count": 7,
     "metadata": {},
     "output_type": "execute_result"
    }
   ],
   "source": [
    "math.log(25, 5)"
   ]
  },
  {
   "cell_type": "markdown",
   "id": "c9b735cd-9ac6-48fb-b0e3-c32a99e9eb1a",
   "metadata": {},
   "source": [
    "*Note:* If we do not include the base, Python will calculate the natural logarithm, $\\ln$."
   ]
  },
  {
   "cell_type": "code",
   "execution_count": 8,
   "id": "9fe310ff-ec83-4d7d-a855-7c210911b338",
   "metadata": {},
   "outputs": [
    {
     "data": {
      "text/plain": [
       "1.6094379124341003"
      ]
     },
     "execution_count": 8,
     "metadata": {},
     "output_type": "execute_result"
    }
   ],
   "source": [
    "# The following will calculate ln(5)\n",
    "math.log(5)"
   ]
  },
  {
   "cell_type": "markdown",
   "id": "8f6d3081-7da6-4f06-8de4-b7afc274cd5f",
   "metadata": {},
   "source": [
    "### Exercise 5"
   ]
  },
  {
   "cell_type": "markdown",
   "id": "cc4c9f82-37b0-4359-be4e-cf9dc0c770c4",
   "metadata": {},
   "source": [
    "Calculate $\\ln(10)$ in the cell below."
   ]
  },
  {
   "cell_type": "code",
   "execution_count": 9,
   "id": "45728eba-0169-4a2b-84b7-35b14928f75e",
   "metadata": {},
   "outputs": [
    {
     "data": {
      "text/plain": [
       "2.302585092994046"
      ]
     },
     "execution_count": 9,
     "metadata": {},
     "output_type": "execute_result"
    }
   ],
   "source": [
    "math.log(10)"
   ]
  },
  {
   "cell_type": "code",
   "execution_count": null,
   "id": "51cb3bb2-3a4e-455a-b601-75ad189d6ca1",
   "metadata": {},
   "outputs": [],
   "source": []
  }
 ],
 "metadata": {
  "kernelspec": {
   "display_name": "Python 3 (ipykernel)",
   "language": "python",
   "name": "python3"
  },
  "language_info": {
   "codemirror_mode": {
    "name": "ipython",
    "version": 3
   },
   "file_extension": ".py",
   "mimetype": "text/x-python",
   "name": "python",
   "nbconvert_exporter": "python",
   "pygments_lexer": "ipython3",
   "version": "3.9.13"
  }
 },
 "nbformat": 4,
 "nbformat_minor": 5
}
