{
 "cells": [
  {
   "cell_type": "markdown",
   "id": "0f9e990f-1829-468e-bd5d-9c8b970f2172",
   "metadata": {},
   "source": [
    "Before you begin, please do the following:\n",
    "\n",
    "<ol>\n",
    "    <li>Select File</li>\n",
    "    <li>Select Rename Notebook</li>\n",
    "    <li>Add your last name to the start of the file name</li>\n",
    "    <li>Select Rename</li>\n",
    "</ol>\n",
    "\n",
    "For instance, my notebook would then be named `Bain-Python_Notebook_Review.ipynb`"
   ]
  },
  {
   "cell_type": "markdown",
   "id": "210a88e0-0808-4f40-9ce6-c34762b8af65",
   "metadata": {},
   "source": [
    "This assignment will be a combination of the notebooks we have worked with thus far. Please feel free to refer to them as needed."
   ]
  },
  {
   "cell_type": "markdown",
   "id": "5db168da-17ae-4eb8-93cd-dd8bb6923079",
   "metadata": {},
   "source": [
    "# 1. Basic Calculations"
   ]
  },
  {
   "cell_type": "markdown",
   "id": "ce106acb-6722-48f8-9eae-d6e890835e06",
   "metadata": {},
   "source": [
    "## Exercise 1.1"
   ]
  },
  {
   "cell_type": "markdown",
   "id": "d3da11ac-1791-4d79-a510-817e0d4bf002",
   "metadata": {},
   "source": [
    "In the cell below, calculate the following:\n",
    "\n",
    "$$(9 + 8) - 5^2 * 3$$"
   ]
  },
  {
   "cell_type": "code",
   "execution_count": null,
   "id": "170fb37e-fa4a-4b21-950e-63b527122fc1",
   "metadata": {},
   "outputs": [],
   "source": []
  },
  {
   "cell_type": "markdown",
   "id": "b658fe86-1a6c-405d-b198-6140e8dfd2b0",
   "metadata": {},
   "source": [
    "## Exercise 1.2"
   ]
  },
  {
   "cell_type": "markdown",
   "id": "9261b73e-7ef1-490c-880a-2e1e309a6e23",
   "metadata": {},
   "source": [
    "In the cell below, calculate the following (note the decimal in the exponent):\n",
    "\n",
    "$$ \\frac{8}{3} + (4 * 2)^{1.25}$$"
   ]
  },
  {
   "cell_type": "code",
   "execution_count": null,
   "id": "f8a10db4-56e2-4c1c-a798-0e245919e109",
   "metadata": {},
   "outputs": [],
   "source": []
  },
  {
   "cell_type": "markdown",
   "id": "a7902b0c-2774-401b-9d9d-30d8198af35f",
   "metadata": {},
   "source": [
    "# 2. Variables"
   ]
  },
  {
   "cell_type": "markdown",
   "id": "777f5289-6ae3-4de5-bb8e-38a472680240",
   "metadata": {},
   "source": [
    "## Exercise 2.1"
   ]
  },
  {
   "cell_type": "markdown",
   "id": "634e90e9-678c-4698-8e6f-8782603ec210",
   "metadata": {},
   "source": [
    "In the cell below, create a variable `height` and set its value to 30."
   ]
  },
  {
   "cell_type": "code",
   "execution_count": null,
   "id": "677ad97e-425a-42d5-8805-ee97cfd88090",
   "metadata": {},
   "outputs": [],
   "source": []
  },
  {
   "cell_type": "markdown",
   "id": "686cd69a-484a-4b72-a5bf-0e281b6f627b",
   "metadata": {},
   "source": [
    "## Exercise 2.2"
   ]
  },
  {
   "cell_type": "markdown",
   "id": "6123d5ad-4999-425a-b70b-4e16f1b143b1",
   "metadata": {},
   "source": [
    "**Using the `height` variable from Exercise 2.1**, add 20 to it."
   ]
  },
  {
   "cell_type": "code",
   "execution_count": null,
   "id": "9803be91-52fd-40b3-950a-32557b450d14",
   "metadata": {},
   "outputs": [],
   "source": []
  },
  {
   "cell_type": "markdown",
   "id": "c4b26d2e-1880-4980-82fa-0004799061ce",
   "metadata": {},
   "source": [
    "## Exercise 2.3"
   ]
  },
  {
   "cell_type": "markdown",
   "id": "c5950e67-fe68-45fb-b99e-014b9da6cfc5",
   "metadata": {},
   "source": [
    "In the cell below, create a variable `w` and set its value to $-9$"
   ]
  },
  {
   "cell_type": "code",
   "execution_count": null,
   "id": "eed29de9-a1ba-400a-9207-dfae5f6adb63",
   "metadata": {},
   "outputs": [],
   "source": []
  },
  {
   "cell_type": "markdown",
   "id": "27775409-2e8d-45ef-bb7e-15746cb84ff6",
   "metadata": {},
   "source": [
    "## Exercise 2.4"
   ]
  },
  {
   "cell_type": "markdown",
   "id": "f0900077-2d49-46a4-9be7-ef1b27714c04",
   "metadata": {},
   "source": [
    "**Using the `w` variable** from Exercise 2.3, square it."
   ]
  },
  {
   "cell_type": "code",
   "execution_count": null,
   "id": "15bf8de1-6bb7-4e60-b69f-0322c2460d65",
   "metadata": {},
   "outputs": [],
   "source": []
  },
  {
   "cell_type": "markdown",
   "id": "24db22ce-8380-4150-bd92-7ce3cb01007f",
   "metadata": {},
   "source": [
    "# 3. Functions"
   ]
  },
  {
   "cell_type": "markdown",
   "id": "7a3ba211-0c7b-4ef1-bb2d-34bef06bfd66",
   "metadata": {},
   "source": [
    "## Exercise 3.1"
   ]
  },
  {
   "cell_type": "markdown",
   "id": "0ee307a5-c90a-4293-9835-26880cc0cc2e",
   "metadata": {},
   "source": [
    "In the cell below, define the function\n",
    "\n",
    "$$ f(x) = 8x^3 - 7x + 2$$"
   ]
  },
  {
   "cell_type": "code",
   "execution_count": null,
   "id": "c433d901-349b-4e79-9442-3d9227deab7f",
   "metadata": {},
   "outputs": [],
   "source": []
  },
  {
   "cell_type": "markdown",
   "id": "e5bf8013-4d04-4008-ae0d-0f8bf638f45d",
   "metadata": {},
   "source": [
    "## Exercise 3.2"
   ]
  },
  {
   "cell_type": "markdown",
   "id": "3ff6dcf7-be1f-4b88-a51e-e3a60eeb76b8",
   "metadata": {},
   "source": [
    "***Using your function from Exercise 3.1***, in the cell below, evaluate $f(-5)$."
   ]
  },
  {
   "cell_type": "code",
   "execution_count": null,
   "id": "be5c3be3-f3c6-49d5-b5d7-8ed40cb2a0f7",
   "metadata": {},
   "outputs": [],
   "source": []
  },
  {
   "cell_type": "markdown",
   "id": "85cf2bb3-7b23-4625-b7d9-b46a887bd1df",
   "metadata": {},
   "source": [
    "## Exercise 3.3"
   ]
  },
  {
   "cell_type": "markdown",
   "id": "6d3b5214-7834-4228-aeed-aaa9cc20636e",
   "metadata": {},
   "source": [
    "In the cell below, define the function\n",
    "\n",
    "$$ h(t) = -16t^2 + 32t + 40$$"
   ]
  },
  {
   "cell_type": "code",
   "execution_count": null,
   "id": "b918d464-3fa4-4ff5-b54b-e3523de4bf70",
   "metadata": {},
   "outputs": [],
   "source": []
  },
  {
   "cell_type": "markdown",
   "id": "c8047ab3-6280-41cf-a704-508b656ed95a",
   "metadata": {},
   "source": [
    "## Exercise 3.4"
   ]
  },
  {
   "cell_type": "markdown",
   "id": "e5c43c98-f36a-4700-9676-b0b3fb300fba",
   "metadata": {},
   "source": [
    "***Using your function from Exercise 3.3***, in the cell below, evaluate $h(15)$."
   ]
  },
  {
   "cell_type": "code",
   "execution_count": null,
   "id": "b6fdb21e-78f0-4c07-8b11-1643617e8c09",
   "metadata": {},
   "outputs": [],
   "source": []
  },
  {
   "cell_type": "markdown",
   "id": "45785a54-3ba8-47e6-a280-7947c8a07c4c",
   "metadata": {},
   "source": [
    "## Exercise 3.5"
   ]
  },
  {
   "cell_type": "markdown",
   "id": "e99dbebb-a7b6-48e5-8654-9ef76f2cffc3",
   "metadata": {},
   "source": [
    "In the cell below, define the function below which calculates the perimeter of a rectangle.\n",
    "\n",
    "$$\\text{Perim}(\\text{length}, \\text{width}) = 2\\cdot\\text{length} + 2\\cdot\\text{width}$$"
   ]
  },
  {
   "cell_type": "code",
   "execution_count": null,
   "id": "a2a639c1-704e-404a-ab18-7ec9e639edbf",
   "metadata": {},
   "outputs": [],
   "source": []
  },
  {
   "cell_type": "markdown",
   "id": "43e7442e-8f2f-44d3-82fe-0400df2827d1",
   "metadata": {},
   "source": [
    "## Exercise 3.6"
   ]
  },
  {
   "cell_type": "markdown",
   "id": "548214c5-dd5e-45e7-a096-b1c9e08243e8",
   "metadata": {},
   "source": [
    "***Using your function from Exercise 3.5***, find the perimeter of a rectangle with a length of 10 and a width of 8."
   ]
  },
  {
   "cell_type": "code",
   "execution_count": null,
   "id": "7208bb41-c92e-4b88-b96e-a415de03c055",
   "metadata": {},
   "outputs": [],
   "source": []
  },
  {
   "cell_type": "markdown",
   "id": "87db2a0c-0f83-43be-9aab-a6938e46d2c4",
   "metadata": {},
   "source": [
    "# 4. Math Library"
   ]
  },
  {
   "cell_type": "markdown",
   "id": "73362063-1a4a-4626-91d0-2b3b47990330",
   "metadata": {},
   "source": [
    "## Exercise 4.1"
   ]
  },
  {
   "cell_type": "markdown",
   "id": "7f7a02b7-13bd-40ec-8439-fb3e8a2d9dc1",
   "metadata": {},
   "source": [
    "In the cell below, import the `math` library."
   ]
  },
  {
   "cell_type": "code",
   "execution_count": null,
   "id": "64501865-f865-4f45-867c-3d1ac43e069f",
   "metadata": {},
   "outputs": [],
   "source": []
  },
  {
   "cell_type": "markdown",
   "id": "46688e94-2529-46d0-8de4-ec5f2656ecbf",
   "metadata": {},
   "source": [
    "## Exercise 4.2"
   ]
  },
  {
   "cell_type": "markdown",
   "id": "8c3d3657-e9f6-47b9-b4b9-b750868d3710",
   "metadata": {},
   "source": [
    "***Using the `exp` function from the `math` library***, calculate the following in the cell below.\n",
    "\n",
    "$$7e^{1.3}$$"
   ]
  },
  {
   "cell_type": "code",
   "execution_count": null,
   "id": "b8252f73-fe17-490b-84cb-70b1804f0f0e",
   "metadata": {},
   "outputs": [],
   "source": []
  },
  {
   "cell_type": "markdown",
   "id": "065bbc11-edd4-4f98-959c-76fa03948fbf",
   "metadata": {},
   "source": [
    "## Exercise 4.3"
   ]
  },
  {
   "cell_type": "markdown",
   "id": "88f42420-afef-4d70-8f56-7a69b9ea13f0",
   "metadata": {},
   "source": [
    "***Use the `math` library*** to calculate the following in the cell below.\n",
    "\n",
    "$$\\log_7(55)$$"
   ]
  },
  {
   "cell_type": "code",
   "execution_count": null,
   "id": "92637e58-1104-4356-aebd-af7fdca266ee",
   "metadata": {},
   "outputs": [],
   "source": []
  },
  {
   "cell_type": "markdown",
   "id": "fe3bba5c-dd73-4f53-a7c5-2b6e11f0a40e",
   "metadata": {},
   "source": [
    "## Exercise 4.4"
   ]
  },
  {
   "cell_type": "markdown",
   "id": "4a67e59c-c100-4a27-b225-0a7aa969048b",
   "metadata": {},
   "source": [
    "***Use the `math` library*** to calculate the following in the cell below.\n",
    "\n",
    "$$\\ln(2) - \\sqrt{15}$$"
   ]
  },
  {
   "cell_type": "code",
   "execution_count": null,
   "id": "0d6eed0b-4879-4f02-ab4b-76cbafb3dcaf",
   "metadata": {},
   "outputs": [],
   "source": []
  },
  {
   "cell_type": "markdown",
   "id": "be986ddf-ee01-42cc-90f7-c825daa42cd0",
   "metadata": {},
   "source": [
    "## Exercise 4.5"
   ]
  },
  {
   "cell_type": "markdown",
   "id": "908af7fc-6ced-450d-a573-c31a9916ba08",
   "metadata": {},
   "source": [
    "***Use the `math` library*** to define the function in the cell below, which calculates the volume of a sphere.\n",
    "\n",
    "$$\\text{sphereVol}(r) = \\frac{4}{3}\\cdot \\pi \\cdot r^3$$"
   ]
  },
  {
   "cell_type": "code",
   "execution_count": null,
   "id": "402d8b0f-4d56-4e40-a1df-c74a7feb9e9c",
   "metadata": {},
   "outputs": [],
   "source": []
  },
  {
   "cell_type": "markdown",
   "id": "c350b662-c26f-4a77-b90f-5579128dc915",
   "metadata": {},
   "source": [
    "## Exercise 4.6"
   ]
  },
  {
   "cell_type": "markdown",
   "id": "9251721c-8046-42d7-916a-1443fd92b25a",
   "metadata": {},
   "source": [
    "***Use your function from Exercise 4.5*** to calculate the volume of a sphere with a radius of 5."
   ]
  },
  {
   "cell_type": "code",
   "execution_count": null,
   "id": "7d191bf8-c66f-4749-9221-bfad68305a54",
   "metadata": {},
   "outputs": [],
   "source": []
  },
  {
   "cell_type": "markdown",
   "id": "173d0cac-ec84-4e06-a6c6-7674f11f6a98",
   "metadata": {},
   "source": [
    "## Exercise 4.7"
   ]
  },
  {
   "cell_type": "markdown",
   "id": "a1e06973-fdaf-4d4b-89d3-9b8537d7f5f1",
   "metadata": {},
   "source": [
    "***Use the `math` library*** to define the function for the standard normal distribution curve in the cell below:\n",
    "\n",
    "$$f(z) = \\frac{1}{\\sqrt{2\\pi}}e^{-0.5z^2}$$"
   ]
  },
  {
   "cell_type": "code",
   "execution_count": null,
   "id": "ff3926c3-0e67-4bc2-9b5a-69458f3a5c79",
   "metadata": {},
   "outputs": [],
   "source": []
  },
  {
   "cell_type": "markdown",
   "id": "25843407-680b-4c88-adab-95f060719220",
   "metadata": {},
   "source": [
    "## Exercise 4.8"
   ]
  },
  {
   "cell_type": "markdown",
   "id": "ddf8951d-9fb0-491d-9c9d-c676b92fd18c",
   "metadata": {},
   "source": [
    "***Use your function from Exercise 4.7*** to calculate the value of $f(2)$ in the cell below."
   ]
  },
  {
   "cell_type": "code",
   "execution_count": null,
   "id": "d16d31cb-9033-433d-a1a7-38a238fbfbb4",
   "metadata": {},
   "outputs": [],
   "source": []
  },
  {
   "cell_type": "markdown",
   "id": "df864e99-57c2-4c6b-92be-66e41db49224",
   "metadata": {},
   "source": [
    "# Downloading Your Notebook"
   ]
  },
  {
   "cell_type": "markdown",
   "id": "fc7d52e8-47fe-4bef-91df-a9fd93f3341e",
   "metadata": {},
   "source": [
    "Once you have completed the assignment, download your notebook before submitting it:\n",
    "\n",
    "<ol>\n",
    "    <li>Select File</li>\n",
    "    <li>Select Download</li>\n",
    "</ol>\n",
    "\n",
    "Make a note of **where** the file is downloaded: it could be *My Downloads*, *Downloads*, *My Drive*, etc. \n",
    "\n",
    "Attach the file to your submission in Schoology."
   ]
  }
 ],
 "metadata": {
  "kernelspec": {
   "display_name": "Python 3 (ipykernel)",
   "language": "python",
   "name": "python3"
  },
  "language_info": {
   "codemirror_mode": {
    "name": "ipython",
    "version": 3
   },
   "file_extension": ".py",
   "mimetype": "text/x-python",
   "name": "python",
   "nbconvert_exporter": "python",
   "pygments_lexer": "ipython3",
   "version": "3.9.13"
  }
 },
 "nbformat": 4,
 "nbformat_minor": 5
}
