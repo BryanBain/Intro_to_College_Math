{
 "cells": [
  {
   "cell_type": "markdown",
   "id": "20fb4c69-2a8f-4140-ba1a-d428d7b35352",
   "metadata": {},
   "source": [
    "# For Loops"
   ]
  },
  {
   "cell_type": "markdown",
   "id": "feb663a6-afe9-4dd4-998d-224d9d8e8d4d",
   "metadata": {},
   "source": [
    "Loops allow a computer to repeat a process over and over again until it is done. \n",
    "\n",
    "In Python, there are 2 main types of loops:\n",
    "- `for` loops\n",
    "- `while` loops.\n",
    "\n",
    "In this notebook, we will look at the `for` loop."
   ]
  },
  {
   "cell_type": "markdown",
   "id": "f01ca307-8601-4760-8256-3e339a4fdf2c",
   "metadata": {},
   "source": [
    "When a computer language encounters a `for` loop, it will execute all of the processes within that loop for a *pre-determined* number of times.\n",
    "\n",
    "For instance, run the cell below to create a list of times."
   ]
  },
  {
   "cell_type": "code",
   "execution_count": null,
   "id": "b6962b23-ed82-4efd-8839-0656f3e5f33f",
   "metadata": {},
   "outputs": [],
   "source": [
    "times = [64,62,47,9,8,21,11,73]"
   ]
  },
  {
   "cell_type": "markdown",
   "id": "b9800efd-26b5-4481-846e-83ebf2887a95",
   "metadata": {},
   "source": [
    "Now suppose we want to print each number in the `times` list on a separate line. \n",
    "\n",
    "To do so, we can use the following `for` loop in which the `number` variable refers to each individual number within the `times` list.\n",
    "\n",
    "Notice at the end of the `for` line, there is a colon. <br>\n",
    "Also remember, in Python, the next line after a colon is *always* indented."
   ]
  },
  {
   "cell_type": "code",
   "execution_count": null,
   "id": "a4c7a9d2-b04e-4e9d-bc1a-7a90f54e1905",
   "metadata": {
    "tags": []
   },
   "outputs": [],
   "source": [
    "for number in times:\n",
    "    print(number)"
   ]
  },
  {
   "cell_type": "markdown",
   "id": "a8aa2fa1-3236-488c-9463-c63bca6cb2ac",
   "metadata": {},
   "source": [
    "### Example 1.\n",
    "\n",
    "(a) The following is the number of cups of coffee consumed by a busy person. <br>\n",
    "In the cell below, create the following list and name it `coffee`.\n",
    "\n",
    "<p style=\"text-align:center;\">2, 3, 1, 0, 4, 2, 3</p>"
   ]
  },
  {
   "cell_type": "code",
   "execution_count": null,
   "id": "02916d91-cdfa-44ba-a2d4-6f4599c21adb",
   "metadata": {},
   "outputs": [],
   "source": []
  },
  {
   "cell_type": "markdown",
   "id": "674ef8d6-4ba0-466e-9c51-27468b71206e",
   "metadata": {},
   "source": [
    "(b) Use a `for` loop to print each number of cups of coffee consumed on its own line."
   ]
  },
  {
   "cell_type": "code",
   "execution_count": null,
   "id": "01876264-36a6-4a55-938d-eb4928f6db0c",
   "metadata": {},
   "outputs": [],
   "source": []
  },
  {
   "cell_type": "markdown",
   "id": "fc2c3fb8-22fe-40fa-9ae9-12998a62d386",
   "metadata": {},
   "source": [
    "## For Loops and Math"
   ]
  },
  {
   "cell_type": "markdown",
   "id": "647410be-0353-4a70-a6fc-a94f318d9377",
   "metadata": {},
   "source": [
    "`for` loops are wonderful for performing tedious calculations that we would not even want to type out on a calculator. \n",
    "\n",
    "`for` instance (pun intended, as always) suppose we need to find the total of the list of observation values in the cell below."
   ]
  },
  {
   "cell_type": "code",
   "execution_count": null,
   "id": "2ddac2ac-ffec-449b-9698-b65841679308",
   "metadata": {},
   "outputs": [],
   "source": [
    "obs = [3, 1, 7, 1, 5, 6, 8, 5, 1, 2, 8, 5, 3, 8, 7, 6, 5, 9, 6, 1, 6, 4, 9, 8, 5, 1, 9, 2, 5, 9]"
   ]
  },
  {
   "cell_type": "markdown",
   "id": "538f7514-d3dd-4703-8e57-2b5fa3023c9e",
   "metadata": {},
   "source": [
    "Even with a calculator, this would still take some time. \n",
    "\n",
    "`for`tunately (OK, *that's* the last one), we can make quick work of this as follows:\n",
    "\n",
    "1. Since we are adding, create a variable (`total`) and set it equal to 0:"
   ]
  },
  {
   "cell_type": "code",
   "execution_count": null,
   "id": "c84c3568-1e2e-4b9f-a12e-8a15d2fdc852",
   "metadata": {},
   "outputs": [],
   "source": [
    "total = 0"
   ]
  },
  {
   "cell_type": "markdown",
   "id": "bc05375a-e1b3-499f-869c-0a719a9a6d76",
   "metadata": {},
   "source": [
    "2. Loop through each value in the `obs` list and add it to the total. This will create a running total as it loops through. **Don't forget the colon and indent the next line.**"
   ]
  },
  {
   "cell_type": "code",
   "execution_count": null,
   "id": "ce058044-8a7c-441d-8f14-d4de4e79dbf4",
   "metadata": {},
   "outputs": [],
   "source": [
    "for value in obs:\n",
    "    total = total + value  # we could have also used total += value"
   ]
  },
  {
   "cell_type": "markdown",
   "id": "20ce9dc7-9e27-4e80-b652-10eb6ccd0624",
   "metadata": {},
   "source": [
    "Now that the `for` loop is done going through each observation value, the value of the `total` variable should be the sum of all of the observation values.\n",
    "\n",
    "Run the cell below to display the current value of the `total` variable. <br>\n",
    "(*Note:* Adding the observation values with a calculator would result in a sum of 155)."
   ]
  },
  {
   "cell_type": "code",
   "execution_count": null,
   "id": "d4a9f1e6-dbb1-48fc-83a4-ff0d2951f0e3",
   "metadata": {},
   "outputs": [],
   "source": [
    "total"
   ]
  },
  {
   "cell_type": "markdown",
   "id": "9f7e4b7c-9710-49cb-a885-e9d8f6e5ee8a",
   "metadata": {},
   "source": [
    "### Example 2.\n",
    "\n",
    "Find the sum of the following."
   ]
  },
  {
   "cell_type": "code",
   "execution_count": null,
   "id": "eb34167a-410d-433b-89d0-0c105a4ec372",
   "metadata": {},
   "outputs": [],
   "source": [
    "example2 = [29, 23, 28, 23, 29, 30, \n",
    "            28, 26, 28, 23, 29, 27, \n",
    "            26, 27, 26, 27, 23, 23, \n",
    "            27, 27, 26, 25, 20, 23, \n",
    "            28, 21, 23, 25, 28, 24, \n",
    "            27, 20, 27, 27, 26, 24, \n",
    "            29, 28, 23, 21]"
   ]
  },
  {
   "cell_type": "markdown",
   "id": "f81b460c-02b0-4bb9-b197-079cb1c3d7e7",
   "metadata": {},
   "source": [
    "(a) Initialize the total in the cell below."
   ]
  },
  {
   "cell_type": "code",
   "execution_count": null,
   "id": "9b42b8d3-ffa3-4769-a95f-a05c119f2457",
   "metadata": {},
   "outputs": [],
   "source": []
  },
  {
   "cell_type": "markdown",
   "id": "4902c814-9921-4d97-a5f1-cadbabe2afc0",
   "metadata": {},
   "source": [
    "(b) Write your `for` loop in the cell below. Don't forget the colon and indentation of the 2nd line."
   ]
  },
  {
   "cell_type": "code",
   "execution_count": null,
   "id": "fb3d7781-80b1-4ce3-9d9e-e15eeec0766d",
   "metadata": {},
   "outputs": [],
   "source": []
  },
  {
   "cell_type": "markdown",
   "id": "0eb150f6-0fa0-403c-8b30-9c53b651f72f",
   "metadata": {},
   "source": [
    "Display the sum of the values in the `example2` list in the cell below."
   ]
  },
  {
   "cell_type": "code",
   "execution_count": null,
   "id": "6f9c3311-5c24-4c0d-9e5c-3b312b6861c6",
   "metadata": {},
   "outputs": [],
   "source": []
  },
  {
   "cell_type": "markdown",
   "id": "7dafc8eb-353a-4e50-904b-8cf0e8dfde98",
   "metadata": {},
   "source": [
    "### Example 3.\n",
    "\n",
    "Given $f(x) = x^2 - 6x + 2$, find the sum of the values for $f(1)$, $f(2)$, $f(3)$, $f(4)$, $f(5)$, $f(6)$, and $f(7)$."
   ]
  },
  {
   "cell_type": "markdown",
   "id": "9be2d887-2f71-43a4-8fcd-ba82f5694f60",
   "metadata": {},
   "source": [
    "First, define the function. Remember to use `**` for exponentiation."
   ]
  },
  {
   "cell_type": "code",
   "execution_count": null,
   "id": "105b01b0-c97b-4366-9da9-06447d3ef4d6",
   "metadata": {},
   "outputs": [],
   "source": [
    "def f(x):\n",
    "    return x**2 - 6*x + 2"
   ]
  },
  {
   "cell_type": "markdown",
   "id": "a75671cf-9e88-4d88-a02d-8b4690b9e19c",
   "metadata": {},
   "source": [
    "Next, create the list of input values: the integers from 1 to 7."
   ]
  },
  {
   "cell_type": "code",
   "execution_count": null,
   "id": "47951740-5122-4d2a-a561-64df26b2a4ed",
   "metadata": {},
   "outputs": [],
   "source": [
    "inputs = [1,2,3,4,5,6,7]"
   ]
  },
  {
   "cell_type": "markdown",
   "id": "0932bb98-610d-4f9a-a71b-fef987c47ca5",
   "metadata": {},
   "source": [
    "Create your starting total."
   ]
  },
  {
   "cell_type": "code",
   "execution_count": null,
   "id": "308b0b86-7990-470f-be42-8b2e2a13a426",
   "metadata": {},
   "outputs": [],
   "source": []
  },
  {
   "cell_type": "markdown",
   "id": "76728efe-d2dd-49d3-88e1-9af0975525c3",
   "metadata": {},
   "source": [
    "Create a `for` loop to evaluate $f(x)$ at each value in the `inputs` list."
   ]
  },
  {
   "cell_type": "code",
   "execution_count": null,
   "id": "c971dd45-59f4-44d4-9b31-398fd112561e",
   "metadata": {},
   "outputs": [],
   "source": []
  },
  {
   "cell_type": "markdown",
   "id": "d84bd346-2f6b-4d94-857b-3725a34b5706",
   "metadata": {},
   "source": [
    "Display the total value in the cell below."
   ]
  },
  {
   "cell_type": "code",
   "execution_count": null,
   "id": "bc2b03fa-8f8f-47d7-8c5c-dbfd1baa92ec",
   "metadata": {},
   "outputs": [],
   "source": []
  },
  {
   "cell_type": "markdown",
   "id": "f03fe793-18d8-4144-bd41-defa6221540c",
   "metadata": {},
   "source": [
    "*Note:* The above example can be written using sigma (summation) notation:\n",
    "\n",
    "$$\\sum_{x=1}^{7} \\left(x^2 - 6x + 2\\right)$$"
   ]
  },
  {
   "cell_type": "markdown",
   "id": "471dc88d-68fb-48ed-814d-942e9d16eb1f",
   "metadata": {},
   "source": [
    "The following site allows you to visualize the code you write. This is especially helpful when working with loops.\n",
    "\n",
    "[Python Tutor](https://pythontutor.com/visualize.html#mode=edit)"
   ]
  },
  {
   "cell_type": "markdown",
   "id": "a7d36f55-cd46-40c3-bd78-7fa3926dd7b6",
   "metadata": {},
   "source": [
    "## Exercise 1"
   ]
  },
  {
   "cell_type": "code",
   "execution_count": null,
   "id": "8a2965f1-c517-4109-8ec2-83e5e584f44a",
   "metadata": {},
   "outputs": [],
   "source": [
    "exercise1 = [5,7,3,2,8]"
   ]
  },
  {
   "cell_type": "markdown",
   "id": "3fc72e42-c54a-477e-8ef1-dd9126629bb6",
   "metadata": {},
   "source": [
    "Run the cell above. Then, in the cell below, use a `for` loop to print each number in the `exercise1` list.\n",
    "\n",
    "For help, see Example 1."
   ]
  },
  {
   "cell_type": "code",
   "execution_count": null,
   "id": "c00ac92a-f79d-409a-bc25-b352771c2590",
   "metadata": {},
   "outputs": [],
   "source": []
  },
  {
   "cell_type": "markdown",
   "id": "1b3b524f-29e7-4195-9c77-4a1447a60544",
   "metadata": {},
   "source": [
    "## Exercise 2"
   ]
  },
  {
   "cell_type": "markdown",
   "id": "63e41bbf-7477-4231-8973-d4b27b15523f",
   "metadata": {},
   "source": [
    "Use a `for` loop to find the product of the items in the `exercise1` list. \n",
    "\n",
    "*Hint:* You set your inital `total` variable equal to 0 when adding. What number should you set your initial `product` variable equal to when multiplying?\n",
    "\n",
    "For help, see Example 2."
   ]
  },
  {
   "cell_type": "markdown",
   "id": "3ed55941-60e0-46a5-95f3-6086ea8bd26e",
   "metadata": {},
   "source": [
    "(a) Initialize your `product` variable in the cell below."
   ]
  },
  {
   "cell_type": "code",
   "execution_count": null,
   "id": "f3d9138c-9f36-4124-b631-6f1871c561f7",
   "metadata": {},
   "outputs": [],
   "source": []
  },
  {
   "cell_type": "markdown",
   "id": "be4d8fc7-40b2-4599-bafc-6e9f9f34f66c",
   "metadata": {},
   "source": [
    "(b) Write your `for` loop in the cell below. Don't forget the colon and indentation of the 2nd line."
   ]
  },
  {
   "cell_type": "code",
   "execution_count": null,
   "id": "a4bdb2de-5d81-4b11-a623-c549f619603c",
   "metadata": {},
   "outputs": [],
   "source": []
  },
  {
   "cell_type": "markdown",
   "id": "5346af0f-d004-4cb0-bb39-f2c27d7581c9",
   "metadata": {},
   "source": [
    "(c) Display the product of the values in the `exercise1` list in the cell below."
   ]
  },
  {
   "cell_type": "code",
   "execution_count": null,
   "id": "80fa29ea-15b9-43e6-995f-b4d2a07e2cdb",
   "metadata": {},
   "outputs": [],
   "source": []
  },
  {
   "cell_type": "markdown",
   "id": "94e59684-7098-4848-9cc1-f891f41f487e",
   "metadata": {},
   "source": [
    "## Exercise 3\n",
    "\n",
    "Given $f(x) = x^3 + 2$, find the sum of the values for $f(-3)$, $f(-2)$, $f(-1)$, $f(0)$, and $f(1)$.\n",
    "\n",
    "For help, see Example 3."
   ]
  },
  {
   "cell_type": "markdown",
   "id": "8bac427a-db0f-40a9-bb7e-c69c7eeaabe9",
   "metadata": {},
   "source": [
    "(a) First, define $f(x)$ in the cell below. Remember to use `**` for exponentiation."
   ]
  },
  {
   "cell_type": "code",
   "execution_count": null,
   "id": "a3ab48b3-5476-4f3c-a109-f8008c4722f8",
   "metadata": {},
   "outputs": [],
   "source": []
  },
  {
   "cell_type": "markdown",
   "id": "311e9ea3-e4c2-4749-b905-502952a5787e",
   "metadata": {},
   "source": [
    "(b) Next, create a list for your input values."
   ]
  },
  {
   "cell_type": "code",
   "execution_count": null,
   "id": "b2796411-b771-4446-8360-7073cfdcd805",
   "metadata": {},
   "outputs": [],
   "source": []
  },
  {
   "cell_type": "markdown",
   "id": "2b0a43e7-f68b-454d-a2ac-57ac051d250d",
   "metadata": {},
   "source": [
    "(c) Create your starting total."
   ]
  },
  {
   "cell_type": "code",
   "execution_count": null,
   "id": "53f7d7b6-eaf7-433f-83d8-4b3b5643401f",
   "metadata": {},
   "outputs": [],
   "source": []
  },
  {
   "cell_type": "markdown",
   "id": "fe182bdd-76f7-49b4-aee0-7847ffb007fd",
   "metadata": {},
   "source": [
    "(d) Create a `for` loop to evaluate $f(x)$ at each value in your list of inputs."
   ]
  },
  {
   "cell_type": "code",
   "execution_count": null,
   "id": "dee28ab2-6550-405e-86d4-23e68e57c1ac",
   "metadata": {},
   "outputs": [],
   "source": []
  },
  {
   "cell_type": "markdown",
   "id": "3e0c5755-5c18-462b-9964-e999cde23167",
   "metadata": {},
   "source": [
    "(e) Display the total value in the cell below."
   ]
  },
  {
   "cell_type": "code",
   "execution_count": null,
   "id": "850ed41c-6388-4a8c-8b9c-38edbb4436de",
   "metadata": {},
   "outputs": [],
   "source": []
  },
  {
   "cell_type": "markdown",
   "id": "21c30d09-b5c7-4535-adad-3fe0a6d0b15a",
   "metadata": {},
   "source": [
    "## Bonus Exercise:\n",
    "\n",
    "Use lists, functions, and a `for` loop to evaluate the following:\n",
    "\n",
    "$$\\sum_{x=-3}^{5} \\left(x^4 - 3x^3 + 2x\\right)$$"
   ]
  },
  {
   "cell_type": "code",
   "execution_count": null,
   "id": "c7b79461-3863-419a-8a91-b9bc50947324",
   "metadata": {},
   "outputs": [],
   "source": []
  }
 ],
 "metadata": {
  "kernelspec": {
   "display_name": "Python 3 (ipykernel)",
   "language": "python",
   "name": "python3"
  },
  "language_info": {
   "codemirror_mode": {
    "name": "ipython",
    "version": 3
   },
   "file_extension": ".py",
   "mimetype": "text/x-python",
   "name": "python",
   "nbconvert_exporter": "python",
   "pygments_lexer": "ipython3",
   "version": "3.9.13"
  }
 },
 "nbformat": 4,
 "nbformat_minor": 5
}
