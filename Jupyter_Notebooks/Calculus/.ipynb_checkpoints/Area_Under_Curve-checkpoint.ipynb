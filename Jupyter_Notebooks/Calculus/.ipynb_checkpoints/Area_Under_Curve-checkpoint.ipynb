{
 "cells": [
  {
   "cell_type": "markdown",
   "metadata": {},
   "source": [
    "# Area Under Curves"
   ]
  },
  {
   "cell_type": "markdown",
   "metadata": {},
   "source": [
    "Calculating approximate area under a curve can be tedious.\n",
    "\n",
    "The program below finds approximations for left point, right point, and midpoints of rectangles when approximating the area under the curve."
   ]
  },
  {
   "cell_type": "markdown",
   "metadata": {},
   "source": [
    "First, we need to import some things we will need. We can do this by running the cell below once.\n",
    "\n",
    "Anything written on a line after a hashtag # is a comment and is ignored. Comments are used to inform the person reading the program of what is going on.\n",
    "\n",
    "*Note*: After we run the following cell, we will not need to run it again unless we exit the program."
   ]
  },
  {
   "cell_type": "code",
   "execution_count": null,
   "metadata": {},
   "outputs": [],
   "source": [
    "import numpy as np  # needed for some possible functions we are using\n",
    "import matplotlib.pyplot as plt  # needed to display the graphs with rectangles\n",
    "# %matplotlib inline"
   ]
  },
  {
   "cell_type": "markdown",
   "metadata": {},
   "source": [
    "Next, we will set up the function we are using in the problem we are working on. \n",
    "\n",
    "However, there are a few things you will need to know before continuing:\n",
    "\n",
    "* Spaces are ignored. Thus, `2+7` and `2 + 7` both give you 9.\n",
    "* You must put an asterisk * between **any** things you are multiplying.\n",
    "* Parentheses matter. So to input $\\frac{2x-1}{x+3}$, enter it as `(2*x-1)/(x+3)`\n",
    "* Powers use two asterisks: \\*\\*, so for functions like $x^2$ or $3x^5$, enter them as `x**2` and `3*x**2`, respectively.\n",
    "* For functions like $e^x$ or $e^{-7x}$, enter them as `np.exp(x)` and `np.exp(-7*x)`, respectively.\n",
    "* For functions like $\\ln(x)$ or $8\\ln(6x-1)$, enter them as `np.log(x)` and `8*np.log(6*x-1)`, respectively."
   ]
  },
  {
   "cell_type": "code",
   "execution_count": null,
   "metadata": {},
   "outputs": [],
   "source": [
    "def f(x):\n",
    "    return 5*x**2 - 3*x"
   ]
  },
  {
   "cell_type": "markdown",
   "metadata": {},
   "source": [
    "Next, we will input some values that we are going to need for the problem we are working on.\n",
    "\n",
    "* `start` is the value of $x_1$ from our notes.\n",
    "* `end` is the value of $x_n$ from our notes.\n",
    "* `num_rects` is the number of rectangles we wish to use.\n",
    "* `width` is the width of each rectangle, which is automatically calculated based on the values we entered for `start`, `end`, and `num_rects`."
   ]
  },
  {
   "cell_type": "code",
   "execution_count": null,
   "metadata": {},
   "outputs": [],
   "source": [
    "start = -2\n",
    "end = 5\n",
    "num_rects = 20\n",
    "width = (end-start)/num_rects"
   ]
  },
  {
   "cell_type": "markdown",
   "metadata": {},
   "source": [
    "As far as the information you need to put into the program to get your results, you are done. The cell below will take care of all of the calculations and also display the left point, midpoint, and right point results.\n",
    "\n",
    "From there, you could take a partial screen shot of the graphs if you choose."
   ]
  },
  {
   "cell_type": "code",
   "execution_count": null,
   "metadata": {},
   "outputs": [],
   "source": [
    "n = 10 # Use n*num_rects+1 points to plot the function smoothly\n",
    "\n",
    "x = np.linspace(start,end,num_rects+1)\n",
    "y = f(x)\n",
    "\n",
    "X = np.linspace(start,end,n*num_rects+1)\n",
    "Y = f(X)\n",
    "\n",
    "plt.figure(figsize=(15,5))\n",
    "\n",
    "plt.subplot(1,3,1)\n",
    "plt.plot(X,Y,'b')\n",
    "x_left = x[:-1] # Left endpoints\n",
    "y_left = y[:-1]\n",
    "plt.plot(x_left,y_left,'b.',markersize=10)\n",
    "plt.bar(x_left,y_left,width=width,alpha=0.2,align='edge',edgecolor='b')\n",
    "left_area = 0\n",
    "for i in range(len(x_left)):\n",
    "    left_area += y_left[i] * width\n",
    "plt.title('Left Riemann Sum, N = {}; Area = {:.3f}'.format(num_rects, left_area))\n",
    "\n",
    "plt.subplot(1,3,2)\n",
    "plt.plot(X,Y,'b')\n",
    "x_mid = (x[:-1] + x[1:])/2 # Midpoints\n",
    "y_mid = f(x_mid)\n",
    "plt.plot(x_mid,y_mid,'b.',markersize=10)\n",
    "plt.bar(x_mid,y_mid,width=width,alpha=0.2,edgecolor='b')\n",
    "middle_area = 0\n",
    "for i in range(len(x_mid)):\n",
    "    middle_area += y_mid[i] * width\n",
    "plt.title('Midpoint Riemann Sum, N = {}; Area = {:.3f}'.format(num_rects,middle_area))\n",
    "\n",
    "plt.subplot(1,3,3)\n",
    "plt.plot(X,Y,'b')\n",
    "x_right = x[1:] # Right endpoints\n",
    "y_right = y[1:]\n",
    "plt.plot(x_right,y_right,'b.',markersize=10)\n",
    "plt.bar(x_right,y_right,width=width,alpha=0.2,align='edge',edgecolor='b')\n",
    "right_area = 0\n",
    "for i in range(len(x_right)):\n",
    "    right_area += y_right[i] * width\n",
    "plt.title('Right Riemann Sum, N = {}; Area = {:.3f}'.format(num_rects,right_area))\n",
    "\n",
    "plt.show()"
   ]
  },
  {
   "cell_type": "code",
   "execution_count": null,
   "metadata": {},
   "outputs": [],
   "source": []
  }
 ],
 "metadata": {
  "interpreter": {
   "hash": "949777d72b0d2535278d3dc13498b2535136f6dfe0678499012e853ee9abcab1"
  },
  "kernelspec": {
   "display_name": "Python 3 (ipykernel)",
   "language": "python",
   "name": "python3"
  },
  "language_info": {
   "codemirror_mode": {
    "name": "ipython",
    "version": 3
   },
   "file_extension": ".py",
   "mimetype": "text/x-python",
   "name": "python",
   "nbconvert_exporter": "python",
   "pygments_lexer": "ipython3",
   "version": "3.9.13"
  }
 },
 "nbformat": 4,
 "nbformat_minor": 4
}
