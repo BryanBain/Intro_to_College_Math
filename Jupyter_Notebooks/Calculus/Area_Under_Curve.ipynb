{
 "cells": [
  {
   "cell_type": "code",
   "execution_count": null,
   "metadata": {},
   "outputs": [],
   "source": [
    "\"\"\"\n",
    "The following calculates area under a curve using rectangles of equal width and draws them.\n",
    "One could, theoretically, use this to generate graphs with rectangles. Then, one could also \n",
    "take a screenshot of their graphs' and paste the screenshot into a word-processing program\n",
    "such as Microsoft Word or Google Docs. \n",
    "\"\"\"\n",
    "\n",
    "import numpy as np  # needed for some possible functions we are using\n",
    "import matplotlib.pyplot as plt  # needed to display the graphs with rectangles\n",
    "# %matplotlib inline\n",
    "\n",
    "start = 1                      # the starting value\n",
    "end = 5                         # the ending value\n",
    "num_rects = 8                  # how many rectangles to draw\n",
    "width = (end-start)/num_rects   # rectangles of equal width\n",
    "\n",
    "def f(x):                      # Define the function here\n",
    "    return x**2\n",
    "\n",
    "n = 10 # Use n*num_rects+1 points to plot the function smoothly\n",
    "\n",
    "x = np.linspace(start,end,num_rects+1)\n",
    "y = f(x)\n",
    "\n",
    "X = np.linspace(start,end,n*num_rects+1)\n",
    "Y = f(X)\n",
    "\n",
    "plt.figure(figsize=(15,5))\n",
    "\n",
    "plt.subplot(1,3,1)\n",
    "plt.plot(X,Y,'b')\n",
    "x_left = x[:-1] # Left endpoints\n",
    "y_left = y[:-1]\n",
    "plt.plot(x_left,y_left,'b.',markersize=10)\n",
    "plt.bar(x_left,y_left,width=width,alpha=0.2,align='edge',edgecolor='b')\n",
    "left_area = 0\n",
    "for i in range(len(x_left)):\n",
    "    left_area += y_left[i] * width\n",
    "plt.title('Left Riemann Sum, N = {}; Area = {:.3f}'.format(num_rects, left_area))\n",
    "\n",
    "plt.subplot(1,3,2)\n",
    "plt.plot(X,Y,'b')\n",
    "x_mid = (x[:-1] + x[1:])/2 # Midpoints\n",
    "y_mid = f(x_mid)\n",
    "plt.plot(x_mid,y_mid,'b.',markersize=10)\n",
    "plt.bar(x_mid,y_mid,width=width,alpha=0.2,edgecolor='b')\n",
    "middle_area = 0\n",
    "for i in range(len(x_mid)):\n",
    "    middle_area += y_mid[i] * width\n",
    "plt.title('Midpoint Riemann Sum, N = {}; Area = {:.3f}'.format(num_rects,middle_area))\n",
    "\n",
    "plt.subplot(1,3,3)\n",
    "plt.plot(X,Y,'b')\n",
    "x_right = x[1:] # Right endpoints\n",
    "y_right = y[1:]\n",
    "plt.plot(x_right,y_right,'b.',markersize=10)\n",
    "plt.bar(x_right,y_right,width=width,alpha=0.2,align='edge',edgecolor='b')\n",
    "right_area = 0\n",
    "for i in range(len(x_right)):\n",
    "    right_area += y_right[i] * width\n",
    "plt.title('Right Riemann Sum, N = {}; Area = {:.3f}'.format(num_rects,right_area))\n",
    "\n",
    "plt.show()"
   ]
  }
 ],
 "metadata": {
  "interpreter": {
   "hash": "949777d72b0d2535278d3dc13498b2535136f6dfe0678499012e853ee9abcab1"
  },
  "kernelspec": {
   "display_name": "Python 3 (ipykernel)",
   "language": "python",
   "name": "python3"
  },
  "language_info": {
   "codemirror_mode": {
    "name": "ipython",
    "version": 3
   },
   "file_extension": ".py",
   "mimetype": "text/x-python",
   "name": "python",
   "nbconvert_exporter": "python",
   "pygments_lexer": "ipython3",
   "version": "3.9.13"
  }
 },
 "nbformat": 4,
 "nbformat_minor": 4
}
