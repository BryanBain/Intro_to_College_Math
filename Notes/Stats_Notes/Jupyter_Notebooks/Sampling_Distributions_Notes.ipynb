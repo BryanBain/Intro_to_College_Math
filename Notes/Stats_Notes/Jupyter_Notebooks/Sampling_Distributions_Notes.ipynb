{
 "cells": [
  {
   "cell_type": "markdown",
   "id": "a9d37d07-ef05-4aa5-bddb-a7e9b8ccd420",
   "metadata": {},
   "source": [
    "# Sampling Distributions Notes"
   ]
  },
  {
   "cell_type": "code",
   "execution_count": 6,
   "id": "0a6416da-d8d2-4211-ac84-8a629b7da191",
   "metadata": {},
   "outputs": [],
   "source": [
    "import numpy as np\n",
    "import random as rd\n",
    "import itertools as it  # used as an iteration tool for obtaining all possible samples\n",
    "import matplotlib.pyplot as plt"
   ]
  },
  {
   "cell_type": "markdown",
   "id": "34d8e788-36db-4f52-9edf-16f58cb6662f",
   "metadata": {},
   "source": [
    "## Determining Sampling Distribution of Sample Means"
   ]
  },
  {
   "cell_type": "markdown",
   "id": "613c249d-d1a1-439b-994d-e68072f476a9",
   "metadata": {},
   "source": [
    "Suppose the following represents the prices of all laptops in existence:\n",
    "\n",
    "\\\\$1000, \\\\$1200, \\\\$1600, \\\\$2000\n",
    "\n",
    "We can determine the population mean and population standard deviation after defining the prices as a list in the cell below. "
   ]
  },
  {
   "cell_type": "code",
   "execution_count": 2,
   "id": "ca6c4b4d-291f-4f92-a8a2-bf953a8ff9b2",
   "metadata": {},
   "outputs": [],
   "source": [
    "prices = [1000, 1200, 1600, 2000]"
   ]
  },
  {
   "cell_type": "code",
   "execution_count": null,
   "id": "c1f62ec3-288c-41c7-88d8-cbbf841f2e35",
   "metadata": {},
   "outputs": [],
   "source": [
    "np.mean(prices)"
   ]
  },
  {
   "cell_type": "code",
   "execution_count": null,
   "id": "7370a376-51f4-4e35-90fd-f30770d1f455",
   "metadata": {},
   "outputs": [],
   "source": [
    "np.std(prices)"
   ]
  },
  {
   "cell_type": "markdown",
   "id": "77a79da2-677d-42ac-872a-74f37a48d822",
   "metadata": {},
   "source": [
    "For this section, we will be taking a look at samples. "
   ]
  },
  {
   "cell_type": "markdown",
   "id": "3dd84a14-1399-43d1-adfc-ce1091dd1511",
   "metadata": {},
   "source": [
    "### Example 1.\n",
    "\n",
    "Let's start with calculating the sample means at all possible samples of size 2 from the prices list.\n",
    "\n",
    "*Note*: We will sample with replacement. Differences in sampling with and without replacement become negligible as sample size increases."
   ]
  },
  {
   "cell_type": "code",
   "execution_count": null,
   "id": "e41a5de8-86f2-411e-9d79-68d4fa10f5d4",
   "metadata": {},
   "outputs": [],
   "source": [
    "samples = it.product(prices, repeat = 2)  # generates all possible samples of size 2 WITH replacement\n",
    "sample_means = []\n",
    "\n",
    "for i in samples:\n",
    "    #print(i)  # uncomment to see the samples\n",
    "    sample_means.append(np.mean(i))  # calculates the mean of each sample and adds it to the sample_means list\n",
    "\n",
    "for mean in sample_means:\n",
    "    print(mean)"
   ]
  },
  {
   "cell_type": "markdown",
   "id": "65a84784-95c6-4f8b-9c78-b354d41d54a1",
   "metadata": {},
   "source": [
    "### Example 2.\n",
    "\n",
    "Create a histogram of the sample means from the previous example. Use a bin width of 150."
   ]
  },
  {
   "cell_type": "code",
   "execution_count": null,
   "id": "10f09fe8-5c3d-4649-b479-207d7dcba93b",
   "metadata": {},
   "outputs": [],
   "source": [
    "fig, ax = plt.subplots()\n",
    "bin_width = 150\n",
    "ax.hist(\n",
    "    sample_means,\n",
    "    color='r',\n",
    "    edgecolor='k',\n",
    "    bins = np.arange(min(sample_means), max(sample_means) + bin_width, bin_width)\n",
    ")\n",
    "\n",
    "plt.show()"
   ]
  },
  {
   "cell_type": "markdown",
   "id": "3c50fd52-e69e-4aeb-a26d-10b6ca0f3b93",
   "metadata": {},
   "source": [
    "### Example 3.\n",
    "\n",
    "Determine the mean and the population standard deviation of the sample means (since we have the entire population of samples of size 2 here).\n",
    "\n",
    "Do these values target the population mean and population standard deviation of laptop prices?"
   ]
  },
  {
   "cell_type": "code",
   "execution_count": null,
   "id": "6465ae86-774f-48e2-8488-01d0ea71a51f",
   "metadata": {},
   "outputs": [],
   "source": [
    "np.mean(sample_means)"
   ]
  },
  {
   "cell_type": "code",
   "execution_count": null,
   "id": "2c32ea85-d371-4850-a95f-0a9c2f332523",
   "metadata": {},
   "outputs": [],
   "source": [
    "np.std(sample_means)"
   ]
  },
  {
   "cell_type": "markdown",
   "id": "570557d6-fa4e-4572-9b46-d65216a8799a",
   "metadata": {},
   "source": [
    "## Mean and Standard Error"
   ]
  },
  {
   "cell_type": "markdown",
   "id": "c2ab484c-1b2d-46af-946d-b14198d6f096",
   "metadata": {},
   "source": [
    "What happens if we have a much larger population and take a much larger sample size, say of 100?"
   ]
  },
  {
   "cell_type": "code",
   "execution_count": 36,
   "id": "89612d23-00ed-4c60-8389-a3f868fec9a9",
   "metadata": {},
   "outputs": [],
   "source": [
    "larger_population = [rd.randint(500, 2500) for _ in range(50_000)]  # generate 50,000 random integers between 500 and 2500"
   ]
  },
  {
   "cell_type": "code",
   "execution_count": null,
   "id": "5ef84a3a-5661-4914-8838-1a39db504190",
   "metadata": {},
   "outputs": [],
   "source": [
    "np.mean(larger_population)"
   ]
  },
  {
   "cell_type": "code",
   "execution_count": null,
   "id": "e17e1e8c-b295-4066-999f-b2d4e0e91c4e",
   "metadata": {},
   "outputs": [],
   "source": [
    "np.std(larger_population)"
   ]
  },
  {
   "cell_type": "code",
   "execution_count": 41,
   "id": "1d6f6be5-e831-4d6b-99fd-8ede0a6ce904",
   "metadata": {},
   "outputs": [],
   "source": [
    "num_samples = 10_000\n",
    "sample_means = []\n",
    "\n",
    "for i in range(num_samples):  # create 10,000 samples\n",
    "    sample_means.append(\n",
    "        np.mean(rd.choices(larger_population, k = 100))  # sample 100 values (w/ replacement) from larger_population and take the mean\n",
    "    )"
   ]
  },
  {
   "cell_type": "code",
   "execution_count": null,
   "id": "a087a537-c0ac-4879-94d0-b4d590e6e8b7",
   "metadata": {},
   "outputs": [],
   "source": [
    "np.mean(sample_means)"
   ]
  },
  {
   "cell_type": "code",
   "execution_count": null,
   "id": "74df8182-213a-47d3-9293-08e4604032ca",
   "metadata": {},
   "outputs": [],
   "source": [
    "np.std(sample_means, ddof=1)  # is there much difference if we use ddof = 1 (sample standard deviation) instead?"
   ]
  },
  {
   "cell_type": "markdown",
   "id": "f9d15af6-c694-412c-b3d8-98cc234a1d96",
   "metadata": {},
   "source": [
    "* Does the mean of the sample means target the population mean?\n",
    "\n",
    "* Does the sample standard deviations of the sample means target the population standard deviation?"
   ]
  },
  {
   "cell_type": "code",
   "execution_count": null,
   "id": "ed53a394-7ea0-4708-960d-421179bdec93",
   "metadata": {},
   "outputs": [],
   "source": [
    "\n",
    "\n",
    "\n",
    "\n",
    "\n",
    "\n",
    "\n",
    "\n",
    "\n",
    "\n",
    "\n",
    "\n",
    "\n",
    "\n",
    "\n",
    "\n",
    "\n",
    "\n",
    "\n"
   ]
  },
  {
   "cell_type": "markdown",
   "id": "e50d39ab-4319-46eb-8121-8a34054e8b06",
   "metadata": {},
   "source": [
    "$$\n",
    "\\mu_{\\overline{x}} \\longmapsto \\mu \\qquad \\frac{\\sigma_{\\overline{x}}}{\\sqrt{n}} \\longmapsto \\sigma\n",
    "$$"
   ]
  },
  {
   "cell_type": "markdown",
   "id": "9118980c-dafa-4967-9ea9-16bf62a635c3",
   "metadata": {},
   "source": [
    "*Note:* The expression $\\frac{\\sigma_{\\overline{x}}}{\\sqrt{n}}$ is called the ***standard error***."
   ]
  },
  {
   "cell_type": "markdown",
   "id": "8a54c85b-c913-4996-b33f-e89e6e923eb6",
   "metadata": {},
   "source": [
    "### Example 4.\n",
    "\n",
    "IQ scores are normally distributed with a mean of 100 and a standard deviation of 15. A sample of 200 participants had their IQ measured.\n",
    "\n",
    "What are the approximate mean and standard error of the sample?"
   ]
  },
  {
   "cell_type": "markdown",
   "id": "4cd45695-fed6-4e5e-b303-3c98aa29fbf8",
   "metadata": {},
   "source": []
  },
  {
   "cell_type": "markdown",
   "id": "f57a60e5-a0d3-4a56-83f4-b8310537d3d7",
   "metadata": {},
   "source": [
    "## The Central Limit Theorem"
   ]
  },
  {
   "cell_type": "markdown",
   "id": "66c71d4a-ea29-4570-9563-cb5dd2cd8cfa",
   "metadata": {},
   "source": [
    "Various populations can have different distributions. For instance, some may be uniform, other may be normal, and others still could be something else.\n",
    "\n",
    "However, the ***Central Limit Theorem*** states that \n",
    "\n",
    "<p style=\"text-align: center;\">\n",
    "As the sample size increases\n",
    "<ul>\n",
    "    <li>The distribution of sample means becomes normal with</li>\n",
    "    <li>A mean of $\\mu$ and</li>\n",
    "    <li>A standard deviation $\\frac{\\sigma}{\\sqrt{n}}$, called the <strong>standard error</strong></li>\n",
    "</ul>\n",
    "</p>"
   ]
  },
  {
   "cell_type": "code",
   "execution_count": null,
   "id": "5e6189ca-cb27-4a6c-aaad-cd9727b931c2",
   "metadata": {},
   "outputs": [],
   "source": [
    "\"\"\"\n",
    "Demonstrates the Central Limit Theorem on randomly generated uniform, \n",
    "normal, and geometric probability distributions.\n",
    "\"\"\"\n",
    "\n",
    "# Uniform distribution of population\n",
    "data_unif = [rd.uniform(0,1000) for _ in range(50_000)]  # generate a population of 50,000 random uniform values between 0 and 1,000\n",
    "\n",
    "# Normal distribution of population\n",
    "data_norm = [rd.gauss(100,15) for _ in range(50_000)]  # generate a population of 50,000 random normal values with mean 100 and s.d. 15\n",
    "\n",
    "# Geometric distribution of population\n",
    "data_geom = [np.random.geometric(0.75) for _ in range(50_000)]  # generate a population of 50,000 random geometric values with mean of 5\n",
    "\n",
    "sample_means_unif = []\n",
    "sample_size = 50\n",
    "for _ in range(10_000):  # do the following 10,000 times\n",
    "    sample_unif = rd.choices(data_unif,k=sample_size)  # take a sample of 50 values from the population\n",
    "    sample_means_unif.append(np.mean(sample_unif))  # add the mean of the sample to the sample_means list\n",
    "\n",
    "sample_means_norm = []\n",
    "sample_size = 50\n",
    "for _ in range(10_000):  # do the following 10,000 times\n",
    "    sample_norm = rd.choices(data_norm,k=sample_size)  # take a sample of 50 values from the population\n",
    "    sample_means_norm.append(np.mean(sample_norm))  # add the mean of the sample to the sample_means list\n",
    "\n",
    "sample_means_geom = []\n",
    "sample_size = 50\n",
    "for _ in range(10_000):  # do the following 10,000 times\n",
    "    sample_geom = rd.choices(data_geom,k=sample_size)  # take a sample of 50 values from the population\n",
    "    sample_means_geom.append(np.mean(sample_geom))  # add the mean of the sample to the sample_means list\n",
    "\n",
    "pop_mean_unif = np.mean(data_unif)\n",
    "mean_sample_means_unif = np.mean(sample_means_unif)\n",
    "\n",
    "fig,ax = plt.subplots(1,3, figsize = (12,4))\n",
    "ax[0].hist(data_unif, bins=20, density = True, alpha = 0.5, ec ='b', label='population')\n",
    "ax[0].hist(sample_means_unif, bins=20, density = True, alpha = 0.6, label='sample mean')\n",
    "ax[0].set_title('Uniform Population')\n",
    "ax[0].legend(loc='upper right')\n",
    "# plt.figtext(-0.25, -0.25, txt_unif_mean, wrap=True, horizontalalignment='center', fontsize=12)\n",
    "ax[1].hist(data_norm, bins=20, density = True, alpha = 0.5, ec='b', label='population')\n",
    "ax[1].hist(sample_means_norm, bins=20, density = True, alpha = 0.6, label='sample means')\n",
    "ax[1].set_title('Normal Population')\n",
    "ax[1].legend(loc='upper right')\n",
    "ax[2].hist(data_geom, bins=20, density = True, alpha = 0.5, ec='b', label='population')\n",
    "ax[2].hist(sample_means_geom, bins=20, density = True, alpha = 0.6, label='sample means')\n",
    "ax[2].set_title('Geometric Population')\n",
    "ax[2].legend(loc='upper right')\n",
    "plt.show()"
   ]
  },
  {
   "cell_type": "markdown",
   "id": "69c43a5d-d53d-42d8-92dd-f2e24c99926d",
   "metadata": {},
   "source": [
    "### Example 5. \n",
    "\n",
    "Referring back to IQ scores with a mean of 100 and a standard deviation of 15.\n",
    "\n",
    "(a) What is the probability that an individual has an IQ gretaer than 102?"
   ]
  },
  {
   "cell_type": "code",
   "execution_count": null,
   "id": "de15b31e-de98-48bc-a593-4667a4a6166e",
   "metadata": {},
   "outputs": [],
   "source": []
  },
  {
   "cell_type": "markdown",
   "id": "c53a1778-bb0b-45fd-8b99-9557043a07d8",
   "metadata": {},
   "source": [
    "(b) What is the probability that in a sample of 50 people, the mean IQ is greater than 102?"
   ]
  },
  {
   "cell_type": "code",
   "execution_count": null,
   "id": "e2ca42bf-8033-497a-babe-e898ac0785e6",
   "metadata": {},
   "outputs": [],
   "source": []
  },
  {
   "cell_type": "markdown",
   "id": "06fc1676-4867-49e0-899e-27f974f87985",
   "metadata": {},
   "source": [
    "(c) What is the probability that in a sample of 1000 people, the mean IQ is greater than 102?"
   ]
  },
  {
   "cell_type": "code",
   "execution_count": null,
   "id": "bdb4b17f-5219-426d-a7e6-07160e6a34f4",
   "metadata": {},
   "outputs": [],
   "source": []
  }
 ],
 "metadata": {
  "kernelspec": {
   "display_name": "Python 3 (ipykernel)",
   "language": "python",
   "name": "python3"
  },
  "language_info": {
   "codemirror_mode": {
    "name": "ipython",
    "version": 3
   },
   "file_extension": ".py",
   "mimetype": "text/x-python",
   "name": "python",
   "nbconvert_exporter": "python",
   "pygments_lexer": "ipython3",
   "version": "3.9.13"
  }
 },
 "nbformat": 4,
 "nbformat_minor": 5
}
