{
 "cells": [
  {
   "cell_type": "markdown",
   "id": "c646d282-0a2d-4ea6-832b-e44e87d4bd79",
   "metadata": {},
   "source": [
    "# Qualitative Graphs"
   ]
  },
  {
   "cell_type": "markdown",
   "id": "79d5cd97-77e5-4bb6-936e-0725b0db801a",
   "metadata": {},
   "source": [
    "## Summary\n",
    "\n",
    "* Qualitative graphs are visual displays of qualitative (categorical) data.\n",
    "* Most common display is the bar graph.\n",
    "* We can graph categorical frequency (the count) or relative frequency (the percent)"
   ]
  },
  {
   "cell_type": "code",
   "execution_count": null,
   "id": "a2d07c5d-d39e-4700-9735-8fb1c5ae62e0",
   "metadata": {},
   "outputs": [],
   "source": [
    "import matplotlib.pyplot as plt\n",
    "import numpy as np  # needed for cluster (grouped) bar chart\n",
    "from collections import Counter  # makes creating bar charts for raw data much easier"
   ]
  },
  {
   "cell_type": "markdown",
   "id": "a3cc765d-f5b9-43ca-b384-82d2f0e01a10",
   "metadata": {},
   "source": [
    "***With all of the tools and techniques available for working with data, why should we bother to obtain a visualization of it?***"
   ]
  },
  {
   "cell_type": "markdown",
   "id": "529e608d-c9c7-44e7-9787-ff3df4c759dd",
   "metadata": {},
   "source": [
    "## Bar Graphs"
   ]
  },
  {
   "cell_type": "markdown",
   "id": "b27ba39b-43f8-4196-8e9f-d82d78379014",
   "metadata": {},
   "source": [
    "A <span style=\"color:blue\">**bar graph**</span> is a visual display of data in which bars are plotted.\n",
    "\n",
    "* One dimension represents each category.\n",
    "* Other dimension represents the frequency (or relative frequency) of each category."
   ]
  },
  {
   "cell_type": "markdown",
   "id": "63ea7910-1581-4d6b-a937-56bcc18e620a",
   "metadata": {},
   "source": [
    "### Example 1."
   ]
  },
  {
   "cell_type": "markdown",
   "id": "a5c4cf2b-6003-4b40-a4e4-7beca41fe309",
   "metadata": {},
   "source": [
    "Construct a bar graph of the following table.\n",
    "\n",
    "|Day|Hours Worked|\n",
    "|:---:|:---:|\n",
    "|Monday|5|\n",
    "|Tuesday|8|\n",
    "|Wednesday|7|\n",
    "|Thursday|6|\n",
    "|Friday|9|"
   ]
  },
  {
   "cell_type": "code",
   "execution_count": null,
   "id": "d0459ae0-864f-48ee-9c30-656a1ac078f8",
   "metadata": {},
   "outputs": [],
   "source": [
    "days = ['Mon', 'Tue', 'Wed', 'Thur', 'Fri']\n",
    "freq = [5, 8, 7, 6, 9]\n",
    "\n",
    "fig, ax = plt.subplots()\n",
    "bar_colors = ['blue', 'green']  # bars can be different colors\n",
    "chart = ax.bar(\n",
    "    days,  # the horizontal (x) axis values\n",
    "    freq,  # the vertical (y) axis values\n",
    "    color = bar_colors  # don't include this if you want all bars to be the same color\n",
    ")\n",
    "ax.set_title(\"Bar Chart Example 1\")  # create a title\n",
    "ax.set_xlabel(\"Day of Week\")  # label the x-axis\n",
    "ax.set_ylabel(\"Frequency\")    # label the y-axis\n",
    "ax.bar_label(chart)  # provides labels for each bar's height\n",
    "\n",
    "plt.show()"
   ]
  },
  {
   "cell_type": "markdown",
   "id": "d3a20722-30cc-4033-8791-d98df27cd457",
   "metadata": {},
   "source": [
    "The cell below will create the same bar graph, but the bars will be horizontal instead of vertical. Preference for one style over the other is purely aesthetic. Notice the `ax.barh` method used."
   ]
  },
  {
   "cell_type": "code",
   "execution_count": null,
   "id": "032aca5e-c722-4d8d-a5c0-bf1f6d39e033",
   "metadata": {},
   "outputs": [],
   "source": [
    "days = ['Mon', 'Tue', 'Wed', 'Thur', 'Fri']\n",
    "freq = [5, 8, 7, 6, 9]\n",
    "\n",
    "fig, ax = plt.subplots()\n",
    "bar_colors = ['blue', 'green']  # bars can be different colors\n",
    "chart = ax.barh(\n",
    "    days,\n",
    "    freq,\n",
    "    color = bar_colors\n",
    ")\n",
    "ax.invert_yaxis()  # go from Mon to Fri instead of Fri to Mon\n",
    "ax.set_title(\"Horizontal Bar Chart Example 1\")  # create a title\n",
    "ax.set_xlabel(\"Frequency\")  # label the x-axis\n",
    "ax.set_ylabel(\"Day of Week\")    # label the y-axis\n",
    "ax.bar_label(chart)  # provides labels for each bar's height\n",
    "\n",
    "plt.show()"
   ]
  },
  {
   "cell_type": "markdown",
   "id": "2b688405-4688-41c3-869b-456d8535a1ba",
   "metadata": {},
   "source": [
    "### Relative Frequency Bar Graphs"
   ]
  },
  {
   "cell_type": "markdown",
   "id": "5770d1c6-fc7c-48bf-b570-72cb6388744b",
   "metadata": {},
   "source": [
    "We can create relative frequency bar graphs which will use proportions (or percentages) for one of the axes; rather than just the raw frequencies. \n",
    "\n",
    "The table below lists the pecentages for the data in Example 1, which were calculated separately.\n",
    "\n",
    "|Day|Percent Total|\n",
    "|:---:|:---:|\n",
    "|Monday|14.29%|\n",
    "|Tuesday|22.86%|\n",
    "|Wednesday|20.00%|\n",
    "|Thursday|17.14%|\n",
    "|Friday|25.71%|"
   ]
  },
  {
   "cell_type": "markdown",
   "id": "7358c634-fb77-46ce-9a9c-deceb5d7d1e6",
   "metadata": {},
   "source": [
    "One way to create a relative frequency bar graph is to use the previously calculated percent values for the frequency list, as shown:"
   ]
  },
  {
   "cell_type": "code",
   "execution_count": null,
   "id": "ab4a96c5-954d-4a04-9ce0-8b71ba3d2248",
   "metadata": {},
   "outputs": [],
   "source": [
    "days = ['Mon', 'Tue', 'Wed', 'Thur', 'Fri']\n",
    "freq = [14.29, 22.86, 20.00, 17.14, 25.71]\n",
    "\n",
    "fig, ax = plt.subplots()\n",
    "bar_colors = ['blue', 'green']  # bars can be different colors\n",
    "chart = ax.bar(\n",
    "    days,  # the horizontal (x) axis values\n",
    "    freq,  # the vertical (y) axis values\n",
    "    color = bar_colors  # don't include this if you want all bars to be the same color\n",
    ")\n",
    "ax.set_title(\"Relative Frequency Bar Chart Example 1\")  # create a title\n",
    "ax.set_xlabel(\"Day of Week\")  # label the x-axis\n",
    "ax.set_ylabel(\"Percent\")    # label the y-axis\n",
    "ax.bar_label(chart)  # provides labels for each bar's height\n",
    "\n",
    "plt.show()"
   ]
  },
  {
   "cell_type": "markdown",
   "id": "924275a0-6160-4caf-982c-480f10a61054",
   "metadata": {},
   "source": [
    "However, we can also utilize Python's ability to calculate the percentages internally to produce the same graph without having to manually calculate the percentages:"
   ]
  },
  {
   "cell_type": "code",
   "execution_count": null,
   "id": "c326dfad-72ff-4cbc-9eef-f020b2b542ff",
   "metadata": {},
   "outputs": [],
   "source": [
    "days = ['Mon', 'Tue', 'Wed', 'Thur', 'Fri']\n",
    "freq = [5, 8, 7, 6, 9]\n",
    "total_freq = sum(freq)  # calculate the sum of all frequencies\n",
    "\n",
    "percents = [round(100 * i/total_freq, 2) for i in freq]  # creates a list of relative frequencies\n",
    "\n",
    "fig, ax = plt.subplots()\n",
    "bar_colors = ['blue', 'green']  # bars can be different colors\n",
    "chart = ax.bar(\n",
    "    days,\n",
    "    percents,\n",
    "    color = bar_colors\n",
    ")\n",
    "ax.set_title(\"Alternative Method for Creating Relative Frequency Bar Graphs\")  # create a title\n",
    "ax.set_xlabel(\"Day of Week\")  # label the x-axis\n",
    "ax.set_ylabel(\"Percent\")    # label the y-axis\n",
    "ax.bar_label(chart)  # provides labels for each bar's height\n",
    "\n",
    "plt.show()"
   ]
  },
  {
   "cell_type": "markdown",
   "id": "ad5f3ebf-7f3e-490e-b779-b7cc6e2a3ccc",
   "metadata": {},
   "source": [
    "### Example 2"
   ]
  },
  {
   "cell_type": "markdown",
   "id": "5513dc92-c91e-47fa-a508-d912464ba5c0",
   "metadata": {},
   "source": [
    "One week, a questionnaire was given to hotel guests asking them to rate their satisfaction with their experience. The ratings ranged from 1 (not satisfied) to 5 (very satisfied). Construct a bar graph of the data below:"
   ]
  },
  {
   "cell_type": "code",
   "execution_count": null,
   "id": "d93759b8-c217-424a-b3c0-dd6c478bfeeb",
   "metadata": {},
   "outputs": [],
   "source": [
    "ratings = [2, 3, 1, 2, 3, 4,\n",
    "           1, 5, 5, 2, 2, 4,\n",
    "           5, 3, 2, 5, 3, 4,\n",
    "           4, 3, 5, 1, 1, 1,\n",
    "           3, 5, 3, 1, 4, 5]"
   ]
  },
  {
   "cell_type": "markdown",
   "id": "c3b3e857-4376-4f30-b8ff-567c2f432d1e",
   "metadata": {},
   "source": [
    "We could, with a little bit of time, obtain counts on each of the ratings. However, and this is especially helpful if we have thousands of ratings, we can also use `Counter` method from the `collections` Python library given at the beginning of this notebook."
   ]
  },
  {
   "cell_type": "code",
   "execution_count": null,
   "id": "6e7f74c7-58f4-4523-9dbd-7a6d5a9637ca",
   "metadata": {},
   "outputs": [],
   "source": [
    "freqs = Counter(ratings)  # this will collect each unique rating and store a count for it\n",
    "horiz_axis = freqs.keys()  # this is each unique rating\n",
    "vert_axis = freqs.values()  # this is the count of each unique rating\n",
    "\n",
    "fig, ax = plt.subplots()\n",
    "bar_colors = ['blue', 'green', 'red']\n",
    "chart = ax.bar(horiz_axis, vert_axis, color = bar_colors)\n",
    "ax.set_title(\"Example 2: Frequency Bar Graph from Raw Data\")  \n",
    "ax.set_xlabel(\"Rating\")  \n",
    "ax.set_ylabel(\"Frequency\")    \n",
    "ax.bar_label(chart)  \n",
    "\n",
    "plt.show()"
   ]
  },
  {
   "cell_type": "markdown",
   "id": "e0013c55-7e24-4b16-aec6-7e0758da944a",
   "metadata": {},
   "source": [
    "### Example 3"
   ]
  },
  {
   "cell_type": "markdown",
   "id": "addf4e7b-55b1-402f-94cc-890eca0b741d",
   "metadata": {},
   "source": [
    "Construct a relative frequency bar graph of the hotel ratings."
   ]
  },
  {
   "cell_type": "code",
   "execution_count": null,
   "id": "3e8806bc-8c6f-415f-8ac4-82eaf9f07379",
   "metadata": {},
   "outputs": [],
   "source": [
    "total_freq = sum(vert_axis)  # use this to find the total frequency\n",
    "\n",
    "# creates a list of relative frequencies for each class as a percentage\n",
    "rel_freqs = [round(100*frequency/total_freq, 2) for frequency in vert_axis]\n",
    "    \n",
    "fig, ax = plt.subplots()\n",
    "bar_colors = ['blue', 'green', 'red']\n",
    "chart = ax.bar(horiz_axis, rel_freqs, color = bar_colors)\n",
    "ax.set_title(\"Example 3: Relative Frequency Bar Graph\")  \n",
    "ax.set_xlabel(\"Rating\")  \n",
    "ax.set_ylabel(\"Percent\")    \n",
    "ax.bar_label(chart)  \n",
    "\n",
    "plt.show()"
   ]
  },
  {
   "cell_type": "markdown",
   "id": "f994c964-cea4-4c63-b121-8b5335bf88e5",
   "metadata": {},
   "source": [
    "### Clustered and Stacked Bar Graphs"
   ]
  },
  {
   "cell_type": "markdown",
   "id": "218d722c-c5fc-400d-ae97-96dc7ffdaaa2",
   "metadata": {},
   "source": [
    "When graphing 2 or more data sets on a bar graph, we can use either clustered or stacked bar graphs.\n",
    "\n",
    "* Clustered bar graphs will place the data sets side-by-side on the graph.\n",
    "* Stacked bar graphs will place one data set on top of the other."
   ]
  },
  {
   "cell_type": "markdown",
   "id": "efc173ba-b6f4-45f7-9b23-24817d72c0b2",
   "metadata": {},
   "source": [
    "### Example 4"
   ]
  },
  {
   "cell_type": "markdown",
   "id": "7a54f355-a308-43ec-9e44-2506c7d4ea20",
   "metadata": {},
   "source": [
    "Seeing the results of the questionnaires, the hotel made some changes and the following month, asked 40 new guests to rate their experience. The results, along with the previous results are listed:\n",
    "\n",
    "|Rating|Freq. (Sample 1)|Freq. (Sample 2)|\n",
    "|:---:|:---:|:---:|\n",
    "|One|6|4|\n",
    "|Two|5|2|\n",
    "|Three|7|12|\n",
    "|Four|5|10|\n",
    "|Five|7|12|"
   ]
  },
  {
   "cell_type": "markdown",
   "id": "ba5d594f-b2aa-4606-a4df-216369bb29b2",
   "metadata": {},
   "source": [
    "(a) Create a clustered bar graph of the ratings."
   ]
  },
  {
   "cell_type": "code",
   "execution_count": null,
   "id": "6f5c812d-8a2f-406e-80c6-0731a19f25b6",
   "metadata": {},
   "outputs": [],
   "source": [
    "ratings = ['1','2','3','4','5']\n",
    "sample1_freq = [6,5,7,5,7]\n",
    "sample2_freq = [4,3,12,10,12]\n",
    "\n",
    "x = np.arange(len(labels))  # the ratings' label locations\n",
    "width = 0.35  # the width of the bars\n",
    "\n",
    "fig, ax = plt.subplots()\n",
    "sample1 = ax.bar(x-width/2, sample1_freq, width, label=\"Sample 1\", color='red')  # need to include label for clustered bar chart\n",
    "sample2 = ax.bar(x+width/2, sample2_freq, width, label=\"Sample 2\", color='blue')\n",
    "\n",
    "ax.set_title(\"Example 4: Clustered Bar Graph\")  \n",
    "ax.set_xlabel(\"Rating\")  \n",
    "ax.set_ylabel(\"Frequency\")\n",
    "ax.bar_label(sample1)\n",
    "ax.bar_label(sample2)\n",
    "ax.legend()  # For knowing individual bar colors\n",
    "\n",
    "plt.show()"
   ]
  },
  {
   "cell_type": "markdown",
   "id": "7fbda3ea-f451-475f-8ec0-edf49379cbb2",
   "metadata": {},
   "source": [
    "(b) Create a stacked bar graph of the ratings."
   ]
  },
  {
   "cell_type": "code",
   "execution_count": null,
   "id": "a62470a8-5211-4135-a542-110c3d799644",
   "metadata": {},
   "outputs": [],
   "source": [
    "ratings = ['1','2','3','4','5']\n",
    "sample1_freq = [6,5,7,5,7]\n",
    "sample2_freq = [4,3,12,10,12]\n",
    "\n",
    "fig, ax = plt.subplots()\n",
    "sample1 = ax.bar(ratings, sample1_freq, label=\"Sample 1\")  # need to include label for stacked bar chart\n",
    "sample2 = ax.bar(ratings, sample2_freq, bottom=sample1_freq, label=\"Sample 2\")\n",
    "\n",
    "ax.set_title(\"Example 4: Stacked Bar Graph\")  \n",
    "ax.set_xlabel(\"Rating\")  \n",
    "ax.set_ylabel(\"Frequency\")    \n",
    "ax.bar_label(sample1, label_type='center')\n",
    "ax.bar_label(sample2, label_type='center')\n",
    "ax.bar_label(sample2)  # adds the heights of both bars\n",
    "ax.legend()  # For knowing individual bar colors\n",
    "\n",
    "plt.show()"
   ]
  },
  {
   "cell_type": "markdown",
   "id": "17741ce2-c38e-484d-9b56-7e322f0d452e",
   "metadata": {},
   "source": [
    "## Pie Charts"
   ]
  },
  {
   "cell_type": "markdown",
   "id": "1ca67d2c-f7ea-4050-ae08-7c78af5460a4",
   "metadata": {},
   "source": [
    "Another common type of qualitative graph is the pie chart. Pie charts\n",
    "\n",
    "* Use area to allow for quick comparison of the part-to-whole nature of percentage. \n",
    "\n",
    "* Each slice of the pie (the central angle) is proportional to the percentage that slice is of the whole.\n",
    "\n",
    "* Are related to a chart called the *donut chart*"
   ]
  },
  {
   "cell_type": "markdown",
   "id": "83eec5d4-b689-4d2b-810e-3483bcd614a7",
   "metadata": {},
   "source": [
    "***Warning!! Mr. Bain's Opinion:*** I, personally, don't like pie charts and donut charts. I find using area seems unnecessary when trying to convey information that the height of a bar graph can easily provide (especially when the heights are labeled.)"
   ]
  },
  {
   "cell_type": "markdown",
   "id": "105b6d11-b939-4af0-87f4-d4f060f2d701",
   "metadata": {},
   "source": [
    "### Example 5"
   ]
  },
  {
   "cell_type": "markdown",
   "id": "8c91ed99-cbf6-402a-8cae-a3d7f7ff61aa",
   "metadata": {},
   "source": [
    "Create a pie chart for the number of hours worked in Example 1. Then determine what percent of the week was spent working on Monday and Tuesday?"
   ]
  },
  {
   "cell_type": "code",
   "execution_count": null,
   "id": "9cc4b313-c587-4cf6-a8ba-58edf40edda4",
   "metadata": {},
   "outputs": [],
   "source": [
    "days = ['Mon', 'Tue', 'Wed', 'Thur', 'Fri']\n",
    "freq = [5, 8, 7, 6, 9]\n",
    "wedge_colors = ['violet', 'yellow', 'silver', 'orange', 'lightblue']\n",
    "\n",
    "fig, ax = plt.subplots()\n",
    "chart = ax.pie(\n",
    "    x = freq, \n",
    "    labels = days,\n",
    "    colors = wedge_colors,\n",
    "    autopct='%0.2f%%'  # the number before f is the number of decimal places for displaying percents\n",
    ")\n",
    "ax.set_title(\"Pie Chart of Example 1 \\n\")  # create a title with newline separator \\n\n",
    "ax.axis('equal')  # forces pie to be drawn as a circle\n",
    "\n",
    "plt.show()"
   ]
  },
  {
   "cell_type": "markdown",
   "id": "44ebe25c-1848-496b-918e-8b39ecabce8c",
   "metadata": {},
   "source": [
    "Below is a donut chart of the above pie chart. It's literally just the pie chart with a hole in the middle."
   ]
  },
  {
   "cell_type": "code",
   "execution_count": null,
   "id": "fe20edc2-33af-45e0-9fb5-ae5b8ea0d0dd",
   "metadata": {},
   "outputs": [],
   "source": [
    "days = ['Mon', 'Tue', 'Wed', 'Thur', 'Fri']\n",
    "freq = [5, 8, 7, 6, 9]\n",
    "wedge_colors = ['violet', 'yellow', 'silver', 'orange', 'lightblue']\n",
    "\n",
    "fig, ax = plt.subplots()\n",
    "chart = ax.pie(\n",
    "    x = freq, \n",
    "    labels = days,\n",
    "    colors = wedge_colors,\n",
    "    autopct='%0.2f%%'  # the number before f is the number of decimal places for displaying percents\n",
    ")\n",
    "\n",
    "hole = plt.Circle(\n",
    "    xy = (0,0),  # coordinates of the center of the circle\n",
    "    radius = 0.8,\n",
    "    color = 'white'  # background color of circle\n",
    "    )\n",
    "\n",
    "fig = plt.gcf()\n",
    "fig.gca().add_artist(hole)\n",
    "ax.set_title(\"Donut Chart of Example 1 \\n\")  # create a title with newline separator \\n\n",
    "ax.axis('equal')  # forces pie to be drawn as a circle\n",
    "\n",
    "plt.show()"
   ]
  },
  {
   "cell_type": "code",
   "execution_count": null,
   "id": "2b18763a-faa0-4503-9a89-9c326cb6c988",
   "metadata": {},
   "outputs": [],
   "source": []
  }
 ],
 "metadata": {
  "kernelspec": {
   "display_name": "Python 3 (ipykernel)",
   "language": "python",
   "name": "python3"
  },
  "language_info": {
   "codemirror_mode": {
    "name": "ipython",
    "version": 3
   },
   "file_extension": ".py",
   "mimetype": "text/x-python",
   "name": "python",
   "nbconvert_exporter": "python",
   "pygments_lexer": "ipython3",
   "version": "3.9.13"
  }
 },
 "nbformat": 4,
 "nbformat_minor": 5
}
